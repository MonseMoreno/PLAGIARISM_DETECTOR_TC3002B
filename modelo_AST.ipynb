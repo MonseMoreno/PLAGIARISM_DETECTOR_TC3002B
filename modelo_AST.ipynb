{
 "cells": [
  {
   "cell_type": "code",
   "execution_count": 15,
   "id": "ee671722",
   "metadata": {},
   "outputs": [
    {
     "name": "stdout",
     "output_type": "stream",
     "text": [
      "Requirement already satisfied: pandas in c:\\users\\pablo\\anaconda3\\lib\\site-packages (1.4.4)\n",
      "Requirement already satisfied: scikit-learn in c:\\users\\pablo\\anaconda3\\lib\\site-packages (1.0.2)\n",
      "Requirement already satisfied: xgboost in c:\\users\\pablo\\anaconda3\\lib\\site-packages (2.1.4)\n",
      "Requirement already satisfied: tensorflow in c:\\users\\pablo\\anaconda3\\lib\\site-packages (2.15.0)\n",
      "Requirement already satisfied: joblib in c:\\users\\pablo\\anaconda3\\lib\\site-packages (1.1.0)\n",
      "Requirement already satisfied: python-dateutil>=2.8.1 in c:\\users\\pablo\\anaconda3\\lib\\site-packages (from pandas) (2.8.2)\n",
      "Requirement already satisfied: pytz>=2020.1 in c:\\users\\pablo\\anaconda3\\lib\\site-packages (from pandas) (2022.1)\n",
      "Requirement already satisfied: numpy>=1.18.5 in c:\\users\\pablo\\anaconda3\\lib\\site-packages (from pandas) (1.24.4)\n",
      "Requirement already satisfied: scipy>=1.1.0 in c:\\users\\pablo\\anaconda3\\lib\\site-packages (from scikit-learn) (1.9.1)\n",
      "Requirement already satisfied: threadpoolctl>=2.0.0 in c:\\users\\pablo\\anaconda3\\lib\\site-packages (from scikit-learn) (2.2.0)\n",
      "Requirement already satisfied: tensorflow-intel==2.15.0 in c:\\users\\pablo\\anaconda3\\lib\\site-packages (from tensorflow) (2.15.0)\n",
      "Requirement already satisfied: absl-py>=1.0.0 in c:\\users\\pablo\\anaconda3\\lib\\site-packages (from tensorflow-intel==2.15.0->tensorflow) (2.2.2)\n",
      "Requirement already satisfied: astunparse>=1.6.0 in c:\\users\\pablo\\anaconda3\\lib\\site-packages (from tensorflow-intel==2.15.0->tensorflow) (1.6.3)\n",
      "Requirement already satisfied: flatbuffers>=23.5.26 in c:\\users\\pablo\\anaconda3\\lib\\site-packages (from tensorflow-intel==2.15.0->tensorflow) (25.2.10)\n",
      "Requirement already satisfied: gast!=0.5.0,!=0.5.1,!=0.5.2,>=0.2.1 in c:\\users\\pablo\\anaconda3\\lib\\site-packages (from tensorflow-intel==2.15.0->tensorflow) (0.6.0)\n",
      "Requirement already satisfied: google-pasta>=0.1.1 in c:\\users\\pablo\\anaconda3\\lib\\site-packages (from tensorflow-intel==2.15.0->tensorflow) (0.2.0)\n",
      "Requirement already satisfied: h5py>=2.9.0 in c:\\users\\pablo\\anaconda3\\lib\\site-packages (from tensorflow-intel==2.15.0->tensorflow) (3.13.0)\n",
      "Requirement already satisfied: libclang>=13.0.0 in c:\\users\\pablo\\anaconda3\\lib\\site-packages (from tensorflow-intel==2.15.0->tensorflow) (18.1.1)\n",
      "Requirement already satisfied: ml-dtypes~=0.2.0 in c:\\users\\pablo\\anaconda3\\lib\\site-packages (from tensorflow-intel==2.15.0->tensorflow) (0.2.0)\n",
      "Requirement already satisfied: opt-einsum>=2.3.2 in c:\\users\\pablo\\anaconda3\\lib\\site-packages (from tensorflow-intel==2.15.0->tensorflow) (3.4.0)\n",
      "Requirement already satisfied: packaging in c:\\users\\pablo\\anaconda3\\lib\\site-packages (from tensorflow-intel==2.15.0->tensorflow) (25.0)\n",
      "Requirement already satisfied: protobuf!=4.21.0,!=4.21.1,!=4.21.2,!=4.21.3,!=4.21.4,!=4.21.5,<5.0.0dev,>=3.20.3 in c:\\users\\pablo\\anaconda3\\lib\\site-packages (from tensorflow-intel==2.15.0->tensorflow) (4.25.7)\n",
      "Requirement already satisfied: setuptools in c:\\users\\pablo\\anaconda3\\lib\\site-packages (from tensorflow-intel==2.15.0->tensorflow) (80.4.0)\n",
      "Requirement already satisfied: six>=1.12.0 in c:\\users\\pablo\\anaconda3\\lib\\site-packages (from tensorflow-intel==2.15.0->tensorflow) (1.17.0)\n",
      "Requirement already satisfied: termcolor>=1.1.0 in c:\\users\\pablo\\anaconda3\\lib\\site-packages (from tensorflow-intel==2.15.0->tensorflow) (3.1.0)\n",
      "Requirement already satisfied: typing-extensions>=3.6.6 in c:\\users\\pablo\\anaconda3\\lib\\site-packages (from tensorflow-intel==2.15.0->tensorflow) (4.13.2)\n",
      "Requirement already satisfied: wrapt<1.15,>=1.11.0 in c:\\users\\pablo\\anaconda3\\lib\\site-packages (from tensorflow-intel==2.15.0->tensorflow) (1.14.1)\n",
      "Requirement already satisfied: tensorflow-io-gcs-filesystem>=0.23.1 in c:\\users\\pablo\\anaconda3\\lib\\site-packages (from tensorflow-intel==2.15.0->tensorflow) (0.31.0)\n",
      "Requirement already satisfied: grpcio<2.0,>=1.24.3 in c:\\users\\pablo\\anaconda3\\lib\\site-packages (from tensorflow-intel==2.15.0->tensorflow) (1.71.0)\n",
      "Requirement already satisfied: tensorboard<2.16,>=2.15 in c:\\users\\pablo\\anaconda3\\lib\\site-packages (from tensorflow-intel==2.15.0->tensorflow) (2.15.2)\n",
      "Requirement already satisfied: tensorflow-estimator<2.16,>=2.15.0 in c:\\users\\pablo\\anaconda3\\lib\\site-packages (from tensorflow-intel==2.15.0->tensorflow) (2.15.0)\n",
      "Requirement already satisfied: keras<2.16,>=2.15.0 in c:\\users\\pablo\\anaconda3\\lib\\site-packages (from tensorflow-intel==2.15.0->tensorflow) (2.15.0)\n",
      "Requirement already satisfied: google-auth<3,>=1.6.3 in c:\\users\\pablo\\anaconda3\\lib\\site-packages (from tensorboard<2.16,>=2.15->tensorflow-intel==2.15.0->tensorflow) (2.40.1)\n",
      "Requirement already satisfied: google-auth-oauthlib<2,>=0.5 in c:\\users\\pablo\\anaconda3\\lib\\site-packages (from tensorboard<2.16,>=2.15->tensorflow-intel==2.15.0->tensorflow) (1.2.2)\n",
      "Requirement already satisfied: markdown>=2.6.8 in c:\\users\\pablo\\anaconda3\\lib\\site-packages (from tensorboard<2.16,>=2.15->tensorflow-intel==2.15.0->tensorflow) (3.8)\n",
      "Requirement already satisfied: requests<3,>=2.21.0 in c:\\users\\pablo\\anaconda3\\lib\\site-packages (from tensorboard<2.16,>=2.15->tensorflow-intel==2.15.0->tensorflow) (2.32.3)\n",
      "Requirement already satisfied: tensorboard-data-server<0.8.0,>=0.7.0 in c:\\users\\pablo\\anaconda3\\lib\\site-packages (from tensorboard<2.16,>=2.15->tensorflow-intel==2.15.0->tensorflow) (0.7.2)\n",
      "Requirement already satisfied: werkzeug>=1.0.1 in c:\\users\\pablo\\anaconda3\\lib\\site-packages (from tensorboard<2.16,>=2.15->tensorflow-intel==2.15.0->tensorflow) (3.1.3)\n",
      "Requirement already satisfied: cachetools<6.0,>=2.0.0 in c:\\users\\pablo\\anaconda3\\lib\\site-packages (from google-auth<3,>=1.6.3->tensorboard<2.16,>=2.15->tensorflow-intel==2.15.0->tensorflow) (5.5.2)\n",
      "Requirement already satisfied: pyasn1-modules>=0.2.1 in c:\\users\\pablo\\anaconda3\\lib\\site-packages (from google-auth<3,>=1.6.3->tensorboard<2.16,>=2.15->tensorflow-intel==2.15.0->tensorflow) (0.4.2)\n",
      "Requirement already satisfied: rsa<5,>=3.1.4 in c:\\users\\pablo\\anaconda3\\lib\\site-packages (from google-auth<3,>=1.6.3->tensorboard<2.16,>=2.15->tensorflow-intel==2.15.0->tensorflow) (4.9.1)\n",
      "Requirement already satisfied: requests-oauthlib>=0.7.0 in c:\\users\\pablo\\anaconda3\\lib\\site-packages (from google-auth-oauthlib<2,>=0.5->tensorboard<2.16,>=2.15->tensorflow-intel==2.15.0->tensorflow) (2.0.0)\n",
      "Requirement already satisfied: charset-normalizer<4,>=2 in c:\\users\\pablo\\anaconda3\\lib\\site-packages (from requests<3,>=2.21.0->tensorboard<2.16,>=2.15->tensorflow-intel==2.15.0->tensorflow) (3.4.2)\n",
      "Requirement already satisfied: idna<4,>=2.5 in c:\\users\\pablo\\anaconda3\\lib\\site-packages (from requests<3,>=2.21.0->tensorboard<2.16,>=2.15->tensorflow-intel==2.15.0->tensorflow) (3.10)\n",
      "Requirement already satisfied: urllib3<3,>=1.21.1 in c:\\users\\pablo\\anaconda3\\lib\\site-packages (from requests<3,>=2.21.0->tensorboard<2.16,>=2.15->tensorflow-intel==2.15.0->tensorflow) (2.4.0)\n",
      "Requirement already satisfied: certifi>=2017.4.17 in c:\\users\\pablo\\anaconda3\\lib\\site-packages (from requests<3,>=2.21.0->tensorboard<2.16,>=2.15->tensorflow-intel==2.15.0->tensorflow) (2025.4.26)\n",
      "Requirement already satisfied: pyasn1>=0.1.3 in c:\\users\\pablo\\anaconda3\\lib\\site-packages (from rsa<5,>=3.1.4->google-auth<3,>=1.6.3->tensorboard<2.16,>=2.15->tensorflow-intel==2.15.0->tensorflow) (0.6.1)\n",
      "Requirement already satisfied: wheel<1.0,>=0.23.0 in c:\\users\\pablo\\anaconda3\\lib\\site-packages (from astunparse>=1.6.0->tensorflow-intel==2.15.0->tensorflow) (0.45.1)\n",
      "Requirement already satisfied: importlib-metadata>=4.4 in c:\\users\\pablo\\anaconda3\\lib\\site-packages (from markdown>=2.6.8->tensorboard<2.16,>=2.15->tensorflow-intel==2.15.0->tensorflow) (8.7.0)\n",
      "Requirement already satisfied: zipp>=3.20 in c:\\users\\pablo\\anaconda3\\lib\\site-packages (from importlib-metadata>=4.4->markdown>=2.6.8->tensorboard<2.16,>=2.15->tensorflow-intel==2.15.0->tensorflow) (3.21.0)\n",
      "Requirement already satisfied: oauthlib>=3.0.0 in c:\\users\\pablo\\anaconda3\\lib\\site-packages (from requests-oauthlib>=0.7.0->google-auth-oauthlib<2,>=0.5->tensorboard<2.16,>=2.15->tensorflow-intel==2.15.0->tensorflow) (3.2.2)\n",
      "Requirement already satisfied: MarkupSafe>=2.1.1 in c:\\users\\pablo\\anaconda3\\lib\\site-packages (from werkzeug>=1.0.1->tensorboard<2.16,>=2.15->tensorflow-intel==2.15.0->tensorflow) (3.0.2)\n",
      "Note: you may need to restart the kernel to use updated packages.\n"
     ]
    }
   ],
   "source": [
    "%pip install pandas scikit-learn xgboost tensorflow joblib"
   ]
  },
  {
   "cell_type": "code",
   "execution_count": 16,
   "id": "8803c204",
   "metadata": {},
   "outputs": [
    {
     "name": "stdout",
     "output_type": "stream",
     "text": [
      "Vocab Markov detectado: 52 nodos  =>  2704 números por matriz\n"
     ]
    }
   ],
   "source": [
    "# train_models.py\n",
    "from pathlib import Path\n",
    "import pandas as pd\n",
    "import numpy as np\n",
    "from sklearn.model_selection import GridSearchCV\n",
    "from sklearn.metrics import accuracy_score, f1_score, roc_auc_score\n",
    "from sklearn.preprocessing import StandardScaler\n",
    "from sklearn.pipeline import Pipeline\n",
    "from sklearn.compose import ColumnTransformer\n",
    "from sklearn.linear_model import LogisticRegression\n",
    "from sklearn.ensemble import RandomForestClassifier\n",
    "from xgboost import XGBClassifier\n",
    "from joblib import dump\n",
    "import tensorflow as tf\n",
    "\n",
    "# ------------------------------------------------------------------\n",
    "# 1. Carga de datos\n",
    "# ------------------------------------------------------------------\n",
    "DATA_DIR = Path('.')          # ajusta si lo necesitas\n",
    "train_df = pd.read_csv(DATA_DIR / 'train.csv')\n",
    "val_df   = pd.read_csv(DATA_DIR / 'val.csv')\n",
    "test_df  = pd.read_csv(DATA_DIR / 'test.csv')\n",
    "\n",
    "target_col  = 'result'\n",
    "\n",
    "# ------------------------------------------------------------------\n",
    "# Cargar cadenas de MArkov\n",
    "# ------------------------------------------------------------------\n",
    "SPACE = \" \"\n",
    "def str_to_vec(s: str) -> np.ndarray:\n",
    "    \"\"\"Convierte la cadena '0.123 0.0 …' en vector float32.\"\"\"\n",
    "    return np.fromstring(s, sep=SPACE, dtype=np.float32)\n",
    "\n",
    "def build_feature_matrix(df: pd.DataFrame) -> np.ndarray:\n",
    "    \"\"\"\n",
    "    Output:  [simhash, astsimilarity,  markov1(flat) , markov2(flat) , |diff| ]\n",
    "              └─2 cols──┘          └────────── 3 × L  ───────────────┘\n",
    "    \"\"\"\n",
    "    base   = df[[\"simhash\", \"astsimilarity\"]].values.astype(\"float32\")\n",
    "\n",
    "    m1 = np.vstack(df[\"markov1\"].apply(str_to_vec))\n",
    "    m2 = np.vstack(df[\"markov2\"].apply(str_to_vec))\n",
    "    diff = np.abs(m1 - m2)\n",
    "\n",
    "    return np.hstack([base, m1, m2, diff])\n",
    "\n",
    "vlen   = len(str_to_vec(train_df[\"markov1\"].iloc[0]))\n",
    "dim_v  = int(np.sqrt(vlen))\n",
    "print(f\"Vocab Markov detectado: {dim_v} nodos  =>  {vlen} números por matriz\")\n"
   ]
  },
  {
   "cell_type": "code",
   "execution_count": 17,
   "id": "dcd52868",
   "metadata": {},
   "outputs": [],
   "source": [
    "\n",
    "\n",
    "feature_cols = [\"simhash\", \"astsimilarity\"]\n",
    "\n",
    "X_train = build_feature_matrix(train_df)\n",
    "X_val   = build_feature_matrix(val_df)\n",
    "X_test  = build_feature_matrix(test_df)\n",
    "\n",
    "y_train = train_df[target_col].astype(\"int8\").values\n",
    "y_val   = val_df  [target_col].astype(\"int8\").values\n",
    "y_test  = test_df [target_col].astype(\"int8\").values\n",
    "\n",
    "# ------------------------------------------------------------------\n",
    "# 2. Pre-procesamiento: escalamos numéricos\n",
    "# ------------------------------------------------------------------\n",
    "scaler = StandardScaler()\n",
    "X_train_sc = scaler.fit_transform(X_train)\n",
    "X_val_sc   = scaler.transform(X_val)\n",
    "X_test_sc  = scaler.transform(X_test)\n"
   ]
  },
  {
   "cell_type": "code",
   "execution_count": 18,
   "id": "e90c4e4f",
   "metadata": {},
   "outputs": [
    {
     "name": "stdout",
     "output_type": "stream",
     "text": [
      "\n",
      "🟢 TensorFlow — Test metrics\n",
      "loss: 0.4524\n",
      "accuracy: 0.7771\n",
      "auc: 0.8934\n"
     ]
    }
   ],
   "source": [
    "\n",
    "# ------------------------------------------------------------------\n",
    "# 3. Modelo 0 — Baseline con TensorFlow\n",
    "# ------------------------------------------------------------------\n",
    "def build_tf_model(input_dim):\n",
    "    model = tf.keras.Sequential([\n",
    "        tf.keras.layers.InputLayer(input_shape=(input_dim,)),\n",
    "        tf.keras.layers.Dense(128, activation='relu'),\n",
    "        tf.keras.layers.Dropout(0.4),\n",
    "        tf.keras.layers.Dense(64, activation='relu'),\n",
    "        tf.keras.layers.Dense(1,  activation='sigmoid')\n",
    "    ])\n",
    "    model.compile(optimizer='adam',\n",
    "                  loss='binary_crossentropy',\n",
    "                  metrics=['accuracy', tf.keras.metrics.AUC(name='auc')])\n",
    "    return model\n",
    "\n",
    "tf_model = build_tf_model(X_train_sc.shape[1])\n",
    "tf_model.fit(X_train_sc, y_train,\n",
    "             validation_data=(X_val_sc, y_val),\n",
    "             epochs=50, batch_size=256, verbose=0,\n",
    "             callbacks=[tf.keras.callbacks.EarlyStopping(patience=5, restore_best_weights=True)])\n",
    "\n",
    "print('\\n🟢 TensorFlow — Test metrics')\n",
    "tf_metrics = tf_model.evaluate(X_test_sc, y_test, verbose=0)\n",
    "for name, val in zip(tf_model.metrics_names, tf_metrics):\n",
    "    print(f'{name}: {val:.4f}')\n",
    "tf_model.save('tf_baseline.keras')\n"
   ]
  },
  {
   "cell_type": "code",
   "execution_count": 19,
   "id": "b34a6e2d",
   "metadata": {},
   "outputs": [
    {
     "name": "stdout",
     "output_type": "stream",
     "text": [
      "\n",
      "🟢 LogReg — Val accuracy: 0.7157190635451505\n"
     ]
    },
    {
     "data": {
      "text/plain": [
       "['logreg.joblib']"
      ]
     },
     "execution_count": 19,
     "metadata": {},
     "output_type": "execute_result"
    }
   ],
   "source": [
    "\n",
    "# ------------------------------------------------------------------\n",
    "# 4. Modelo 1 — Regresión logística\n",
    "# ------------------------------------------------------------------\n",
    "logreg = LogisticRegression(max_iter=2000, n_jobs=-1)\n",
    "logreg.fit(X_train_sc, y_train)\n",
    "print('\\n🟢 LogReg — Val accuracy:',\n",
    "      accuracy_score(y_val, logreg.predict(X_val_sc)))\n",
    "dump(('scaler', scaler, 'logreg', logreg), 'logreg.joblib')\n"
   ]
  },
  {
   "cell_type": "code",
   "execution_count": 20,
   "id": "967a92b0",
   "metadata": {},
   "outputs": [
    {
     "name": "stdout",
     "output_type": "stream",
     "text": [
      "\n",
      "🟢 RandomForest — Val accuracy: 0.7090301003344481\n"
     ]
    },
    {
     "data": {
      "text/plain": [
       "['rf.joblib']"
      ]
     },
     "execution_count": 20,
     "metadata": {},
     "output_type": "execute_result"
    }
   ],
   "source": [
    "\n",
    "# ------------------------------------------------------------------\n",
    "# 5. Modelo 2 — Random Forest\n",
    "# ------------------------------------------------------------------\n",
    "rf = RandomForestClassifier(\n",
    "        n_estimators=400,\n",
    "        max_depth=None,\n",
    "        class_weight='balanced',\n",
    "        n_jobs=-1,\n",
    "        random_state=42)\n",
    "rf.fit(X_train, y_train)                  # RF no necesita escalado\n",
    "print('\\n🟢 RandomForest — Val accuracy:',\n",
    "      accuracy_score(y_val, rf.predict(X_val)))\n",
    "dump(rf, 'rf.joblib')\n"
   ]
  },
  {
   "cell_type": "code",
   "execution_count": 21,
   "id": "ecaa2b59",
   "metadata": {},
   "outputs": [
    {
     "name": "stdout",
     "output_type": "stream",
     "text": [
      "\n",
      "🟢 XGBoost — Val accuracy: 0.7859531772575251\n"
     ]
    }
   ],
   "source": [
    "\n",
    "# ------------------------------------------------------------------\n",
    "# 6. Modelo 3 — XGBoost\n",
    "# ------------------------------------------------------------------\n",
    "xgb_clf = XGBClassifier(\n",
    "        n_estimators=800,\n",
    "        learning_rate=0.05,\n",
    "        max_depth=8,\n",
    "        subsample=0.9,\n",
    "        colsample_bytree=0.8,\n",
    "        objective='binary:logistic',\n",
    "        eval_metric='logloss',\n",
    "        n_jobs=-1,\n",
    "        random_state=42)\n",
    "\n",
    "xgb_clf.fit(X_train, y_train,\n",
    "            eval_set=[(X_val, y_val)],\n",
    "            verbose=False)\n",
    "\n",
    "print('\\n🟢 XGBoost — Val accuracy:',\n",
    "      accuracy_score(y_val, (xgb_clf.predict(X_val) > 0.5)))\n",
    "xgb_clf.save_model('xgb.json')\n"
   ]
  },
  {
   "cell_type": "code",
   "execution_count": 22,
   "id": "a51a3670",
   "metadata": {},
   "outputs": [
    {
     "name": "stdout",
     "output_type": "stream",
     "text": [
      "\n",
      "📊  Métricas finales en TEST:\n",
      "🔸 LogReg: acc=0.7651 f1=0.7174 auc=0.8787\n",
      "🔸 RandomForest: acc=0.8283 f1=0.8106 auc=0.9107\n",
      "🔸 XGBoost: acc=0.8494 f1=0.8387 auc=0.9308\n",
      "11/11 [==============================] - 0s 2ms/step\n",
      "🔸 TensorFlow: acc=0.7771 f1=0.7413 auc=0.8932\n"
     ]
    }
   ],
   "source": [
    "\n",
    "# ------------------------------------------------------------------\n",
    "# 7. Comparación final en TEST\n",
    "# ------------------------------------------------------------------\n",
    "def evaluate(name, y_true, y_pred, y_prob):\n",
    "    print(f'🔸 {name}: acc={accuracy_score(y_true, y_pred):.4f}',\n",
    "          f'f1={f1_score(y_true, y_pred):.4f}',\n",
    "          f'auc={roc_auc_score(y_true, y_prob):.4f}')\n",
    "\n",
    "print('\\n📊  Métricas finales en TEST:')\n",
    "evaluate('LogReg',\n",
    "         y_test,\n",
    "         logreg.predict(X_test_sc),\n",
    "         logreg.predict_proba(X_test_sc)[:,1])\n",
    "\n",
    "evaluate('RandomForest',\n",
    "         y_test,\n",
    "         rf.predict(X_test),\n",
    "         rf.predict_proba(X_test)[:,1])\n",
    "\n",
    "evaluate(\"XGBoost\",\n",
    "         y_test,\n",
    "         (xgb_clf.predict(X_test) > 0.5),\n",
    "         xgb_clf.predict_proba(X_test)[:,1])\n",
    "\n",
    "tf_pred_prob = tf_model.predict(X_test_sc).ravel()\n",
    "tf_pred_bin  = (tf_pred_prob > 0.5).astype(int)\n",
    "evaluate(\"TensorFlow\", y_test, tf_pred_bin, tf_pred_prob)\n"
   ]
  },
  {
   "cell_type": "code",
   "execution_count": null,
   "id": "c47d6194",
   "metadata": {},
   "outputs": [
    {
     "name": "stdout",
     "output_type": "stream",
     "text": [
      "11/11 [==============================] - 0s 1ms/step\n"
     ]
    },
    {
     "data": {
      "image/png": "[encoded data removed]",
      "text/plain": [
       "<Figure size 550x550 with 1 Axes>"
      ]
     },
     "metadata": {},
     "output_type": "display_data"
    },
    {
     "name": "stdout",
     "output_type": "stream",
     "text": [
      "\n",
      "Reporte de clasificación — LogReg\n",
      "              precision    recall  f1-score   support\n",
      "\n",
      "   No-Plagio       0.72      0.89      0.80       174\n",
      "      Plagio       0.84      0.63      0.72       158\n",
      "\n",
      "    accuracy                           0.77       332\n",
      "   macro avg       0.78      0.76      0.76       332\n",
      "weighted avg       0.78      0.77      0.76       332\n",
      "\n"
     ]
    },
    {
     "data": {
      "image/png": "[encoded data removed]",
      "text/plain": [
       "<Figure size 550x550 with 1 Axes>"
      ]
     },
     "metadata": {},
     "output_type": "display_data"
    },
    {
     "name": "stdout",
     "output_type": "stream",
     "text": [
      "\n",
      "Reporte de clasificación — RandomForest\n",
      "              precision    recall  f1-score   support\n",
      "\n",
      "   No-Plagio       0.81      0.88      0.84       174\n",
      "      Plagio       0.85      0.77      0.81       158\n",
      "\n",
      "    accuracy                           0.83       332\n",
      "   macro avg       0.83      0.83      0.83       332\n",
      "weighted avg       0.83      0.83      0.83       332\n",
      "\n"
     ]
    },
    {
     "data": {
      "image/png": "[encoded data removed]",
      "text/plain": [
       "<Figure size 550x550 with 1 Axes>"
      ]
     },
     "metadata": {},
     "output_type": "display_data"
    },
    {
     "name": "stdout",
     "output_type": "stream",
     "text": [
      "\n",
      "Reporte de clasificación — XGBoost\n",
      "              precision    recall  f1-score   support\n",
      "\n",
      "   No-Plagio       0.84      0.87      0.86       174\n",
      "      Plagio       0.86      0.82      0.84       158\n",
      "\n",
      "    accuracy                           0.85       332\n",
      "   macro avg       0.85      0.85      0.85       332\n",
      "weighted avg       0.85      0.85      0.85       332\n",
      "\n"
     ]
    },
    {
     "data": {
      "image/png": "[encoded data removed]",
      "text/plain": [
       "<Figure size 550x550 with 1 Axes>"
      ]
     },
     "metadata": {},
     "output_type": "display_data"
    },
    {
     "name": "stdout",
     "output_type": "stream",
     "text": [
      "\n",
      "Reporte de clasificación — TensorFlow\n",
      "              precision    recall  f1-score   support\n",
      "\n",
      "   No-Plagio       0.75      0.87      0.80       174\n",
      "      Plagio       0.83      0.67      0.74       158\n",
      "\n",
      "    accuracy                           0.78       332\n",
      "   macro avg       0.79      0.77      0.77       332\n",
      "weighted avg       0.78      0.78      0.77       332\n",
      "\n"
     ]
    }
   ],
   "source": [
    "# ---------------------------------------------------------------\n",
    "#  MATRICES DE CONFUSIÓN (set de TEST)\n",
    "# ---------------------------------------------------------------\n",
    "import matplotlib.pyplot as plt\n",
    "from sklearn.metrics import confusion_matrix, ConfusionMatrixDisplay, classification_report\n",
    "\n",
    "plt.rcParams[\"figure.figsize\"] = (5.5, 5.5)\n",
    "\n",
    "# --- predicciones ------------------------------------------------\n",
    "y_pred_logreg = logreg.predict(X_test_sc)\n",
    "y_pred_rf = rf.predict(X_test)\n",
    "y_pred_xgb = (xgb_clf.predict(X_test) > 0.5).astype(int)\n",
    "tf_prob = tf_model.predict(X_test_sc).ravel()\n",
    "y_pred_tf = (tf_prob > 0.5).astype(int)\n",
    "\n",
    "# --- modelos + preds en un dict ---------------------------------\n",
    "models = {\n",
    "    \"LogReg\" : y_pred_logreg,\n",
    "    \"RandomForest\" : y_pred_rf,\n",
    "    \"XGBoost\" : y_pred_xgb,\n",
    "    \"TensorFlow\" : y_pred_tf\n",
    "}\n",
    "\n",
    "# --- dibuja e imprime -------------------------------------------\n",
    "for name, y_pred in models.items():\n",
    "    cm = confusion_matrix(y_test, y_pred)\n",
    "    disp = ConfusionMatrixDisplay(confusion_matrix=cm,\n",
    "                                  display_labels=[\"No-Plagio\", \"Plagio\"])\n",
    "    fig, ax = plt.subplots()\n",
    "    disp.plot(ax=ax, cmap=\"Blues\", colorbar=False, values_format=\"d\")\n",
    "    ax.set_title(f\"Matriz de confusión — {name}\")\n",
    "    plt.tight_layout()\n",
    "    plt.show()\n",
    "\n",
    "    print(f\"\\nReporte de clasificación — {name}\")\n",
    "    print(classification_report(y_test, y_pred,\n",
    "                                target_names=[\"No-Plagio\", \"Plagio\"]))\n"
   ]
  }
 ],
 "metadata": {
  "kernelspec": {
   "display_name": "base",
   "language": "python",
   "name": "python3"
  },
  "language_info": {
   "codemirror_mode": {
    "name": "ipython",
    "version": 3
   },
   "file_extension": ".py",
   "mimetype": "text/x-python",
   "name": "python",
   "nbconvert_exporter": "python",
   "pygments_lexer": "ipython3",
   "version": "3.9.13"
  }
 },
 "nbformat": 4,
 "nbformat_minor": 5
}
