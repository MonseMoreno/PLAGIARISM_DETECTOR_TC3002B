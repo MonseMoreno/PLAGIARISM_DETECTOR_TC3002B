{
 "cells": [
  {
   "cell_type": "code",
   "execution_count": 3,
   "id": "86591ea3",
   "metadata": {},
   "outputs": [],
   "source": [
    "import pandas as pd\n",
    "from sklearn.model_selection import train_test_split\n",
    "\n",
    "df = pd.read_csv('dataset_Similarity_calculation.csv')\n",
    "train_rows = []\n",
    "val_rows = []\n",
    "test_rows = []\n",
    "\n",
    "for dataset_name in df['dataset'].unique():\n",
    "    subset = df[df['dataset'] == dataset_name]\n",
    "    \n",
    "    train_part, temp_part = train_test_split(subset, test_size=0.2, random_state=42)\n",
    "    val_part, test_part = train_test_split(temp_part, test_size=0.5, random_state=42)\n",
    "\n",
    "    train_rows.append(train_part)\n",
    "    val_rows.append(val_part)\n",
    "    test_rows.append(test_part)\n",
    "\n",
    "train_df = pd.concat(train_rows).reset_index(drop=True)\n",
    "val_df = pd.concat(val_rows).reset_index(drop=True)\n",
    "test_df = pd.concat(test_rows).reset_index(drop=True)\n",
    "\n",
    "train_df.to_csv('train.csv', index=False, quoting=1)\n",
    "val_df.to_csv('val.csv', index=False, quoting=1)\n",
    "test_df.to_csv('test.csv', index=False, quoting=1)"
   ]
  }
 ],
 "metadata": {
  "kernelspec": {
   "display_name": "Python 3",
   "language": "python",
   "name": "python3"
  },
  "language_info": {
   "codemirror_mode": {
    "name": "ipython",
    "version": 3
   },
   "file_extension": ".py",
   "mimetype": "text/x-python",
   "name": "python",
   "nbconvert_exporter": "python",
   "pygments_lexer": "ipython3",
   "version": "3.12.5"
  }
 },
 "nbformat": 4,
 "nbformat_minor": 5
}
