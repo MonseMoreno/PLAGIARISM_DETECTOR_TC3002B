{
 "cells": [
  {
   "cell_type": "code",
   "execution_count": 24,
   "metadata": {},
   "outputs": [
    {
     "name": "stdout",
     "output_type": "stream",
     "text": [
      "Requirement already satisfied: backports.tarfile in c:\\users\\pablo\\anaconda3\\lib\\site-packages (1.2.0)\n",
      "Note: you may need to restart the kernel to use updated packages.\n",
      "Requirement already satisfied: zss in c:\\users\\pablo\\anaconda3\\lib\\site-packages (1.2.0)\n",
      "Requirement already satisfied: six in c:\\users\\pablo\\anaconda3\\lib\\site-packages (from zss) (1.17.0)\n",
      "Note: you may need to restart the kernel to use updated packages.\n"
     ]
    }
   ],
   "source": [
    "%pip install backports.tarfile\n",
    "%pip install zss"
   ]
  },
  {
   "cell_type": "markdown",
   "metadata": {},
   "source": [
    "# Procesamiento de los datasets"
   ]
  },
  {
   "cell_type": "code",
   "execution_count": 25,
   "metadata": {},
   "outputs": [
    {
     "name": "stdout",
     "output_type": "stream",
     "text": [
      "460\n"
     ]
    }
   ],
   "source": [
    "import os\n",
    "from collections import OrderedDict\n",
    "\n",
    "base_path = 'IR-Plag-Dataset'\n",
    "pairs_dict = OrderedDict()\n",
    "\n",
    "for case in sorted(os.listdir(base_path)):\n",
    "    case_path = os.path.join(base_path, case)\n",
    "    if not os.path.isdir(case_path):\n",
    "        continue\n",
    "\n",
    "    dataset_name = 'IR-Plag'\n",
    "    orig_path = os.path.join(case_path, 'original')\n",
    "    orig_file = next(os.scandir(orig_path)).path\n",
    "    orig_id   = f'{case}-ORIG'\n",
    "\n",
    "    nonplag_path = os.path.join(case_path, 'non-plagiarized')\n",
    "    if os.path.exists(nonplag_path):\n",
    "        for folder in sorted(os.listdir(nonplag_path)):\n",
    "            folder_path = os.path.join(nonplag_path, folder)\n",
    "            if not os.path.isdir(folder_path):\n",
    "                continue\n",
    "            file_path = next(os.scandir(folder_path)).path\n",
    "            file_id   = f'{case}-NP-{folder}'\n",
    "            pair_id   = f'{orig_id}_{file_id}'\n",
    "            pairs_dict[pair_id] = {\n",
    "                'idcode1': orig_id,\n",
    "                'code1'  : orig_file,\n",
    "                'idcode2': file_id,\n",
    "                'code2'  : file_path,\n",
    "                'result' : 0,\n",
    "                'dataset': dataset_name\n",
    "            }\n",
    "\n",
    "    plag_path = os.path.join(case_path, 'plagiarized')\n",
    "    if os.path.exists(plag_path):\n",
    "        for level in sorted(os.listdir(plag_path)):\n",
    "            level_path = os.path.join(plag_path, level)\n",
    "            for folder in sorted(os.listdir(level_path)):\n",
    "                folder_path = os.path.join(level_path, folder)\n",
    "                if not os.path.isdir(folder_path):\n",
    "                    continue\n",
    "                file_path = next(os.scandir(folder_path)).path\n",
    "                file_id   = f'{case}-{level}-{folder}'\n",
    "                pair_id   = f'{orig_id}_{file_id}'\n",
    "                pairs_dict[pair_id] = {\n",
    "                    'idcode1': orig_id,\n",
    "                    'code1'  : orig_file,\n",
    "                    'idcode2': file_id,\n",
    "                    'code2'  : file_path,\n",
    "                    'result' : 1,\n",
    "                    'dataset': dataset_name\n",
    "                }\n",
    "\n",
    "print(len(pairs_dict))\n"
   ]
  },
  {
   "cell_type": "code",
   "execution_count": 26,
   "metadata": {},
   "outputs": [
    {
     "name": "stdout",
     "output_type": "stream",
     "text": [
      "✅ Total de pares tras añadir CONPLAG: 1371\n"
     ]
    }
   ],
   "source": [
    "import os\n",
    "import pandas as pd\n",
    "\n",
    "conplag_base     = 'conplag_version_2/versions'\n",
    "conplag_code_dir = os.path.join(conplag_base, 'version_2')\n",
    "conplag_labels   = os.path.join(conplag_base, 'labels.csv')\n",
    "\n",
    "df = pd.read_csv(conplag_labels)\n",
    "\n",
    "for _, row in df.iterrows():\n",
    "    sub1, sub2, verdict = row['sub1'], row['sub2'], int(row['verdict'])\n",
    "\n",
    "    codeid1  = str(sub1)\n",
    "    codeid2  = str(sub2)\n",
    "    pair_id  = f'{codeid1}_{codeid2}'\n",
    "\n",
    "    folder_path = os.path.join(conplag_code_dir, pair_id)\n",
    "    file1_path  = os.path.join(folder_path, f'{codeid1}.java')\n",
    "    file2_path  = os.path.join(folder_path, f'{codeid2}.java')\n",
    "\n",
    "    if not (os.path.exists(file1_path) and os.path.exists(file2_path)):\n",
    "        continue\n",
    "\n",
    "    pairs_dict[pair_id] = {\n",
    "        'idcode1': codeid1,\n",
    "        'code1'  : file1_path,          \n",
    "        'idcode2': codeid2,\n",
    "        'code2'  : file2_path,          \n",
    "        'result' : verdict,             \n",
    "        'dataset': 'conplag_version_2'\n",
    "    }\n",
    "\n",
    "print(f'✅ Total de pares tras añadir CONPLAG: {len(pairs_dict)}')"
   ]
  },
  {
   "cell_type": "code",
   "execution_count": 27,
   "metadata": {},
   "outputs": [
    {
     "name": "stdout",
     "output_type": "stream",
     "text": [
      "✅ Total de pares tras añadir FIRE14: 1539\n"
     ]
    }
   ],
   "source": [
    "import os, random\n",
    "\n",
    "base_path   = 'fire14-source-code-training-dataset'\n",
    "java_path   = os.path.join(base_path, 'java')\n",
    "qrel_path   = os.path.join(base_path, 'SOCO14-java.qrel')\n",
    "dataset_name = 'FIRE14'\n",
    "\n",
    "all_files = [f for f in os.listdir(java_path) if f.endswith('.java')]\n",
    "file_set  = set(all_files)\n",
    "\n",
    "positive_pairs = set()\n",
    "with open(qrel_path, encoding='utf-8') as fh:\n",
    "    for line in fh:\n",
    "        f1, f2 = line.split()[:2]\n",
    "        if not f1.endswith('.java'): f1 += '.java'\n",
    "        if not f2.endswith('.java'): f2 += '.java'\n",
    "        if f1 in file_set and f2 in file_set:\n",
    "            positive_pairs.add((f1, f2))\n",
    "\n",
    "positive_ids = list({x for p in positive_pairs for x in p})\n",
    "negatives = set()\n",
    "while len(negatives) < len(positive_pairs):\n",
    "    f1, f2 = random.sample(positive_ids, 2)\n",
    "    if f1 != f2 and (f1, f2) not in positive_pairs and (f2, f1) not in positive_pairs:\n",
    "        negatives.add((f1, f2))\n",
    "\n",
    "def add_pair(f1, f2, label):\n",
    "    p1, p2 = os.path.join(java_path, f1), os.path.join(java_path, f2)\n",
    "    if not (os.path.exists(p1) and os.path.exists(p2)): return\n",
    "    pair_id = f'{f1}_{f2}'\n",
    "    pairs_dict[pair_id] = {\n",
    "        'idcode1': f1,\n",
    "        'code1'  : p1,\n",
    "        'idcode2': f2,\n",
    "        'code2'  : p2,\n",
    "        'result' : label,\n",
    "        'dataset': dataset_name\n",
    "    }\n",
    "\n",
    "for f1, f2 in positive_pairs: add_pair(f1, f2, 1)\n",
    "for f1, f2 in negatives:      add_pair(f1, f2, 0)\n",
    "\n",
    "print(f'✅ Total de pares tras añadir FIRE14: {len(pairs_dict)}')\n"
   ]
  },
  {
   "cell_type": "markdown",
   "metadata": {},
   "source": [
    "# Calculo de features"
   ]
  },
  {
   "cell_type": "code",
   "execution_count": 28,
   "metadata": {},
   "outputs": [],
   "source": [
    "def read_code(file_path):\n",
    "    with open(file_path, encoding='utf-8') as fh:\n",
    "        return fh.read()"
   ]
  },
  {
   "cell_type": "code",
   "execution_count": 29,
   "metadata": {},
   "outputs": [],
   "source": [
    "import re, javalang\n",
    "from simhash import Simhash\n",
    "from collections import Counter\n",
    "\n",
    "_token_pat = re.compile(r'[A-Za-z_]\\w+|\\d+|==|!=|<=|>=|&&|\\|\\||[^\\sA-Za-z0-9_]')\n",
    "\n",
    "def clean_code(src:str)->str:\n",
    "    \"\"\"Quita comentarios y espacios redundantes.\"\"\"\n",
    "    src = re.sub(r'//.*?$|/\\*.*?\\*/', '', src, flags=re.S|re.M)  # comentarios\n",
    "    return '\\n'.join(line.strip() for line in src.splitlines() if line.strip())\n",
    "\n",
    "def text_features(src:str):\n",
    "    \"\"\"Devuelve (feature, weight) según frecuencia de cada token.\"\"\"\n",
    "    tokens = _token_pat.findall(clean_code(src))\n",
    "    freq   = Counter(tokens)\n",
    "    for tok, w in freq.items():\n",
    "        yield tok, w                    # Simhash ya interpreta peso\n",
    "\n",
    "def simhash_text(src:str)->Simhash:\n",
    "    return Simhash(list(text_features(src)))\n",
    "\n",
    "def text_similarity(code_a:str, code_b:str)->float:\n",
    "    h1, h2 = simhash_text(code_a), simhash_text(code_b)\n",
    "    return 1 - h1.distance(h2) / 64.0\n",
    "\n",
    "def walk_ast(node):\n",
    "    \"\"\"Genera features estructurales: tipo de nodo y arista padre→hijo.\"\"\"\n",
    "    yield node.__class__.__name__\n",
    "    for child in node.children:\n",
    "        if isinstance(child, list):\n",
    "            for g in child:\n",
    "                if isinstance(g, javalang.ast.Node):\n",
    "                    yield f'{node.__class__.__name__}->{g.__class__.__name__}'\n",
    "                    yield from walk_ast(g)\n",
    "        elif isinstance(child, javalang.ast.Node):\n",
    "            yield f'{node.__class__.__name__}->{child.__class__.__name__}'\n",
    "            yield from walk_ast(child)\n",
    "\n",
    "def simhash_ast(src:str)->Simhash:\n",
    "    ast   = javalang.parse.parse(src)\n",
    "    feats = list(walk_ast(ast))\n",
    "    return Simhash(feats)\n",
    "\n",
    "def ast_similarity(code_a:str, code_b:str)->float:\n",
    "    h1, h2 = simhash_ast(code_a), simhash_ast(code_b)\n",
    "    return 1 - h1.distance(h2) / 64.0\n"
   ]
  },
  {
   "cell_type": "code",
   "execution_count": 30,
   "metadata": {},
   "outputs": [
    {
     "name": "stderr",
     "output_type": "stream",
     "text": [
      "Procesando pares:   4%|▍         | 60/1539 [00:00<00:02, 583.91it/s]"
     ]
    },
    {
     "name": "stdout",
     "output_type": "stream",
     "text": [
      "🔍 case-01-ORIG_case-01-NP-01 - Simhash: 0.7031, Similitud ASTs: 0.7656\n",
      "🔍 case-01-ORIG_case-01-NP-02 - Simhash: 0.7031, Similitud ASTs: 0.7656\n",
      "🔍 case-01-ORIG_case-01-NP-03 - Simhash: 0.7500, Similitud ASTs: 0.7656\n",
      "🔍 case-01-ORIG_case-01-NP-04 - Simhash: 0.7031, Similitud ASTs: 0.7656\n",
      "🔍 case-01-ORIG_case-01-NP-05 - Simhash: 0.7031, Similitud ASTs: 0.7656\n",
      "🔍 case-01-ORIG_case-01-NP-06 - Simhash: 0.7031, Similitud ASTs: 0.7656\n",
      "🔍 case-01-ORIG_case-01-NP-07 - Simhash: 0.7500, Similitud ASTs: 0.7188\n",
      "🔍 case-01-ORIG_case-01-NP-08 - Simhash: 0.7031, Similitud ASTs: 0.7656\n",
      "🔍 case-01-ORIG_case-01-NP-09 - Simhash: 0.7656, Similitud ASTs: 0.7656\n",
      "🔍 case-01-ORIG_case-01-NP-10 - Simhash: 0.7656, Similitud ASTs: 0.7656\n",
      "🔍 case-01-ORIG_case-01-NP-11 - Simhash: 0.7031, Similitud ASTs: 0.7656\n",
      "🔍 case-01-ORIG_case-01-NP-12 - Simhash: 0.7031, Similitud ASTs: 0.7656\n",
      "🔍 case-01-ORIG_case-01-NP-13 - Simhash: 0.9062, Similitud ASTs: 1.0000\n",
      "🔍 case-01-ORIG_case-01-NP-14 - Simhash: 0.7344, Similitud ASTs: 0.7188\n",
      "🔍 case-01-ORIG_case-01-NP-15 - Simhash: 0.7188, Similitud ASTs: 0.7188\n",
      "🔍 case-01-ORIG_case-01-L1-01 - Simhash: 0.9688, Similitud ASTs: 1.0000\n",
      "🔍 case-01-ORIG_case-01-L1-02 - Simhash: 0.9688, Similitud ASTs: 1.0000\n",
      "🔍 case-01-ORIG_case-01-L1-03 - Simhash: 0.9688, Similitud ASTs: 1.0000\n",
      "🔍 case-01-ORIG_case-01-L1-04 - Simhash: 1.0000, Similitud ASTs: 1.0000\n",
      "🔍 case-01-ORIG_case-01-L1-05 - Simhash: 0.9531, Similitud ASTs: 1.0000\n",
      "🔍 case-01-ORIG_case-01-L1-06 - Simhash: 0.9375, Similitud ASTs: 1.0000\n",
      "🔍 case-01-ORIG_case-01-L1-07 - Simhash: 0.9688, Similitud ASTs: 1.0000\n",
      "🔍 case-01-ORIG_case-01-L1-08 - Simhash: 0.9688, Similitud ASTs: 1.0000\n",
      "🔍 case-01-ORIG_case-01-L1-09 - Simhash: 0.9531, Similitud ASTs: 1.0000\n",
      "🔍 case-01-ORIG_case-01-L2-01 - Simhash: 0.9531, Similitud ASTs: 1.0000\n",
      "🔍 case-01-ORIG_case-01-L2-02 - Simhash: 0.9688, Similitud ASTs: 1.0000\n",
      "🔍 case-01-ORIG_case-01-L2-03 - Simhash: 0.9219, Similitud ASTs: 0.8438\n",
      "🔍 case-01-ORIG_case-01-L2-04 - Simhash: 0.9531, Similitud ASTs: 1.0000\n",
      "🔍 case-01-ORIG_case-01-L2-05 - Simhash: 0.9375, Similitud ASTs: 1.0000\n",
      "🔍 case-01-ORIG_case-01-L3-01 - Simhash: 0.9531, Similitud ASTs: 1.0000\n",
      "🔍 case-01-ORIG_case-01-L3-02 - Simhash: 0.9688, Similitud ASTs: 1.0000\n",
      "🔍 case-01-ORIG_case-01-L3-03 - Simhash: 0.9531, Similitud ASTs: 1.0000\n",
      "🔍 case-01-ORIG_case-01-L3-04 - Simhash: 0.9531, Similitud ASTs: 1.0000\n",
      "🔍 case-01-ORIG_case-01-L3-05 - Simhash: 0.7031, Similitud ASTs: 0.7812\n",
      "🔍 case-01-ORIG_case-01-L3-06 - Simhash: 0.9688, Similitud ASTs: 1.0000\n",
      "🔍 case-01-ORIG_case-01-L4-01 - Simhash: 0.9375, Similitud ASTs: 0.9688\n",
      "🔍 case-01-ORIG_case-01-L4-02 - Simhash: 0.7031, Similitud ASTs: 0.8594\n",
      "🔍 case-01-ORIG_case-01-L4-03 - Simhash: 0.9375, Similitud ASTs: 0.9688\n",
      "🔍 case-01-ORIG_case-01-L4-04 - Simhash: 0.7656, Similitud ASTs: 0.7656\n",
      "🔍 case-01-ORIG_case-01-L4-05 - Simhash: 0.9375, Similitud ASTs: 0.9688\n",
      "🔍 case-01-ORIG_case-01-L4-06 - Simhash: 0.8125, Similitud ASTs: 0.8125\n",
      "🔍 case-01-ORIG_case-01-L5-01 - Simhash: 0.7344, Similitud ASTs: 0.8594\n",
      "🔍 case-01-ORIG_case-01-L5-02 - Simhash: 0.7500, Similitud ASTs: 0.8594\n",
      "🔍 case-01-ORIG_case-01-L5-03 - Simhash: 0.7500, Similitud ASTs: 0.6875\n",
      "🔍 case-01-ORIG_case-01-L5-04 - Simhash: 0.9062, Similitud ASTs: 0.9688\n",
      "🔍 case-01-ORIG_case-01-L5-05 - Simhash: 0.8281, Similitud ASTs: 0.8281\n",
      "🔍 case-01-ORIG_case-01-L6-01 - Simhash: 0.7031, Similitud ASTs: 0.8594\n",
      "🔍 case-01-ORIG_case-01-L6-02 - Simhash: 0.7500, Similitud ASTs: 0.7812\n",
      "🔍 case-01-ORIG_case-01-L6-03 - Simhash: 0.6875, Similitud ASTs: 0.8594\n",
      "🔍 case-01-ORIG_case-01-L6-04 - Simhash: 0.7031, Similitud ASTs: 0.7031\n",
      "🔍 case-01-ORIG_case-01-L6-05 - Simhash: 0.7344, Similitud ASTs: 0.7500\n",
      "🔍 case-01-ORIG_case-01-L6-06 - Simhash: 0.9062, Similitud ASTs: 0.9688\n",
      "🔍 case-01-ORIG_case-01-L6-07 - Simhash: 0.7812, Similitud ASTs: 0.8281\n",
      "🔍 case-01-ORIG_case-01-L6-08 - Simhash: 0.7188, Similitud ASTs: 0.6875\n",
      "🔍 case-01-ORIG_case-01-L6-09 - Simhash: 0.7031, Similitud ASTs: 0.6875\n",
      "🔍 case-02-ORIG_case-02-NP-01 - Simhash: 0.8281, Similitud ASTs: 0.9219\n",
      "🔍 case-02-ORIG_case-02-NP-02 - Simhash: 0.9062, Similitud ASTs: 0.8906\n",
      "🔍 case-02-ORIG_case-02-NP-03 - Simhash: 0.8438, Similitud ASTs: 1.0000\n",
      "🔍 case-02-ORIG_case-02-NP-04 - Simhash: 0.8906, Similitud ASTs: 0.9219\n",
      "🔍 case-02-ORIG_case-02-NP-05 - Simhash: 0.7812, Similitud ASTs: 0.8906\n",
      "🔍 case-02-ORIG_case-02-NP-06 - Simhash: 0.8281, Similitud ASTs: 0.9219\n",
      "🔍 case-02-ORIG_case-02-NP-07 - Simhash: 0.8438, Similitud ASTs: 1.0000\n",
      "🔍 case-02-ORIG_case-02-NP-08 - Simhash: 0.8438, Similitud ASTs: 0.9688\n",
      "🔍 case-02-ORIG_case-02-NP-09 - Simhash: 0.8594, Similitud ASTs: 0.8906\n",
      "🔍 case-02-ORIG_case-02-NP-10 - Simhash: 0.8594, Similitud ASTs: 0.9844\n",
      "🔍 case-02-ORIG_case-02-NP-11 - Simhash: 0.8750, Similitud ASTs: 0.8125\n",
      "🔍 case-02-ORIG_case-02-NP-12 - Simhash: 0.8438, Similitud ASTs: 1.0000\n",
      "🔍 case-02-ORIG_case-02-NP-13 - Simhash: 0.8750, Similitud ASTs: 0.7812\n",
      "🔍 case-02-ORIG_case-02-NP-14 - Simhash: 0.8281, Similitud ASTs: 0.8750\n",
      "🔍 case-02-ORIG_case-02-NP-15 - Simhash: 0.8594, Similitud ASTs: 0.7812\n",
      "🔍 case-02-ORIG_case-02-L1-01 - Simhash: 0.9062, Similitud ASTs: 0.9844\n",
      "🔍 case-02-ORIG_case-02-L1-02 - Simhash: 0.9688, Similitud ASTs: 1.0000\n",
      "🔍 case-02-ORIG_case-02-L1-03 - Simhash: 0.9688, Similitud ASTs: 1.0000\n",
      "🔍 case-02-ORIG_case-02-L1-04 - Simhash: 0.9531, Similitud ASTs: 1.0000\n",
      "🔍 case-02-ORIG_case-02-L1-05 - Simhash: 0.9375, Similitud ASTs: 1.0000\n",
      "🔍 case-02-ORIG_case-02-L1-06 - Simhash: 0.9375, Similitud ASTs: 1.0000\n",
      "🔍 case-02-ORIG_case-02-L1-07 - Simhash: 0.9688, Similitud ASTs: 1.0000\n",
      "🔍 case-02-ORIG_case-02-L1-08 - Simhash: 0.9375, Similitud ASTs: 1.0000\n",
      "🔍 case-02-ORIG_case-02-L1-09 - Simhash: 0.9219, Similitud ASTs: 1.0000\n",
      "🔍 case-02-ORIG_case-02-L2-01 - Simhash: 0.9219, Similitud ASTs: 1.0000\n",
      "🔍 case-02-ORIG_case-02-L2-02 - Simhash: 0.9219, Similitud ASTs: 1.0000\n",
      "🔍 case-02-ORIG_case-02-L2-03 - Simhash: 0.9375, Similitud ASTs: 1.0000\n",
      "🔍 case-02-ORIG_case-02-L2-04 - Simhash: 0.9375, Similitud ASTs: 0.8906\n",
      "🔍 case-02-ORIG_case-02-L2-05 - Simhash: 0.8750, Similitud ASTs: 1.0000\n",
      "🔍 case-02-ORIG_case-02-L2-06 - Simhash: 0.8438, Similitud ASTs: 1.0000\n",
      "🔍 case-02-ORIG_case-02-L2-07 - Simhash: 0.9219, Similitud ASTs: 1.0000\n",
      "🔍 case-02-ORIG_case-02-L2-08 - Simhash: 0.8906, Similitud ASTs: 1.0000\n",
      "🔍 case-02-ORIG_case-02-L2-09 - Simhash: 0.8906, Similitud ASTs: 1.0000\n",
      "🔍 case-02-ORIG_case-02-L3-01 - Simhash: 0.8594, Similitud ASTs: 0.9219\n",
      "🔍 case-02-ORIG_case-02-L3-02 - Simhash: 0.8281, Similitud ASTs: 0.8438\n",
      "🔍 case-02-ORIG_case-02-L3-03 - Simhash: 0.9062, Similitud ASTs: 0.7500\n",
      "🔍 case-02-ORIG_case-02-L3-04 - Simhash: 0.9531, Similitud ASTs: 1.0000\n",
      "🔍 case-02-ORIG_case-02-L3-05 - Simhash: 0.8438, Similitud ASTs: 0.8125\n",
      "🔍 case-02-ORIG_case-02-L3-06 - Simhash: 0.8438, Similitud ASTs: 0.7812\n",
      "🔍 case-02-ORIG_case-02-L3-07 - Simhash: 0.9219, Similitud ASTs: 1.0000\n",
      "🔍 case-02-ORIG_case-02-L3-08 - Simhash: 0.8906, Similitud ASTs: 1.0000\n",
      "🔍 case-02-ORIG_case-02-L3-09 - Simhash: 0.8438, Similitud ASTs: 0.9062\n",
      "🔍 case-02-ORIG_case-02-L4-01 - Simhash: 0.8594, Similitud ASTs: 0.8438\n",
      "🔍 case-02-ORIG_case-02-L4-02 - Simhash: 0.7969, Similitud ASTs: 0.7812\n",
      "🔍 case-02-ORIG_case-02-L4-03 - Simhash: 0.8750, Similitud ASTs: 0.7656\n",
      "🔍 case-02-ORIG_case-02-L4-04 - Simhash: 0.9062, Similitud ASTs: 0.8281\n",
      "🔍 case-02-ORIG_case-02-L4-05 - Simhash: 0.8750, Similitud ASTs: 0.8125\n",
      "🔍 case-02-ORIG_case-02-L4-06 - Simhash: 0.8281, Similitud ASTs: 0.7656\n",
      "🔍 case-02-ORIG_case-02-L4-07 - Simhash: 0.8438, Similitud ASTs: 0.8438\n",
      "🔍 case-02-ORIG_case-02-L4-08 - Simhash: 0.9062, Similitud ASTs: 0.8750\n",
      "🔍 case-02-ORIG_case-02-L4-09 - Simhash: 0.8750, Similitud ASTs: 0.8906\n",
      "🔍 case-02-ORIG_case-02-L5-01 - Simhash: 0.8906, Similitud ASTs: 0.8281\n",
      "🔍 case-02-ORIG_case-02-L5-02 - Simhash: 0.8594, Similitud ASTs: 0.7344\n",
      "🔍 case-02-ORIG_case-02-L5-03 - Simhash: 0.8750, Similitud ASTs: 0.7656\n",
      "🔍 case-02-ORIG_case-02-L5-04 - Simhash: 0.9219, Similitud ASTs: 0.8906\n",
      "🔍 case-02-ORIG_case-02-L5-05 - Simhash: 0.8906, Similitud ASTs: 0.7969\n",
      "🔍 case-02-ORIG_case-02-L5-06 - Simhash: 0.8281, Similitud ASTs: 0.7656\n"
     ]
    },
    {
     "name": "stderr",
     "output_type": "stream",
     "text": [
      "Procesando pares:   8%|▊         | 119/1539 [00:00<00:03, 463.53it/s]"
     ]
    },
    {
     "name": "stdout",
     "output_type": "stream",
     "text": [
      "🔍 case-02-ORIG_case-02-L5-07 - Simhash: 0.8125, Similitud ASTs: 0.7969\n",
      "🔍 case-02-ORIG_case-02-L5-08 - Simhash: 0.9375, Similitud ASTs: 0.8750\n",
      "🔍 case-02-ORIG_case-02-L5-09 - Simhash: 0.9062, Similitud ASTs: 0.8594\n",
      "🔍 case-02-ORIG_case-02-L6-01 - Simhash: 0.8750, Similitud ASTs: 0.7656\n",
      "🔍 case-02-ORIG_case-02-L6-02 - Simhash: 0.8594, Similitud ASTs: 0.7344\n",
      "🔍 case-02-ORIG_case-02-L6-03 - Simhash: 0.8750, Similitud ASTs: 0.7656\n",
      "🔍 case-02-ORIG_case-02-L6-04 - Simhash: 0.9375, Similitud ASTs: 0.8750\n",
      "🔍 case-02-ORIG_case-02-L6-05 - Simhash: 0.8594, Similitud ASTs: 0.7500\n",
      "🔍 case-02-ORIG_case-02-L6-06 - Simhash: 0.8438, Similitud ASTs: 0.8125\n",
      "🔍 case-02-ORIG_case-02-L6-07 - Simhash: 0.8438, Similitud ASTs: 0.8125\n",
      "🔍 case-02-ORIG_case-02-L6-08 - Simhash: 0.9219, Similitud ASTs: 0.8750\n",
      "🔍 case-02-ORIG_case-02-L6-09 - Simhash: 0.8438, Similitud ASTs: 0.8281\n",
      "🔍 case-03-ORIG_case-03-NP-01 - Simhash: 0.9219, Similitud ASTs: 0.9531\n",
      "🔍 case-03-ORIG_case-03-NP-02 - Simhash: 0.9375, Similitud ASTs: 0.9531\n",
      "🔍 case-03-ORIG_case-03-NP-03 - Simhash: 0.8906, Similitud ASTs: 0.9688\n",
      "🔍 case-03-ORIG_case-03-NP-04 - Simhash: 0.9531, Similitud ASTs: 0.9688\n",
      "🔍 case-03-ORIG_case-03-NP-05 - Simhash: 0.9219, Similitud ASTs: 0.9375\n",
      "🔍 case-03-ORIG_case-03-NP-06 - Simhash: 0.9531, Similitud ASTs: 0.9375\n",
      "🔍 case-03-ORIG_case-03-NP-07 - Simhash: 0.9375, Similitud ASTs: 0.9688\n",
      "🔍 case-03-ORIG_case-03-NP-08 - Simhash: 0.9375, Similitud ASTs: 0.9375\n",
      "🔍 case-03-ORIG_case-03-NP-09 - Simhash: 0.9375, Similitud ASTs: 0.9688\n",
      "🔍 case-03-ORIG_case-03-NP-10 - Simhash: 0.9219, Similitud ASTs: 0.9688\n",
      "🔍 case-03-ORIG_case-03-NP-11 - Simhash: 0.9219, Similitud ASTs: 0.9375\n",
      "🔍 case-03-ORIG_case-03-NP-12 - Simhash: 0.9375, Similitud ASTs: 0.9688\n",
      "🔍 case-03-ORIG_case-03-NP-13 - Simhash: 0.9375, Similitud ASTs: 0.8906\n",
      "🔍 case-03-ORIG_case-03-NP-14 - Simhash: 0.9688, Similitud ASTs: 0.9688\n",
      "🔍 case-03-ORIG_case-03-NP-15 - Simhash: 0.9375, Similitud ASTs: 0.8906\n",
      "🔍 case-03-ORIG_case-03-L1-01 - Simhash: 0.9531, Similitud ASTs: 0.9375\n",
      "🔍 case-03-ORIG_case-03-L1-02 - Simhash: 0.9844, Similitud ASTs: 1.0000\n",
      "🔍 case-03-ORIG_case-03-L1-03 - Simhash: 0.9688, Similitud ASTs: 0.9375\n",
      "🔍 case-03-ORIG_case-03-L1-04 - Simhash: 0.9688, Similitud ASTs: 1.0000\n",
      "🔍 case-03-ORIG_case-03-L1-05 - Simhash: 0.9688, Similitud ASTs: 0.9375\n",
      "🔍 case-03-ORIG_case-03-L1-06 - Simhash: 0.9688, Similitud ASTs: 0.9375\n",
      "🔍 case-03-ORIG_case-03-L1-07 - Simhash: 0.9844, Similitud ASTs: 1.0000\n",
      "🔍 case-03-ORIG_case-03-L1-08 - Simhash: 0.9688, Similitud ASTs: 0.9375\n",
      "🔍 case-03-ORIG_case-03-L2-01 - Simhash: 0.9219, Similitud ASTs: 0.9375\n",
      "🔍 case-03-ORIG_case-03-L2-02 - Simhash: 0.9844, Similitud ASTs: 1.0000\n",
      "🔍 case-03-ORIG_case-03-L2-03 - Simhash: 0.9531, Similitud ASTs: 0.9375\n",
      "🔍 case-03-ORIG_case-03-L2-04 - Simhash: 0.9219, Similitud ASTs: 0.9219\n",
      "🔍 case-03-ORIG_case-03-L2-05 - Simhash: 0.9688, Similitud ASTs: 1.0000\n",
      "🔍 case-03-ORIG_case-03-L2-06 - Simhash: 0.9531, Similitud ASTs: 0.9375\n",
      "🔍 case-03-ORIG_case-03-L2-07 - Simhash: 0.9531, Similitud ASTs: 0.9375\n",
      "🔍 case-03-ORIG_case-03-L2-08 - Simhash: 0.9375, Similitud ASTs: 1.0000\n",
      "🔍 case-03-ORIG_case-03-L2-09 - Simhash: 0.9531, Similitud ASTs: 1.0000\n",
      "🔍 case-03-ORIG_case-03-L3-01 - Simhash: 0.9062, Similitud ASTs: 0.9062\n",
      "🔍 case-03-ORIG_case-03-L3-02 - Simhash: 0.9844, Similitud ASTs: 1.0000\n",
      "🔍 case-03-ORIG_case-03-L3-03 - Simhash: 0.9688, Similitud ASTs: 1.0000\n",
      "🔍 case-03-ORIG_case-03-L3-04 - Simhash: 0.8906, Similitud ASTs: 0.9219\n",
      "🔍 case-03-ORIG_case-03-L3-05 - Simhash: 0.9219, Similitud ASTs: 0.9062\n",
      "🔍 case-03-ORIG_case-03-L3-06 - Simhash: 0.8906, Similitud ASTs: 0.9219\n",
      "🔍 case-03-ORIG_case-03-L3-07 - Simhash: 0.9375, Similitud ASTs: 1.0000\n",
      "🔍 case-03-ORIG_case-03-L3-08 - Simhash: 0.9375, Similitud ASTs: 0.9219\n",
      "🔍 case-03-ORIG_case-03-L4-01 - Simhash: 0.8281, Similitud ASTs: 0.9219\n",
      "🔍 case-03-ORIG_case-03-L4-02 - Simhash: 0.9531, Similitud ASTs: 0.9375\n",
      "🔍 case-03-ORIG_case-03-L4-03 - Simhash: 0.9062, Similitud ASTs: 0.8750\n"
     ]
    },
    {
     "name": "stderr",
     "output_type": "stream",
     "text": [
      "Procesando pares:  11%|█         | 167/1539 [00:00<00:04, 342.60it/s]"
     ]
    },
    {
     "name": "stdout",
     "output_type": "stream",
     "text": [
      "🔍 case-03-ORIG_case-03-L4-04 - Simhash: 0.9531, Similitud ASTs: 0.9219\n",
      "🔍 case-03-ORIG_case-03-L4-05 - Simhash: 0.8594, Similitud ASTs: 0.9062\n",
      "🔍 case-03-ORIG_case-03-L4-06 - Simhash: 0.9062, Similitud ASTs: 0.9219\n",
      "🔍 case-03-ORIG_case-03-L4-07 - Simhash: 0.9062, Similitud ASTs: 0.9219\n",
      "🔍 case-03-ORIG_case-03-L4-08 - Simhash: 0.8906, Similitud ASTs: 0.9375\n",
      "🔍 case-03-ORIG_case-03-L4-09 - Simhash: 0.9219, Similitud ASTs: 0.9219\n",
      "🔍 case-03-ORIG_case-03-L5-01 - Simhash: 0.8438, Similitud ASTs: 0.9062\n",
      "🔍 case-03-ORIG_case-03-L5-02 - Simhash: 0.9688, Similitud ASTs: 0.8281\n",
      "🔍 case-03-ORIG_case-03-L5-03 - Simhash: 0.9062, Similitud ASTs: 0.8750\n",
      "🔍 case-03-ORIG_case-03-L5-04 - Simhash: 0.9219, Similitud ASTs: 0.9219\n",
      "🔍 case-03-ORIG_case-03-L5-05 - Simhash: 0.8906, Similitud ASTs: 0.8750\n",
      "🔍 case-03-ORIG_case-03-L5-06 - Simhash: 0.9062, Similitud ASTs: 0.9219\n",
      "🔍 case-03-ORIG_case-03-L5-07 - Simhash: 0.9062, Similitud ASTs: 0.9219\n",
      "🔍 case-03-ORIG_case-03-L5-08 - Simhash: 0.9062, Similitud ASTs: 0.9531\n",
      "🔍 case-03-ORIG_case-03-L5-09 - Simhash: 0.9531, Similitud ASTs: 0.8750\n",
      "🔍 case-03-ORIG_case-03-L6-01 - Simhash: 0.8281, Similitud ASTs: 0.8438\n",
      "🔍 case-03-ORIG_case-03-L6-02 - Simhash: 0.9375, Similitud ASTs: 0.8750\n",
      "🔍 case-03-ORIG_case-03-L6-03 - Simhash: 0.9062, Similitud ASTs: 0.8750\n",
      "🔍 case-03-ORIG_case-03-L6-04 - Simhash: 0.9219, Similitud ASTs: 0.8906\n",
      "🔍 case-03-ORIG_case-03-L6-05 - Simhash: 0.9062, Similitud ASTs: 0.8750\n",
      "🔍 case-03-ORIG_case-03-L6-06 - Simhash: 0.8750, Similitud ASTs: 0.9219\n",
      "🔍 case-03-ORIG_case-03-L6-07 - Simhash: 0.9219, Similitud ASTs: 0.9062\n",
      "🔍 case-03-ORIG_case-03-L6-08 - Simhash: 0.8906, Similitud ASTs: 0.9219\n",
      "🔍 case-03-ORIG_case-03-L6-09 - Simhash: 0.8906, Similitud ASTs: 0.9062\n",
      "🔍 case-04-ORIG_case-04-NP-01 - Simhash: 0.5000, Similitud ASTs: 0.8750\n",
      "🔍 case-04-ORIG_case-04-NP-02 - Simhash: 0.4688, Similitud ASTs: 0.8750\n",
      "🔍 case-04-ORIG_case-04-NP-03 - Simhash: 0.4688, Similitud ASTs: 0.8438\n",
      "🔍 case-04-ORIG_case-04-NP-04 - Simhash: 0.4531, Similitud ASTs: 0.8125\n"
     ]
    },
    {
     "name": "stderr",
     "output_type": "stream",
     "text": [
      "Procesando pares:  13%|█▎        | 205/1539 [00:00<00:04, 297.57it/s]"
     ]
    },
    {
     "name": "stdout",
     "output_type": "stream",
     "text": [
      "🔍 case-04-ORIG_case-04-NP-05 - Simhash: 0.4531, Similitud ASTs: 0.8750\n",
      "🔍 case-04-ORIG_case-04-NP-06 - Simhash: 0.4531, Similitud ASTs: 0.8594\n",
      "🔍 case-04-ORIG_case-04-NP-07 - Simhash: 0.5469, Similitud ASTs: 0.8750\n",
      "🔍 case-04-ORIG_case-04-NP-08 - Simhash: 0.4688, Similitud ASTs: 0.8125\n",
      "🔍 case-04-ORIG_case-04-NP-09 - Simhash: 0.4531, Similitud ASTs: 0.8438\n",
      "🔍 case-04-ORIG_case-04-NP-10 - Simhash: 0.4531, Similitud ASTs: 0.8438\n",
      "🔍 case-04-ORIG_case-04-NP-11 - Simhash: 0.4375, Similitud ASTs: 0.8281\n",
      "🔍 case-04-ORIG_case-04-NP-12 - Simhash: 0.4688, Similitud ASTs: 0.7812\n",
      "🔍 case-04-ORIG_case-04-NP-13 - Simhash: 0.4375, Similitud ASTs: 0.8438\n",
      "🔍 case-04-ORIG_case-04-NP-14 - Simhash: 0.5000, Similitud ASTs: 0.8125\n",
      "🔍 case-04-ORIG_case-04-NP-15 - Simhash: 0.4688, Similitud ASTs: 0.8438\n",
      "🔍 case-04-ORIG_case-04-L1-01 - Simhash: 1.0000, Similitud ASTs: 1.0000\n",
      "🔍 case-04-ORIG_case-04-L1-02 - Simhash: 1.0000, Similitud ASTs: 1.0000\n",
      "🔍 case-04-ORIG_case-04-L1-03 - Simhash: 1.0000, Similitud ASTs: 1.0000\n",
      "🔍 case-04-ORIG_case-04-L1-04 - Simhash: 1.0000, Similitud ASTs: 1.0000\n",
      "🔍 case-04-ORIG_case-04-L1-05 - Simhash: 1.0000, Similitud ASTs: 0.9688\n",
      "🔍 case-04-ORIG_case-04-L1-06 - Simhash: 1.0000, Similitud ASTs: 0.9688\n",
      "🔍 case-04-ORIG_case-04-L1-07 - Simhash: 1.0000, Similitud ASTs: 1.0000\n",
      "🔍 case-04-ORIG_case-04-L1-08 - Simhash: 1.0000, Similitud ASTs: 1.0000\n",
      "🔍 case-04-ORIG_case-04-L1-09 - Simhash: 1.0000, Similitud ASTs: 1.0000\n",
      "🔍 case-04-ORIG_case-04-L2-01 - Simhash: 0.9531, Similitud ASTs: 1.0000\n",
      "🔍 case-04-ORIG_case-04-L2-02 - Simhash: 0.9531, Similitud ASTs: 1.0000\n",
      "🔍 case-04-ORIG_case-04-L2-03 - Simhash: 0.9531, Similitud ASTs: 1.0000\n",
      "🔍 case-04-ORIG_case-04-L2-04 - Simhash: 1.0000, Similitud ASTs: 0.8594\n",
      "🔍 case-04-ORIG_case-04-L2-05 - Simhash: 0.9844, Similitud ASTs: 0.9688\n",
      "🔍 case-04-ORIG_case-04-L2-06 - Simhash: 0.9531, Similitud ASTs: 0.9688\n",
      "🔍 case-04-ORIG_case-04-L2-07 - Simhash: 0.9688, Similitud ASTs: 1.0000\n",
      "🔍 case-04-ORIG_case-04-L2-08 - Simhash: 0.9688, Similitud ASTs: 1.0000\n",
      "🔍 case-04-ORIG_case-04-L2-09 - Simhash: 0.9531, Similitud ASTs: 1.0000\n",
      "🔍 case-04-ORIG_case-04-L3-01 - Simhash: 0.9531, Similitud ASTs: 0.9375\n",
      "🔍 case-04-ORIG_case-04-L3-02 - Simhash: 0.9531, Similitud ASTs: 1.0000\n",
      "🔍 case-04-ORIG_case-04-L3-03 - Simhash: 0.9531, Similitud ASTs: 1.0000\n",
      "🔍 case-04-ORIG_case-04-L3-04 - Simhash: 1.0000, Similitud ASTs: 0.8906\n",
      "🔍 case-04-ORIG_case-04-L3-05 - Simhash: 0.9844, Similitud ASTs: 0.9688\n",
      "🔍 case-04-ORIG_case-04-L3-06 - Simhash: 0.9531, Similitud ASTs: 0.9219\n",
      "🔍 case-04-ORIG_case-04-L3-07 - Simhash: 0.9688, Similitud ASTs: 0.9375\n"
     ]
    },
    {
     "name": "stderr",
     "output_type": "stream",
     "text": [
      "Procesando pares:  16%|█▌        | 250/1539 [00:00<00:03, 337.14it/s]"
     ]
    },
    {
     "name": "stdout",
     "output_type": "stream",
     "text": [
      "🔍 case-04-ORIG_case-04-L3-08 - Simhash: 0.9688, Similitud ASTs: 1.0000\n",
      "🔍 case-04-ORIG_case-04-L3-09 - Simhash: 0.9531, Similitud ASTs: 1.0000\n",
      "🔍 case-04-ORIG_case-04-L4-01 - Simhash: 0.9219, Similitud ASTs: 0.9062\n",
      "🔍 case-04-ORIG_case-04-L4-02 - Simhash: 0.9219, Similitud ASTs: 0.9062\n",
      "🔍 case-04-ORIG_case-04-L4-03 - Simhash: 0.9219, Similitud ASTs: 0.8750\n",
      "🔍 case-04-ORIG_case-04-L4-04 - Simhash: 1.0000, Similitud ASTs: 0.8281\n",
      "🔍 case-04-ORIG_case-04-L4-05 - Simhash: 0.9688, Similitud ASTs: 0.9062\n",
      "🔍 case-04-ORIG_case-04-L4-06 - Simhash: 0.9062, Similitud ASTs: 0.8906\n",
      "🔍 case-04-ORIG_case-04-L4-07 - Simhash: 0.9375, Similitud ASTs: 0.8750\n",
      "🔍 case-04-ORIG_case-04-L4-08 - Simhash: 0.9688, Similitud ASTs: 0.8906\n",
      "🔍 case-04-ORIG_case-04-L4-09 - Simhash: 0.9375, Similitud ASTs: 0.9688\n",
      "🔍 case-04-ORIG_case-04-L5-01 - Simhash: 0.9062, Similitud ASTs: 0.8438\n",
      "🔍 case-04-ORIG_case-04-L5-02 - Simhash: 0.9375, Similitud ASTs: 0.8438\n",
      "🔍 case-04-ORIG_case-04-L5-03 - Simhash: 0.9062, Similitud ASTs: 0.8125\n",
      "🔍 case-04-ORIG_case-04-L5-04 - Simhash: 1.0000, Similitud ASTs: 0.7812\n",
      "🔍 case-04-ORIG_case-04-L5-05 - Simhash: 0.9688, Similitud ASTs: 0.8281\n",
      "🔍 case-04-ORIG_case-04-L5-06 - Simhash: 0.9375, Similitud ASTs: 0.8281\n",
      "🔍 case-04-ORIG_case-04-L5-07 - Simhash: 0.9062, Similitud ASTs: 0.7969\n",
      "🔍 case-04-ORIG_case-04-L5-08 - Simhash: 0.9688, Similitud ASTs: 0.8125\n",
      "🔍 case-04-ORIG_case-04-L5-09 - Simhash: 0.9688, Similitud ASTs: 0.8438\n",
      "🔍 case-04-ORIG_case-04-L6-01 - Simhash: 0.9375, Similitud ASTs: 0.8438\n",
      "🔍 case-04-ORIG_case-04-L6-02 - Simhash: 0.9844, Similitud ASTs: 0.8594\n",
      "🔍 case-04-ORIG_case-04-L6-03 - Simhash: 0.9219, Similitud ASTs: 0.8125\n",
      "🔍 case-04-ORIG_case-04-L6-04 - Simhash: 1.0000, Similitud ASTs: 0.8594\n",
      "🔍 case-04-ORIG_case-04-L6-05 - Simhash: 0.9688, Similitud ASTs: 0.8750\n",
      "🔍 case-04-ORIG_case-04-L6-06 - Simhash: 0.9062, Similitud ASTs: 0.7969\n",
      "🔍 case-04-ORIG_case-04-L6-07 - Simhash: 0.9219, Similitud ASTs: 0.7656\n",
      "🔍 case-04-ORIG_case-04-L6-08 - Simhash: 0.9531, Similitud ASTs: 0.8281\n",
      "🔍 case-04-ORIG_case-04-L6-09 - Simhash: 0.9219, Similitud ASTs: 0.8750\n",
      "🔍 case-05-ORIG_case-05-NP-01 - Simhash: 0.9219, Similitud ASTs: 0.8594\n",
      "🔍 case-05-ORIG_case-05-NP-02 - Simhash: 0.8750, Similitud ASTs: 0.7812\n",
      "🔍 case-05-ORIG_case-05-NP-03 - Simhash: 0.8438, Similitud ASTs: 0.7500\n",
      "🔍 case-05-ORIG_case-05-NP-04 - Simhash: 0.9219, Similitud ASTs: 0.8281\n",
      "🔍 case-05-ORIG_case-05-NP-05 - Simhash: 0.8438, Similitud ASTs: 0.9219\n",
      "🔍 case-05-ORIG_case-05-NP-06 - Simhash: 0.8750, Similitud ASTs: 0.7969\n",
      "🔍 case-05-ORIG_case-05-NP-07 - Simhash: 0.8594, Similitud ASTs: 0.8594\n",
      "🔍 case-05-ORIG_case-05-NP-08 - Simhash: 0.8906, Similitud ASTs: 0.7812\n",
      "🔍 case-05-ORIG_case-05-NP-09 - Simhash: 0.8906, Similitud ASTs: 0.8281\n",
      "🔍 case-05-ORIG_case-05-NP-10 - Simhash: 0.8594, Similitud ASTs: 0.8125\n",
      "🔍 case-05-ORIG_case-05-NP-11 - Simhash: 0.7812, Similitud ASTs: 0.8125\n",
      "🔍 case-05-ORIG_case-05-NP-12 - Simhash: 0.8438, Similitud ASTs: 0.8906\n",
      "🔍 case-05-ORIG_case-05-NP-13 - Simhash: 0.8594, Similitud ASTs: 0.8594\n",
      "🔍 case-05-ORIG_case-05-NP-14 - Simhash: 0.8906, Similitud ASTs: 0.8281\n",
      "🔍 case-05-ORIG_case-05-NP-15 - Simhash: 0.8906, Similitud ASTs: 0.8750\n",
      "🔍 case-05-ORIG_case-05-L1-01 - Simhash: 0.9844, Similitud ASTs: 1.0000\n",
      "🔍 case-05-ORIG_case-05-L1-02 - Simhash: 0.9844, Similitud ASTs: 1.0000\n",
      "🔍 case-05-ORIG_case-05-L1-03 - Simhash: 0.9844, Similitud ASTs: 1.0000\n",
      "🔍 case-05-ORIG_case-05-L1-04 - Simhash: 0.9531, Similitud ASTs: 0.9531\n",
      "🔍 case-05-ORIG_case-05-L1-05 - Simhash: 0.9375, Similitud ASTs: 0.9844\n"
     ]
    },
    {
     "name": "stderr",
     "output_type": "stream",
     "text": [
      "Procesando pares:  19%|█▊        | 287/1539 [00:00<00:03, 336.25it/s]"
     ]
    },
    {
     "name": "stdout",
     "output_type": "stream",
     "text": [
      "🔍 case-05-ORIG_case-05-L1-06 - Simhash: 0.9688, Similitud ASTs: 0.9844\n",
      "🔍 case-05-ORIG_case-05-L1-07 - Simhash: 0.9844, Similitud ASTs: 1.0000\n",
      "🔍 case-05-ORIG_case-05-L1-08 - Simhash: 0.9844, Similitud ASTs: 1.0000\n",
      "🔍 case-05-ORIG_case-05-L1-09 - Simhash: 0.9844, Similitud ASTs: 1.0000\n",
      "🔍 case-05-ORIG_case-05-L2-01 - Simhash: 0.8750, Similitud ASTs: 1.0000\n",
      "🔍 case-05-ORIG_case-05-L2-02 - Simhash: 0.8281, Similitud ASTs: 1.0000\n",
      "🔍 case-05-ORIG_case-05-L2-03 - Simhash: 0.9219, Similitud ASTs: 1.0000\n",
      "🔍 case-05-ORIG_case-05-L2-04 - Simhash: 0.8906, Similitud ASTs: 0.9844\n",
      "🔍 case-05-ORIG_case-05-L2-05 - Simhash: 0.8594, Similitud ASTs: 0.8750\n",
      "🔍 case-05-ORIG_case-05-L2-06 - Simhash: 0.9219, Similitud ASTs: 1.0000\n",
      "🔍 case-05-ORIG_case-05-L2-07 - Simhash: 0.7812, Similitud ASTs: 0.8750\n",
      "🔍 case-05-ORIG_case-05-L2-08 - Simhash: 0.8594, Similitud ASTs: 1.0000\n",
      "🔍 case-05-ORIG_case-05-L3-01 - Simhash: 0.8125, Similitud ASTs: 0.9375\n",
      "🔍 case-05-ORIG_case-05-L3-02 - Simhash: 0.8125, Similitud ASTs: 0.9375\n",
      "🔍 case-05-ORIG_case-05-L3-03 - Simhash: 0.9219, Similitud ASTs: 1.0000\n",
      "🔍 case-05-ORIG_case-05-L3-04 - Simhash: 1.0000, Similitud ASTs: 1.0000\n",
      "🔍 case-05-ORIG_case-05-L3-05 - Simhash: 0.8906, Similitud ASTs: 0.9844\n",
      "🔍 case-05-ORIG_case-05-L3-06 - Simhash: 0.7812, Similitud ASTs: 0.8281\n",
      "🔍 case-05-ORIG_case-05-L3-07 - Simhash: 0.8750, Similitud ASTs: 0.9844\n",
      "🔍 case-05-ORIG_case-05-L3-08 - Simhash: 0.7656, Similitud ASTs: 0.8750\n",
      "🔍 case-05-ORIG_case-05-L3-09 - Simhash: 0.9062, Similitud ASTs: 0.9219\n",
      "🔍 case-05-ORIG_case-05-L4-01 - Simhash: 0.8281, Similitud ASTs: 0.9531\n"
     ]
    },
    {
     "name": "stderr",
     "output_type": "stream",
     "text": [
      "Procesando pares:  21%|██        | 324/1539 [00:00<00:03, 344.90it/s]"
     ]
    },
    {
     "name": "stdout",
     "output_type": "stream",
     "text": [
      "🔍 case-05-ORIG_case-05-L4-02 - Simhash: 0.7969, Similitud ASTs: 0.8906\n",
      "🔍 case-05-ORIG_case-05-L4-03 - Simhash: 0.9375, Similitud ASTs: 0.9531\n",
      "🔍 case-05-ORIG_case-05-L4-04 - Simhash: 0.9531, Similitud ASTs: 0.9062\n",
      "🔍 case-05-ORIG_case-05-L4-05 - Simhash: 0.8906, Similitud ASTs: 0.9375\n",
      "🔍 case-05-ORIG_case-05-L4-06 - Simhash: 0.8125, Similitud ASTs: 0.8594\n",
      "🔍 case-05-ORIG_case-05-L4-07 - Simhash: 0.8750, Similitud ASTs: 0.9688\n",
      "🔍 case-05-ORIG_case-05-L4-08 - Simhash: 0.7969, Similitud ASTs: 0.8906\n",
      "🔍 case-05-ORIG_case-05-L4-09 - Simhash: 0.8750, Similitud ASTs: 0.9375\n",
      "🔍 case-05-ORIG_case-05-L5-01 - Simhash: 0.8750, Similitud ASTs: 0.9219\n",
      "🔍 case-05-ORIG_case-05-L5-02 - Simhash: 0.8281, Similitud ASTs: 0.8125\n",
      "🔍 case-05-ORIG_case-05-L5-03 - Simhash: 0.8750, Similitud ASTs: 0.9531\n",
      "🔍 case-05-ORIG_case-05-L5-04 - Simhash: 0.9375, Similitud ASTs: 0.9062\n",
      "🔍 case-05-ORIG_case-05-L5-05 - Simhash: 0.9062, Similitud ASTs: 0.8750\n",
      "🔍 case-05-ORIG_case-05-L5-06 - Simhash: 0.7812, Similitud ASTs: 0.8438\n",
      "🔍 case-05-ORIG_case-05-L5-07 - Simhash: 0.7656, Similitud ASTs: 0.9062\n",
      "🔍 case-05-ORIG_case-05-L5-08 - Simhash: 0.8281, Similitud ASTs: 0.8750\n",
      "🔍 case-05-ORIG_case-05-L5-09 - Simhash: 0.7500, Similitud ASTs: 0.8750\n",
      "🔍 case-05-ORIG_case-05-L6-01 - Simhash: 0.8125, Similitud ASTs: 0.9531\n",
      "🔍 case-05-ORIG_case-05-L6-02 - Simhash: 0.8438, Similitud ASTs: 0.8125\n",
      "🔍 case-05-ORIG_case-05-L6-03 - Simhash: 0.8594, Similitud ASTs: 0.9531\n",
      "🔍 case-05-ORIG_case-05-L6-04 - Simhash: 0.9531, Similitud ASTs: 0.8750\n",
      "🔍 case-05-ORIG_case-05-L6-05 - Simhash: 0.8906, Similitud ASTs: 0.8281\n",
      "🔍 case-05-ORIG_case-05-L6-06 - Simhash: 0.7969, Similitud ASTs: 0.7969\n",
      "🔍 case-05-ORIG_case-05-L6-07 - Simhash: 0.7656, Similitud ASTs: 0.9062\n",
      "🔍 case-05-ORIG_case-05-L6-08 - Simhash: 0.8594, Similitud ASTs: 0.8281\n",
      "🔍 case-05-ORIG_case-05-L6-09 - Simhash: 0.7812, Similitud ASTs: 0.8125\n",
      "🔍 case-06-ORIG_case-06-NP-01 - Simhash: 0.9531, Similitud ASTs: 0.8750\n",
      "🔍 case-06-ORIG_case-06-NP-02 - Simhash: 0.9688, Similitud ASTs: 0.8906\n",
      "🔍 case-06-ORIG_case-06-NP-03 - Simhash: 0.9375, Similitud ASTs: 0.8906\n",
      "🔍 case-06-ORIG_case-06-NP-04 - Simhash: 1.0000, Similitud ASTs: 0.8750\n",
      "🔍 case-06-ORIG_case-06-NP-05 - Simhash: 0.9219, Similitud ASTs: 0.8906\n",
      "🔍 case-06-ORIG_case-06-NP-06 - Simhash: 0.9219, Similitud ASTs: 0.8906\n",
      "🔍 case-06-ORIG_case-06-NP-07 - Simhash: 0.9219, Similitud ASTs: 0.8594\n",
      "🔍 case-06-ORIG_case-06-NP-08 - Simhash: 0.9531, Similitud ASTs: 0.8750\n",
      "🔍 case-06-ORIG_case-06-NP-09 - Simhash: 0.9062, Similitud ASTs: 0.8906\n",
      "🔍 case-06-ORIG_case-06-NP-10 - Simhash: 0.9219, Similitud ASTs: 0.8906\n",
      "🔍 case-06-ORIG_case-06-NP-11 - Simhash: 0.9531, Similitud ASTs: 0.8906\n",
      "🔍 case-06-ORIG_case-06-NP-12 - Simhash: 0.8281, Similitud ASTs: 0.7344\n",
      "🔍 case-06-ORIG_case-06-NP-13 - Simhash: 0.9531, Similitud ASTs: 0.8906\n",
      "🔍 case-06-ORIG_case-06-NP-14 - Simhash: 0.8438, Similitud ASTs: 0.8750\n",
      "🔍 case-06-ORIG_case-06-NP-15 - Simhash: 0.9531, Similitud ASTs: 0.8906\n",
      "🔍 case-06-ORIG_case-06-L1-01 - Simhash: 1.0000, Similitud ASTs: 1.0000\n",
      "🔍 case-06-ORIG_case-06-L1-02 - Simhash: 1.0000, Similitud ASTs: 1.0000\n",
      "🔍 case-06-ORIG_case-06-L1-03 - Simhash: 1.0000, Similitud ASTs: 1.0000\n",
      "🔍 case-06-ORIG_case-06-L1-04 - Simhash: 0.9688, Similitud ASTs: 0.9844\n",
      "🔍 case-06-ORIG_case-06-L1-05 - Simhash: 0.9375, Similitud ASTs: 0.9375\n",
      "🔍 case-06-ORIG_case-06-L1-06 - Simhash: 1.0000, Similitud ASTs: 1.0000\n",
      "🔍 case-06-ORIG_case-06-L1-07 - Simhash: 1.0000, Similitud ASTs: 1.0000\n",
      "🔍 case-06-ORIG_case-06-L1-08 - Simhash: 1.0000, Similitud ASTs: 1.0000\n",
      "🔍 case-06-ORIG_case-06-L2-01 - Simhash: 0.9844, Similitud ASTs: 1.0000\n",
      "🔍 case-06-ORIG_case-06-L2-02 - Simhash: 0.9844, Similitud ASTs: 1.0000\n",
      "🔍 case-06-ORIG_case-06-L2-03 - Simhash: 0.9375, Similitud ASTs: 1.0000\n"
     ]
    },
    {
     "name": "stderr",
     "output_type": "stream",
     "text": [
      "Procesando pares:  23%|██▎       | 361/1539 [00:01<00:03, 351.45it/s]"
     ]
    },
    {
     "name": "stdout",
     "output_type": "stream",
     "text": [
      "🔍 case-06-ORIG_case-06-L2-04 - Simhash: 0.9531, Similitud ASTs: 0.9844\n",
      "🔍 case-06-ORIG_case-06-L2-05 - Simhash: 0.9375, Similitud ASTs: 0.8438\n",
      "🔍 case-06-ORIG_case-06-L2-06 - Simhash: 0.9688, Similitud ASTs: 1.0000\n",
      "🔍 case-06-ORIG_case-06-L2-07 - Simhash: 0.8906, Similitud ASTs: 0.8906\n",
      "🔍 case-06-ORIG_case-06-L2-08 - Simhash: 0.9844, Similitud ASTs: 1.0000\n",
      "🔍 case-06-ORIG_case-06-L3-01 - Simhash: 0.9531, Similitud ASTs: 0.9688\n",
      "🔍 case-06-ORIG_case-06-L3-02 - Simhash: 0.9219, Similitud ASTs: 0.8906\n",
      "🔍 case-06-ORIG_case-06-L3-03 - Simhash: 0.9375, Similitud ASTs: 1.0000\n",
      "🔍 case-06-ORIG_case-06-L3-04 - Simhash: 0.9688, Similitud ASTs: 0.9531\n",
      "🔍 case-06-ORIG_case-06-L3-05 - Simhash: 0.9375, Similitud ASTs: 0.8438\n",
      "🔍 case-06-ORIG_case-06-L3-06 - Simhash: 0.9531, Similitud ASTs: 0.9844\n",
      "🔍 case-06-ORIG_case-06-L3-07 - Simhash: 0.8906, Similitud ASTs: 0.8906\n",
      "🔍 case-06-ORIG_case-06-L3-08 - Simhash: 0.9531, Similitud ASTs: 0.9844\n",
      "🔍 case-06-ORIG_case-06-L4-01 - Simhash: 0.9688, Similitud ASTs: 0.9375\n",
      "🔍 case-06-ORIG_case-06-L4-02 - Simhash: 0.9531, Similitud ASTs: 0.9531\n",
      "🔍 case-06-ORIG_case-06-L4-03 - Simhash: 0.9219, Similitud ASTs: 0.9688\n",
      "🔍 case-06-ORIG_case-06-L4-04 - Simhash: 0.9375, Similitud ASTs: 0.8594\n",
      "🔍 case-06-ORIG_case-06-L4-05 - Simhash: 0.9375, Similitud ASTs: 0.9531\n",
      "🔍 case-06-ORIG_case-06-L4-06 - Simhash: 0.9375, Similitud ASTs: 0.8594\n",
      "🔍 case-06-ORIG_case-06-L4-07 - Simhash: 0.9219, Similitud ASTs: 0.9531\n",
      "🔍 case-06-ORIG_case-06-L4-08 - Simhash: 0.9062, Similitud ASTs: 0.8594\n",
      "🔍 case-06-ORIG_case-06-L4-09 - Simhash: 0.9531, Similitud ASTs: 0.9375\n"
     ]
    },
    {
     "name": "stderr",
     "output_type": "stream",
     "text": [
      "Procesando pares:  26%|██▌       | 398/1539 [00:01<00:03, 346.19it/s]"
     ]
    },
    {
     "name": "stdout",
     "output_type": "stream",
     "text": [
      "🔍 case-06-ORIG_case-06-L5-01 - Simhash: 0.9688, Similitud ASTs: 0.8438\n",
      "🔍 case-06-ORIG_case-06-L5-02 - Simhash: 0.9688, Similitud ASTs: 0.9375\n",
      "🔍 case-06-ORIG_case-06-L5-03 - Simhash: 0.9062, Similitud ASTs: 0.9688\n",
      "🔍 case-06-ORIG_case-06-L5-04 - Simhash: 0.9375, Similitud ASTs: 0.8594\n",
      "🔍 case-06-ORIG_case-06-L5-05 - Simhash: 0.9375, Similitud ASTs: 0.9531\n",
      "🔍 case-06-ORIG_case-06-L5-06 - Simhash: 0.9531, Similitud ASTs: 0.9062\n",
      "🔍 case-06-ORIG_case-06-L5-07 - Simhash: 0.9375, Similitud ASTs: 0.9375\n",
      "🔍 case-06-ORIG_case-06-L5-08 - Simhash: 0.9219, Similitud ASTs: 0.8594\n",
      "🔍 case-06-ORIG_case-06-L5-09 - Simhash: 0.9219, Similitud ASTs: 0.8438\n",
      "🔍 case-06-ORIG_case-06-L6-01 - Simhash: 0.9688, Similitud ASTs: 0.8438\n",
      "🔍 case-06-ORIG_case-06-L6-02 - Simhash: 0.9688, Similitud ASTs: 0.9375\n",
      "🔍 case-06-ORIG_case-06-L6-03 - Simhash: 0.9062, Similitud ASTs: 0.9688\n",
      "🔍 case-06-ORIG_case-06-L6-04 - Simhash: 0.9062, Similitud ASTs: 0.8281\n",
      "🔍 case-06-ORIG_case-06-L6-05 - Simhash: 0.9219, Similitud ASTs: 0.8906\n",
      "🔍 case-06-ORIG_case-06-L6-06 - Simhash: 0.9531, Similitud ASTs: 0.8906\n",
      "🔍 case-06-ORIG_case-06-L6-07 - Simhash: 0.9375, Similitud ASTs: 0.9375\n",
      "🔍 case-06-ORIG_case-06-L6-08 - Simhash: 0.9219, Similitud ASTs: 0.8594\n",
      "🔍 case-06-ORIG_case-06-L6-09 - Simhash: 0.9375, Similitud ASTs: 0.8594\n",
      "🔍 case-07-ORIG_case-07-NP-01 - Simhash: 0.9375, Similitud ASTs: 0.9688\n",
      "🔍 case-07-ORIG_case-07-NP-02 - Simhash: 0.8906, Similitud ASTs: 0.9531\n",
      "🔍 case-07-ORIG_case-07-NP-03 - Simhash: 0.8281, Similitud ASTs: 0.9375\n",
      "🔍 case-07-ORIG_case-07-NP-04 - Simhash: 0.9219, Similitud ASTs: 0.9219\n",
      "🔍 case-07-ORIG_case-07-NP-05 - Simhash: 0.9375, Similitud ASTs: 0.9375\n",
      "🔍 case-07-ORIG_case-07-NP-06 - Simhash: 0.9219, Similitud ASTs: 0.9375\n",
      "🔍 case-07-ORIG_case-07-NP-07 - Simhash: 0.8906, Similitud ASTs: 0.9375\n",
      "🔍 case-07-ORIG_case-07-NP-08 - Simhash: 0.9375, Similitud ASTs: 0.9219\n",
      "🔍 case-07-ORIG_case-07-NP-09 - Simhash: 0.8750, Similitud ASTs: 0.9531\n",
      "🔍 case-07-ORIG_case-07-NP-10 - Simhash: 0.9375, Similitud ASTs: 0.9219\n",
      "🔍 case-07-ORIG_case-07-NP-11 - Simhash: 0.9844, Similitud ASTs: 0.7656\n",
      "🔍 case-07-ORIG_case-07-NP-12 - Simhash: 0.9531, Similitud ASTs: 0.8438\n",
      "🔍 case-07-ORIG_case-07-NP-13 - Simhash: 0.9219, Similitud ASTs: 0.9219\n",
      "🔍 case-07-ORIG_case-07-NP-14 - Simhash: 0.8750, Similitud ASTs: 0.9531\n",
      "🔍 case-07-ORIG_case-07-NP-15 - Simhash: 0.9219, Similitud ASTs: 0.9219\n",
      "🔍 case-07-ORIG_case-07-L1-01 - Simhash: 0.9844, Similitud ASTs: 0.9531\n",
      "🔍 case-07-ORIG_case-07-L1-02 - Simhash: 1.0000, Similitud ASTs: 1.0000\n",
      "🔍 case-07-ORIG_case-07-L1-03 - Simhash: 0.9844, Similitud ASTs: 0.9688\n",
      "🔍 case-07-ORIG_case-07-L1-04 - Simhash: 1.0000, Similitud ASTs: 1.0000\n",
      "🔍 case-07-ORIG_case-07-L1-05 - Simhash: 0.9688, Similitud ASTs: 0.9375\n",
      "🔍 case-07-ORIG_case-07-L1-06 - Simhash: 0.9688, Similitud ASTs: 0.9531\n",
      "🔍 case-07-ORIG_case-07-L1-07 - Simhash: 0.9844, Similitud ASTs: 0.9531\n",
      "🔍 case-07-ORIG_case-07-L1-08 - Simhash: 0.9844, Similitud ASTs: 0.9531\n",
      "🔍 case-07-ORIG_case-07-L2-01 - Simhash: 0.9844, Similitud ASTs: 0.9531\n",
      "🔍 case-07-ORIG_case-07-L2-02 - Simhash: 0.9531, Similitud ASTs: 1.0000\n",
      "🔍 case-07-ORIG_case-07-L2-03 - Simhash: 0.9844, Similitud ASTs: 0.9688\n",
      "🔍 case-07-ORIG_case-07-L2-04 - Simhash: 0.9844, Similitud ASTs: 1.0000\n",
      "🔍 case-07-ORIG_case-07-L2-05 - Simhash: 0.9531, Similitud ASTs: 0.9375\n",
      "🔍 case-07-ORIG_case-07-L2-06 - Simhash: 0.9531, Similitud ASTs: 0.9531\n",
      "🔍 case-07-ORIG_case-07-L2-07 - Simhash: 0.9219, Similitud ASTs: 0.9531\n",
      "🔍 case-07-ORIG_case-07-L2-08 - Simhash: 0.9375, Similitud ASTs: 0.9531\n",
      "🔍 case-07-ORIG_case-07-L3-01 - Simhash: 0.9844, Similitud ASTs: 0.9531\n",
      "🔍 case-07-ORIG_case-07-L3-02 - Simhash: 0.9531, Similitud ASTs: 1.0000\n",
      "🔍 case-07-ORIG_case-07-L3-03 - Simhash: 0.9844, Similitud ASTs: 0.9688\n",
      "🔍 case-07-ORIG_case-07-L3-04 - Simhash: 0.9844, Similitud ASTs: 0.9219\n"
     ]
    },
    {
     "name": "stderr",
     "output_type": "stream",
     "text": [
      "Procesando pares:  28%|██▊       | 434/1539 [00:01<00:03, 300.27it/s]"
     ]
    },
    {
     "name": "stdout",
     "output_type": "stream",
     "text": [
      "🔍 case-07-ORIG_case-07-L3-05 - Simhash: 0.9531, Similitud ASTs: 0.9219\n",
      "🔍 case-07-ORIG_case-07-L3-06 - Simhash: 0.9688, Similitud ASTs: 0.9219\n",
      "🔍 case-07-ORIG_case-07-L3-07 - Simhash: 0.9219, Similitud ASTs: 0.9531\n",
      "🔍 case-07-ORIG_case-07-L3-08 - Simhash: 0.9375, Similitud ASTs: 0.9688\n",
      "🔍 case-07-ORIG_case-07-L4-01 - Simhash: 0.9375, Similitud ASTs: 0.9062\n",
      "🔍 case-07-ORIG_case-07-L4-02 - Simhash: 0.9219, Similitud ASTs: 0.9062\n",
      "🔍 case-07-ORIG_case-07-L4-03 - Simhash: 0.9531, Similitud ASTs: 0.9531\n",
      "🔍 case-07-ORIG_case-07-L4-04 - Simhash: 0.8594, Similitud ASTs: 0.9375\n",
      "🔍 case-07-ORIG_case-07-L4-05 - Simhash: 0.9688, Similitud ASTs: 0.9375\n",
      "🔍 case-07-ORIG_case-07-L4-06 - Simhash: 0.9219, Similitud ASTs: 0.8906\n",
      "🔍 case-07-ORIG_case-07-L4-07 - Simhash: 0.9531, Similitud ASTs: 0.9219\n",
      "🔍 case-07-ORIG_case-07-L4-08 - Simhash: 0.9375, Similitud ASTs: 0.9375\n",
      "🔍 case-07-ORIG_case-07-L4-09 - Simhash: 0.8906, Similitud ASTs: 0.9219\n",
      "🔍 case-07-ORIG_case-07-L5-01 - Simhash: 0.9531, Similitud ASTs: 0.9375\n",
      "🔍 case-07-ORIG_case-07-L5-02 - Simhash: 0.9219, Similitud ASTs: 0.8594\n",
      "🔍 case-07-ORIG_case-07-L5-03 - Simhash: 0.9219, Similitud ASTs: 0.9062\n",
      "🔍 case-07-ORIG_case-07-L5-04 - Simhash: 0.8750, Similitud ASTs: 0.9531\n",
      "🔍 case-07-ORIG_case-07-L5-05 - Simhash: 0.9844, Similitud ASTs: 0.9375\n",
      "🔍 case-07-ORIG_case-07-L5-06 - Simhash: 0.9062, Similitud ASTs: 0.8906\n",
      "🔍 case-07-ORIG_case-07-L5-07 - Simhash: 0.9531, Similitud ASTs: 0.9062\n",
      "🔍 case-07-ORIG_case-07-L5-08 - Simhash: 0.9219, Similitud ASTs: 0.8750\n",
      "🔍 case-07-ORIG_case-07-L5-09 - Simhash: 0.9688, Similitud ASTs: 0.8750\n",
      "🔍 case-07-ORIG_case-07-L6-01 - Simhash: 0.8906, Similitud ASTs: 0.8750\n",
      "🔍 case-07-ORIG_case-07-L6-02 - Simhash: 0.9531, Similitud ASTs: 0.8750\n",
      "🔍 case-07-ORIG_case-07-L6-03 - Simhash: 0.9062, Similitud ASTs: 0.8750\n",
      "🔍 case-07-ORIG_case-07-L6-04 - Simhash: 0.8594, Similitud ASTs: 0.9219\n",
      "🔍 case-07-ORIG_case-07-L6-05 - Simhash: 0.8906, Similitud ASTs: 0.9219\n",
      "🔍 case-07-ORIG_case-07-L6-06 - Simhash: 0.9062, Similitud ASTs: 0.9219\n",
      "🔍 case-07-ORIG_case-07-L6-07 - Simhash: 0.9531, Similitud ASTs: 0.8750\n",
      "🔍 case-07-ORIG_case-07-L6-08 - Simhash: 0.8906, Similitud ASTs: 0.8594\n",
      "🔍 case-07-ORIG_case-07-L6-09 - Simhash: 0.8594, Similitud ASTs: 0.8594\n",
      "🔍 0fd5b95a_6490bbe8 - Simhash: 0.8906, Similitud ASTs: 0.8906\n",
      "🔍 464a03b8_ff1fc018 - Simhash: 0.9219, Similitud ASTs: 0.9062\n"
     ]
    },
    {
     "name": "stderr",
     "output_type": "stream",
     "text": [
      "Procesando pares:  30%|███       | 466/1539 [00:01<00:03, 268.76it/s]"
     ]
    },
    {
     "name": "stdout",
     "output_type": "stream",
     "text": [
      "🔍 3e6def38_548ffb07 - Simhash: 1.0000, Similitud ASTs: 0.9688\n",
      "🔍 0b91922c_71a4f6d2 - Simhash: 0.9062, Similitud ASTs: 0.9375\n",
      "🔍 9291ca83_d6fb3b9e - Simhash: 0.9531, Similitud ASTs: 0.9219\n",
      "🔍 213340b3_35f0c004 - Simhash: 0.8281, Similitud ASTs: 0.9062\n",
      "🔍 7bc92b7f_9028caf7 - Simhash: 0.8594, Similitud ASTs: 0.9531\n",
      "🔍 6f393cfe_b185d034 - Simhash: 0.8750, Similitud ASTs: 0.9375\n",
      "🔍 1dab88fb_bac616ee - Simhash: 0.8438, Similitud ASTs: 0.9375\n",
      "🔍 115c99cb_921b6e4a - Simhash: 1.0000, Similitud ASTs: 1.0000\n",
      "🔍 5be7547e_cb032314 - Simhash: 0.7500, Similitud ASTs: 0.9062\n",
      "🔍 4e9c4bf9_7011024d - Simhash: 0.8438, Similitud ASTs: 0.8906\n",
      "🔍 11c2ab99_bdfe8110 - Simhash: 1.0000, Similitud ASTs: 1.0000\n",
      "🔍 680ba922_6e207cbf - Simhash: 0.8906, Similitud ASTs: 0.8438\n",
      "🔍 14b0fb8e_8ddb5587 - Simhash: 0.7812, Similitud ASTs: 0.8594\n",
      "🔍 16a2a867_3951966f - Simhash: 0.8594, Similitud ASTs: 0.8906\n",
      "🔍 bf0df1d5_ea899386 - Simhash: 0.8594, Similitud ASTs: 0.9062\n",
      "🔍 b2001d68_ba468e1f - Simhash: 0.9062, Similitud ASTs: 0.9531\n",
      "🔍 35eb27da_64ce7b1e - Simhash: 0.7500, Similitud ASTs: 0.8438\n",
      "🔍 5aebbb1b_e647bef7 - Simhash: 0.8594, Similitud ASTs: 0.8906\n",
      "🔍 30e0cc81_b55888de - Simhash: 0.8281, Similitud ASTs: 0.8906\n",
      "🔍 05f939b3_e647bef7 - Simhash: 0.8438, Similitud ASTs: 0.9219\n",
      "🔍 976fe834_da54dec3 - Simhash: 0.8438, Similitud ASTs: 0.8906\n",
      "🔍 a4d6775d_cb87df79 - Simhash: 0.8906, Similitud ASTs: 0.9688\n",
      "🔍 18e2441c_24b20554 - Simhash: 0.8438, Similitud ASTs: 0.8906\n",
      "🔍 b2590225_fdcbdf85 - Simhash: 0.8750, Similitud ASTs: 0.8281\n",
      "🔍 317a209c_6b97058e - Simhash: 1.0000, Similitud ASTs: 0.9688\n",
      "🔍 3088ca9c_7a9c69d8 - Simhash: 0.9062, Similitud ASTs: 0.9531\n"
     ]
    },
    {
     "name": "stderr",
     "output_type": "stream",
     "text": [
      "Procesando pares:  32%|███▏      | 495/1539 [00:01<00:05, 180.49it/s]"
     ]
    },
    {
     "name": "stdout",
     "output_type": "stream",
     "text": [
      "🔍 6946f466_ce7027ee - Simhash: 1.0000, Similitud ASTs: 1.0000\n",
      "🔍 80881cae_9555b9d1 - Simhash: 0.8125, Similitud ASTs: 0.9375\n",
      "🔍 24afd00e_810fd282 - Simhash: 0.9219, Similitud ASTs: 0.8750\n",
      "🔍 6bcc5afd_734a94be - Simhash: 0.8750, Similitud ASTs: 0.9688\n",
      "🔍 04ed33a5_6b83b22e - Simhash: 1.0000, Similitud ASTs: 1.0000\n",
      "🔍 c1fef98f_f870e76b - Simhash: 0.9219, Similitud ASTs: 0.9375\n",
      "🔍 949502c2_9fc811f7 - Simhash: 0.8906, Similitud ASTs: 0.9219\n",
      "🔍 4ea10951_66e74577 - Simhash: 0.9219, Similitud ASTs: 0.9062\n",
      "🔍 cdb801a1_ed610dc9 - Simhash: 0.8125, Similitud ASTs: 0.9219\n",
      "🔍 752ea9a5_b2ec0eff - Simhash: 0.9688, Similitud ASTs: 0.9375\n",
      "🔍 701c3f35_d56bcb0c - Simhash: 0.7969, Similitud ASTs: 0.7969\n",
      "🔍 317a209c_921b6e4a - Simhash: 1.0000, Similitud ASTs: 0.9688\n",
      "🔍 6f02c6d9_ff34fab2 - Simhash: 0.8594, Similitud ASTs: 0.9219\n",
      "🔍 1be078c4_bb0949b3 - Simhash: 0.9219, Similitud ASTs: 0.9375\n",
      "🔍 01c915a2_480de7be - Simhash: 0.8594, Similitud ASTs: 0.9531\n",
      "🔍 6be98ece_e1c4f3db - Simhash: 0.9219, Similitud ASTs: 0.9531\n",
      "🔍 6825260d_c972dd00 - Simhash: 1.0000, Similitud ASTs: 1.0000\n",
      "🔍 2e1109d7_e7000ac2 - Simhash: 1.0000, Similitud ASTs: 1.0000\n",
      "🔍 9028caf7_d221162a - Simhash: 0.9062, Similitud ASTs: 0.8906\n",
      "🔍 74b5ad88_dc575a6c - Simhash: 0.9062, Similitud ASTs: 0.9844\n",
      "🔍 63a24497_6e5ab1d2 - Simhash: 0.8750, Similitud ASTs: 0.9375\n",
      "🔍 1097b326_a60fba84 - Simhash: 0.7969, Similitud ASTs: 0.9375\n",
      "🔍 3d06b643_6bcc5afd - Simhash: 0.9219, Similitud ASTs: 0.9531\n",
      "🔍 6f02c6d9_884f5678 - Simhash: 0.8594, Similitud ASTs: 0.8594\n",
      "🔍 23194f89_bcc5473d - Simhash: 0.7656, Similitud ASTs: 0.7812\n",
      "🔍 0d4d22e0_f898cee0 - Simhash: 0.8125, Similitud ASTs: 0.7656\n",
      "🔍 3dd65549_f229aa7f - Simhash: 0.8750, Similitud ASTs: 0.9375\n"
     ]
    },
    {
     "name": "stderr",
     "output_type": "stream",
     "text": [
      "Procesando pares:  34%|███▎      | 518/1539 [00:01<00:06, 149.77it/s]"
     ]
    },
    {
     "name": "stdout",
     "output_type": "stream",
     "text": [
      "🔍 44428e63_9debf95c - Simhash: 0.8281, Similitud ASTs: 0.8438\n",
      "🔍 18e2441c_43b10dec - Simhash: 0.9062, Similitud ASTs: 0.9062\n",
      "🔍 3a318b43_90b71536 - Simhash: 0.8750, Similitud ASTs: 0.8906\n",
      "🔍 3e6def38_e7dce35b - Simhash: 0.9531, Similitud ASTs: 0.9375\n",
      "🔍 6bcc5afd_f6ca6fc8 - Simhash: 0.9219, Similitud ASTs: 0.9688\n",
      "🔍 7c11511f_ca8f11a4 - Simhash: 0.8438, Similitud ASTs: 0.9219\n",
      "🔍 1984bef1_2063ba3e - Simhash: 0.8594, Similitud ASTs: 0.9531\n",
      "🔍 0df4050e_f5fde094 - Simhash: 0.7500, Similitud ASTs: 0.8906\n",
      "🔍 6e7cd58b_cfba313d - Simhash: 0.8906, Similitud ASTs: 0.8906\n",
      "🔍 2470b521_f6ca6fc8 - Simhash: 0.8750, Similitud ASTs: 0.9062\n",
      "🔍 2f8c3bf3_a3abac01 - Simhash: 0.9219, Similitud ASTs: 0.9375\n",
      "🔍 66e74577_6e207cbf - Simhash: 0.8594, Similitud ASTs: 0.8438\n",
      "🔍 1f6b81b1_51151974 - Simhash: 0.9375, Similitud ASTs: 0.9375\n",
      "🔍 0017d438_9852706b - Simhash: 0.9062, Similitud ASTs: 0.8750\n",
      "🔍 0c173033_6b83b22e - Simhash: 0.9219, Similitud ASTs: 0.9219\n",
      "🔍 24044589_e435b1ac - Simhash: 0.9062, Similitud ASTs: 0.9375\n",
      "🔍 8535bdf7_e86eb5b0 - Simhash: 0.8594, Similitud ASTs: 0.8594\n",
      "🔍 83b44c9c_ed610dc9 - Simhash: 0.9219, Similitud ASTs: 0.9375\n",
      "🔍 2c7a0000_4201fdf7 - Simhash: 0.9375, Similitud ASTs: 0.9688\n",
      "🔍 24b20554_43b10dec - Simhash: 0.9062, Similitud ASTs: 0.9219\n",
      "🔍 175201f9_40cc90ae - Simhash: 0.9062, Similitud ASTs: 0.9531\n"
     ]
    },
    {
     "name": "stderr",
     "output_type": "stream",
     "text": [
      "Procesando pares:  35%|███▍      | 537/1539 [00:02<00:07, 136.68it/s]"
     ]
    },
    {
     "name": "stdout",
     "output_type": "stream",
     "text": [
      "🔍 1469697d_69c86b61 - Simhash: 1.0000, Similitud ASTs: 1.0000\n",
      "🔍 2db37cb1_875ed4c8 - Simhash: 0.9219, Similitud ASTs: 0.9219\n",
      "🔍 9e7551da_f0e13442 - Simhash: 1.0000, Similitud ASTs: 0.9844\n",
      "🔍 354d060f_e1c4f3db - Simhash: 0.8906, Similitud ASTs: 0.9688\n",
      "🔍 44428e63_c850e422 - Simhash: 0.8750, Similitud ASTs: 0.9375\n",
      "🔍 4dc0247e_875ed4c8 - Simhash: 0.8750, Similitud ASTs: 0.9375\n",
      "🔍 bd65846f_d018b49f - Simhash: 0.7344, Similitud ASTs: 0.8125\n",
      "🔍 71e0f2e5_b226c49a - Simhash: 0.7969, Similitud ASTs: 0.8438\n",
      "🔍 7d7cf9a7_e45446bc - Simhash: 0.9062, Similitud ASTs: 0.9531\n",
      "🔍 8d6f1bf5_dc281165 - Simhash: 0.7500, Similitud ASTs: 0.9062\n",
      "🔍 3666e0e8_ac7187d8 - Simhash: 0.9531, Similitud ASTs: 0.9688\n",
      "🔍 680ba922_76ad805a - Simhash: 0.8438, Similitud ASTs: 0.8594\n",
      "🔍 69b2fd22_9028caf7 - Simhash: 1.0000, Similitud ASTs: 1.0000\n",
      "🔍 3afcc566_d8a171a3 - Simhash: 0.8438, Similitud ASTs: 0.9062\n",
      "🔍 0ca738ce_931faca2 - Simhash: 0.8281, Similitud ASTs: 0.9531\n",
      "🔍 2120328e_52cd85f2 - Simhash: 0.9375, Similitud ASTs: 0.9062\n"
     ]
    },
    {
     "name": "stderr",
     "output_type": "stream",
     "text": [
      "Procesando pares:  36%|███▌      | 554/1539 [00:02<00:07, 129.92it/s]"
     ]
    },
    {
     "name": "stdout",
     "output_type": "stream",
     "text": [
      "🔍 4e5ee0f7_d6fb3b9e - Simhash: 0.9062, Similitud ASTs: 0.9531\n",
      "🔍 d55c238c_ebce9e39 - Simhash: 1.0000, Similitud ASTs: 1.0000\n",
      "🔍 54eb12ca_949502c2 - Simhash: 0.8750, Similitud ASTs: 0.8594\n",
      "🔍 11c2ab99_e6a6e318 - Simhash: 0.8906, Similitud ASTs: 0.9531\n",
      "🔍 3afcc566_3dd65549 - Simhash: 0.9219, Similitud ASTs: 0.8906\n",
      "🔍 35f0c004_efa38999 - Simhash: 0.8750, Similitud ASTs: 0.9219\n",
      "🔍 42fe7dd0_9291ca83 - Simhash: 0.9531, Similitud ASTs: 0.9531\n",
      "🔍 5a81e159_866a2d52 - Simhash: 0.8281, Similitud ASTs: 0.8594\n"
     ]
    },
    {
     "name": "stderr",
     "output_type": "stream",
     "text": [
      "Procesando pares:  37%|███▋      | 569/1539 [00:02<00:07, 122.07it/s]"
     ]
    },
    {
     "name": "stdout",
     "output_type": "stream",
     "text": [
      "🔍 3d245498_7838095f - Simhash: 1.0000, Similitud ASTs: 0.9844\n",
      "🔍 26e699de_fcc7e8fa - Simhash: 0.8125, Similitud ASTs: 0.8438\n",
      "🔍 9028caf7_e6b7a899 - Simhash: 0.8906, Similitud ASTs: 0.8906\n",
      "🔍 b2590225_f7fc2e94 - Simhash: 0.8750, Similitud ASTs: 0.8750\n",
      "🔍 558df7d4_f0d91796 - Simhash: 0.9375, Similitud ASTs: 0.9844\n",
      "🔍 bf85ab7b_e48933fa - Simhash: 0.8125, Similitud ASTs: 0.8906\n",
      "🔍 722e318f_ff1fc018 - Simhash: 0.8750, Similitud ASTs: 0.8750\n",
      "🔍 68cdd55d_c18048bf - Simhash: 0.7969, Similitud ASTs: 0.8594\n",
      "🔍 0fd5b95a_41e72d4f - Simhash: 0.8281, Similitud ASTs: 0.8906\n",
      "🔍 16857116_e185bce5 - Simhash: 0.9062, Similitud ASTs: 0.9062\n",
      "🔍 1dab88fb_7b5f64b7 - Simhash: 0.9531, Similitud ASTs: 0.9219\n",
      "🔍 680ba922_ee4b9467 - Simhash: 0.8281, Similitud ASTs: 0.9219\n"
     ]
    },
    {
     "name": "stderr",
     "output_type": "stream",
     "text": [
      "Procesando pares:  38%|███▊      | 583/1539 [00:02<00:07, 121.09it/s]"
     ]
    },
    {
     "name": "stdout",
     "output_type": "stream",
     "text": [
      "🔍 0c1143f7_960a4c0f - Simhash: 0.8750, Similitud ASTs: 0.9062\n",
      "🔍 3d88acb8_b6023b26 - Simhash: 0.8438, Similitud ASTs: 0.9688\n",
      "🔍 9069684f_bf85ab7b - Simhash: 0.8750, Similitud ASTs: 0.9531\n",
      "🔍 32ff22fe_f0d91796 - Simhash: 1.0000, Similitud ASTs: 0.9688\n",
      "🔍 36f1b52a_558df7d4 - Simhash: 0.9531, Similitud ASTs: 1.0000\n",
      "🔍 39098126_3bcd2014 - Simhash: 0.9062, Similitud ASTs: 0.9219\n",
      "🔍 0588b869_9028caf7 - Simhash: 0.8594, Similitud ASTs: 0.8750\n",
      "🔍 22b41936_8f855b99 - Simhash: 0.8750, Similitud ASTs: 0.9531\n",
      "🔍 584b0e9e_722e318f - Simhash: 0.8281, Similitud ASTs: 0.8750\n",
      "🔍 7814575b_8cfe3ee0 - Simhash: 0.7656, Similitud ASTs: 0.8594\n",
      "🔍 034030f3_bf992c91 - Simhash: 0.8750, Similitud ASTs: 0.9531\n"
     ]
    },
    {
     "name": "stderr",
     "output_type": "stream",
     "text": [
      "Procesando pares:  39%|███▊      | 596/1539 [00:02<00:07, 122.20it/s]"
     ]
    },
    {
     "name": "stdout",
     "output_type": "stream",
     "text": [
      "🔍 99bc7da3_ced4639e - Simhash: 0.9062, Similitud ASTs: 0.9219\n",
      "🔍 403e3270_58d18fca - Simhash: 0.9375, Similitud ASTs: 0.9688\n",
      "🔍 80881cae_a7e7f371 - Simhash: 0.9375, Similitud ASTs: 0.9531\n",
      "🔍 4a570de6_9852706b - Simhash: 0.9062, Similitud ASTs: 0.9531\n",
      "🔍 316c9955_e7370eec - Simhash: 0.8438, Similitud ASTs: 0.9062\n",
      "🔍 375489f2_a4c98ae1 - Simhash: 0.8594, Similitud ASTs: 0.8906\n",
      "🔍 26e699de_e99c14b9 - Simhash: 0.9219, Similitud ASTs: 0.9531\n",
      "🔍 2695ce73_ac8acb97 - Simhash: 0.8750, Similitud ASTs: 0.9688\n",
      "🔍 1162c08f_a4d6775d - Simhash: 0.8750, Similitud ASTs: 0.9531\n",
      "🔍 480de7be_f4757480 - Simhash: 0.8594, Similitud ASTs: 0.9844\n",
      "🔍 2120328e_b790ef12 - Simhash: 0.9062, Similitud ASTs: 0.9375\n",
      "🔍 6e207cbf_e19376ca - Simhash: 0.8906, Similitud ASTs: 0.8438\n",
      "🔍 9028caf7_a4e39423 - Simhash: 0.8594, Similitud ASTs: 0.9219\n",
      "🔍 80881cae_f8e7b886 - Simhash: 0.8438, Similitud ASTs: 0.9375\n",
      "🔍 43855bfe_ddcadc64 - Simhash: 0.8594, Similitud ASTs: 0.9219\n",
      "🔍 7279bcb3_cfba313d - Simhash: 0.8906, Similitud ASTs: 0.9062\n",
      "🔍 a4e39423_ba8800f5 - Simhash: 0.8750, Similitud ASTs: 0.9375\n",
      "🔍 af2b138c_e45446bc - Simhash: 0.9219, Similitud ASTs: 0.9688\n",
      "🔍 10bbe9de_48993e07 - Simhash: 0.8750, Similitud ASTs: 0.9062\n",
      "🔍 927384f2_d4779c71 - Simhash: 0.8750, Similitud ASTs: 0.9531\n",
      "🔍 aa8091b0_ac180326 - Simhash: 0.7500, Similitud ASTs: 0.9531\n",
      "🔍 692a4496_f7006f16 - Simhash: 0.8594, Similitud ASTs: 0.9375\n",
      "🔍 b9595381_c4ca2ff3 - Simhash: 0.9375, Similitud ASTs: 0.9375\n",
      "🔍 2ef4c176_fa1bf524 - Simhash: 0.7812, Similitud ASTs: 0.8438\n",
      "🔍 8703709f_f0801d53 - Simhash: 0.8594, Similitud ASTs: 0.9219\n"
     ]
    },
    {
     "name": "stderr",
     "output_type": "stream",
     "text": [
      "Procesando pares:  40%|███▉      | 609/1539 [00:02<00:07, 118.02it/s]"
     ]
    },
    {
     "name": "stdout",
     "output_type": "stream",
     "text": [
      "🔍 56a90e79_b505f95e - Simhash: 0.8125, Similitud ASTs: 0.9062\n",
      "🔍 0ea5a836_3c74c140 - Simhash: 0.8750, Similitud ASTs: 0.9062\n",
      "🔍 63118334_c392efe7 - Simhash: 0.8750, Similitud ASTs: 0.8750\n",
      "🔍 14b0fb8e_d221162a - Simhash: 0.8438, Similitud ASTs: 0.9531\n",
      "🔍 ca8f11a4_e19376ca - Simhash: 0.9219, Similitud ASTs: 0.8594\n",
      "🔍 d2eb953e_dcf09f37 - Simhash: 0.9219, Similitud ASTs: 0.9688\n",
      "🔍 a368f345_b434c275 - Simhash: 0.8906, Similitud ASTs: 0.8281\n",
      "🔍 1adac634_ee0bc145 - Simhash: 0.8906, Similitud ASTs: 0.8594\n"
     ]
    },
    {
     "name": "stderr",
     "output_type": "stream",
     "text": [
      "Procesando pares:  40%|████      | 622/1539 [00:02<00:08, 108.02it/s]"
     ]
    },
    {
     "name": "stdout",
     "output_type": "stream",
     "text": [
      "🔍 73f57af1_ac8ef97c - Simhash: 0.8281, Similitud ASTs: 0.8438\n",
      "🔍 0ee2f8f1_587307f2 - Simhash: 1.0000, Similitud ASTs: 1.0000\n",
      "🔍 5bf01190_79b9b897 - Simhash: 0.8594, Similitud ASTs: 0.9062\n",
      "🔍 5b9a0551_9debf95c - Simhash: 0.8594, Similitud ASTs: 0.9062\n",
      "🔍 476e94d3_9310ad0c - Simhash: 0.8438, Similitud ASTs: 0.9688\n",
      "🔍 2b2d3b84_9fd33d5a - Simhash: 0.9062, Similitud ASTs: 0.9375\n",
      "🔍 26e699de_f229aa7f - Simhash: 0.8594, Similitud ASTs: 0.9062\n",
      "🔍 169e34bf_d9199dfd - Simhash: 0.8594, Similitud ASTs: 0.9375\n",
      "🔍 0ecf356d_71a4f6d2 - Simhash: 0.9375, Similitud ASTs: 0.9219\n",
      "🔍 1162c08f_6653a758 - Simhash: 1.0000, Similitud ASTs: 1.0000\n",
      "🔍 1410e423_e90a198b - Simhash: 0.8281, Similitud ASTs: 0.9062\n",
      "🔍 f229aa7f_fcc7e8fa - Simhash: 0.9219, Similitud ASTs: 0.8750\n",
      "🔍 127af3a7_99ccaa44 - Simhash: 0.7812, Similitud ASTs: 0.8594\n",
      "🔍 268eb6c6_3cf63146 - Simhash: 0.9219, Similitud ASTs: 0.9531\n"
     ]
    },
    {
     "name": "stderr",
     "output_type": "stream",
     "text": [
      "Procesando pares:  41%|████▏     | 635/1539 [00:03<00:08, 111.75it/s]"
     ]
    },
    {
     "name": "stdout",
     "output_type": "stream",
     "text": [
      "🔍 3c74c140_732c98a0 - Simhash: 0.8906, Similitud ASTs: 0.9531\n",
      "🔍 4241f473_4685c420 - Simhash: 0.8438, Similitud ASTs: 0.8750\n",
      "🔍 522458fc_702694f5 - Simhash: 0.8594, Similitud ASTs: 0.9219\n",
      "🔍 ca8f11a4_e185bce5 - Simhash: 0.9375, Similitud ASTs: 0.8750\n",
      "🔍 0922b7e7_d1cd194e - Simhash: 0.8906, Similitud ASTs: 0.8906\n",
      "🔍 201e3463_de599e42 - Simhash: 0.9062, Similitud ASTs: 0.9531\n",
      "🔍 624b8db5_eacc407e - Simhash: 0.7812, Similitud ASTs: 0.8594\n",
      "🔍 929b98f0_bf85ab7b - Simhash: 0.9219, Similitud ASTs: 0.8750\n",
      "🔍 856a8eda_c354b74f - Simhash: 0.9375, Similitud ASTs: 0.9062\n",
      "🔍 55ab9b5d_c6113c06 - Simhash: 0.9375, Similitud ASTs: 0.9844\n",
      "🔍 35bb6075_ed728769 - Simhash: 0.9219, Similitud ASTs: 0.9375\n"
     ]
    },
    {
     "name": "stderr",
     "output_type": "stream",
     "text": [
      "Procesando pares:  42%|████▏     | 648/1539 [00:03<00:07, 115.57it/s]"
     ]
    },
    {
     "name": "stdout",
     "output_type": "stream",
     "text": [
      "🔍 2c7a0000_bd50e3fe - Simhash: 0.9375, Similitud ASTs: 0.9531\n",
      "🔍 ac2dfc53_c4187a0e - Simhash: 0.8281, Similitud ASTs: 0.8125\n",
      "🔍 25597bcb_86232d21 - Simhash: 0.9062, Similitud ASTs: 0.8125\n",
      "🔍 086f0f90_4a570de6 - Simhash: 0.8438, Similitud ASTs: 1.0000\n",
      "🔍 1162c08f_eea69e7f - Simhash: 0.8906, Similitud ASTs: 0.9219\n",
      "🔍 55ab9b5d_ae4d5b49 - Simhash: 0.7656, Similitud ASTs: 0.8594\n",
      "🔍 6e7cd58b_7279bcb3 - Simhash: 1.0000, Similitud ASTs: 0.9844\n",
      "🔍 3e1442a3_d0e27497 - Simhash: 0.7344, Similitud ASTs: 0.8125\n",
      "🔍 83b44c9c_e431de28 - Simhash: 0.9062, Similitud ASTs: 0.9688\n",
      "🔍 4552d8a0_d3a96420 - Simhash: 0.9375, Similitud ASTs: 0.9375\n",
      "🔍 1410e423_da5cf40b - Simhash: 0.8281, Similitud ASTs: 0.9375\n",
      "🔍 3d06b643_cb87df79 - Simhash: 0.8906, Similitud ASTs: 0.9688\n",
      "🔍 034030f3_9e4ddc38 - Simhash: 0.7969, Similitud ASTs: 0.9062\n",
      "🔍 9291ca83_b185d034 - Simhash: 0.9375, Similitud ASTs: 0.9219\n",
      "🔍 1dab88fb_4138b081 - Simhash: 0.7656, Similitud ASTs: 0.8438\n",
      "🔍 80e6c4db_f22a4243 - Simhash: 0.8125, Similitud ASTs: 0.8438\n",
      "🔍 9291ca83_d61f51c5 - Simhash: 0.9219, Similitud ASTs: 0.9531\n"
     ]
    },
    {
     "name": "stderr",
     "output_type": "stream",
     "text": [
      "Procesando pares:  43%|████▎     | 661/1539 [00:03<00:07, 118.05it/s]"
     ]
    },
    {
     "name": "stdout",
     "output_type": "stream",
     "text": [
      "🔍 1c90c367_f0801d53 - Simhash: 0.8281, Similitud ASTs: 0.8750\n",
      "🔍 018c15bd_378bb1ca - Simhash: 0.8438, Similitud ASTs: 0.9062\n",
      "🔍 1ea771ea_2f8c3bf3 - Simhash: 0.9219, Similitud ASTs: 0.9219\n",
      "🔍 0951d079_71a4f6d2 - Simhash: 0.9219, Similitud ASTs: 0.9375\n",
      "🔍 1480a727_a7d1ce58 - Simhash: 0.9062, Similitud ASTs: 0.9688\n",
      "🔍 3bd7275e_8635bc10 - Simhash: 0.8438, Similitud ASTs: 0.8750\n",
      "🔍 0c9d4def_1a6f8b20 - Simhash: 0.8438, Similitud ASTs: 0.9375\n",
      "🔍 eea69e7f_f6ca6fc8 - Simhash: 0.8906, Similitud ASTs: 0.9531\n"
     ]
    },
    {
     "name": "stderr",
     "output_type": "stream",
     "text": [
      "Procesando pares:  44%|████▍     | 674/1539 [00:03<00:07, 109.51it/s]"
     ]
    },
    {
     "name": "stdout",
     "output_type": "stream",
     "text": [
      "🔍 3088ca9c_f6ed6826 - Simhash: 0.9219, Similitud ASTs: 0.9062\n",
      "🔍 4d279121_a3e272af - Simhash: 0.9688, Similitud ASTs: 0.9531\n",
      "🔍 9debf95c_ac596a43 - Simhash: 1.0000, Similitud ASTs: 1.0000\n",
      "🔍 343cc8e7_7f69a9e8 - Simhash: 0.8594, Similitud ASTs: 0.9219\n",
      "🔍 085ddefc_1500a4fa - Simhash: 0.9531, Similitud ASTs: 0.9531\n",
      "🔍 bdfe8110_c57a973e - Simhash: 0.8906, Similitud ASTs: 0.9375\n",
      "🔍 45f5632f_5dc1f7b3 - Simhash: 0.7969, Similitud ASTs: 0.8594\n",
      "🔍 3b5cec19_8f31b279 - Simhash: 0.9219, Similitud ASTs: 0.9375\n",
      "🔍 3380fa52_48993e07 - Simhash: 0.9219, Similitud ASTs: 0.8750\n",
      "🔍 22b41936_45f5632f - Simhash: 0.8281, Similitud ASTs: 0.8906\n",
      "🔍 6b97058e_921b6e4a - Simhash: 1.0000, Similitud ASTs: 1.0000\n",
      "🔍 4be01508_b7de5c19 - Simhash: 0.8750, Similitud ASTs: 0.9375\n",
      "🔍 161b4a40_da5cf40b - Simhash: 0.8594, Similitud ASTs: 0.8906\n"
     ]
    },
    {
     "name": "stderr",
     "output_type": "stream",
     "text": [
      "Procesando pares:  45%|████▍     | 686/1539 [00:03<00:07, 111.77it/s]"
     ]
    },
    {
     "name": "stdout",
     "output_type": "stream",
     "text": [
      "🔍 3dd65549_c1638a45 - Simhash: 0.8906, Similitud ASTs: 0.9062\n",
      "🔍 6e207cbf_76ad805a - Simhash: 0.8281, Similitud ASTs: 0.7969\n",
      "🔍 3368f340_d8a171a3 - Simhash: 0.8906, Similitud ASTs: 0.9844\n",
      "🔍 464a03b8_c9159d9c - Simhash: 0.8594, Similitud ASTs: 0.9531\n",
      "🔍 a8f7c8b7_c1638a45 - Simhash: 0.9062, Similitud ASTs: 0.9375\n",
      "🔍 1c90c367_e52863b8 - Simhash: 0.8125, Similitud ASTs: 0.9062\n",
      "🔍 018c9543_d1dbc56a - Simhash: 0.8594, Similitud ASTs: 0.9688\n",
      "🔍 1be078c4_f339ef6f - Simhash: 0.8906, Similitud ASTs: 0.8750\n",
      "🔍 120878da_ac180326 - Simhash: 0.8125, Similitud ASTs: 0.9219\n",
      "🔍 3f939694_54488276 - Simhash: 0.8906, Similitud ASTs: 0.9375\n"
     ]
    },
    {
     "name": "stderr",
     "output_type": "stream",
     "text": [
      "Procesando pares:  45%|████▌     | 698/1539 [00:03<00:07, 113.10it/s]"
     ]
    },
    {
     "name": "stdout",
     "output_type": "stream",
     "text": [
      "🔍 49e94e7e_d7a8434f - Simhash: 0.8594, Similitud ASTs: 0.9062\n",
      "🔍 ba468e1f_fb312dc6 - Simhash: 0.9219, Similitud ASTs: 0.9219\n",
      "🔍 953ac418_ba9b94f7 - Simhash: 0.8281, Similitud ASTs: 0.8906\n",
      "🔍 07038b12_a18cb2c1 - Simhash: 0.8438, Similitud ASTs: 0.9062\n",
      "🔍 69c97258_db01da00 - Simhash: 0.7969, Similitud ASTs: 0.8750\n",
      "🔍 ac121776_eb6cfca7 - Simhash: 0.7812, Similitud ASTs: 0.9219\n",
      "🔍 c48673a6_ebed1250 - Simhash: 0.8125, Similitud ASTs: 0.8594\n",
      "🔍 9756f13a_ea899386 - Simhash: 0.8906, Similitud ASTs: 0.9375\n",
      "🔍 d8a171a3_f229aa7f - Simhash: 0.8906, Similitud ASTs: 0.8906\n",
      "🔍 03b3c5af_d74028ea - Simhash: 0.8438, Similitud ASTs: 0.9375\n",
      "🔍 9069684f_fffc11ee - Simhash: 0.8281, Similitud ASTs: 0.9375\n",
      "🔍 163d0dde_f87eb1b3 - Simhash: 0.9219, Similitud ASTs: 0.8438\n",
      "🔍 5766f176_e7a997b5 - Simhash: 0.8125, Similitud ASTs: 0.8125\n",
      "🔍 2120328e_6de04ee2 - Simhash: 0.9062, Similitud ASTs: 0.9531\n",
      "🔍 529d9642_8ad1ad84 - Simhash: 0.8281, Similitud ASTs: 0.8750\n"
     ]
    },
    {
     "name": "stderr",
     "output_type": "stream",
     "text": [
      "Procesando pares:  46%|████▌     | 710/1539 [00:03<00:08, 102.14it/s]"
     ]
    },
    {
     "name": "stdout",
     "output_type": "stream",
     "text": [
      "🔍 3d06b643_930dd1f1 - Simhash: 0.8750, Similitud ASTs: 0.9062\n",
      "🔍 4138b081_f729338f - Simhash: 0.8594, Similitud ASTs: 0.9688\n",
      "🔍 00f79486_fb312dc6 - Simhash: 0.9219, Similitud ASTs: 0.8594\n",
      "🔍 b434c275_fdc4f384 - Simhash: 0.9844, Similitud ASTs: 1.0000\n",
      "🔍 1dab88fb_f59d9b6e - Simhash: 0.9375, Similitud ASTs: 0.8594\n",
      "🔍 1071f735_cd835290 - Simhash: 0.7344, Similitud ASTs: 0.8125\n"
     ]
    },
    {
     "name": "stderr",
     "output_type": "stream",
     "text": [
      "Procesando pares:  47%|████▋     | 721/1539 [00:03<00:07, 103.08it/s]"
     ]
    },
    {
     "name": "stdout",
     "output_type": "stream",
     "text": [
      "🔍 83b44c9c_8d9871a9 - Simhash: 0.8750, Similitud ASTs: 0.9531\n",
      "🔍 40132ebc_d783d815 - Simhash: 0.8906, Similitud ASTs: 0.9062\n",
      "🔍 14b0fb8e_6490bbe8 - Simhash: 0.7812, Similitud ASTs: 0.9062\n",
      "🔍 a368f345_e5d02e93 - Simhash: 0.8750, Similitud ASTs: 0.8438\n",
      "🔍 08cf0478_0f14b12d - Simhash: 0.8750, Similitud ASTs: 0.9062\n",
      "🔍 d2a4c1fb_dcdaf666 - Simhash: 0.8906, Similitud ASTs: 0.9688\n",
      "🔍 25597bcb_5fcbdd19 - Simhash: 0.8594, Similitud ASTs: 0.8281\n",
      "🔍 643e22cc_bd7281dc - Simhash: 0.8750, Similitud ASTs: 0.9375\n",
      "🔍 63bfa731_7974ffba - Simhash: 0.9062, Similitud ASTs: 0.9219\n",
      "🔍 04df7bb8_85125ecb - Simhash: 0.7344, Similitud ASTs: 0.8906\n",
      "🔍 646b3abc_8261bd1c - Simhash: 0.8750, Similitud ASTs: 0.8594\n",
      "🔍 05ca89ed_5b9a0551 - Simhash: 0.8438, Similitud ASTs: 0.8906\n",
      "🔍 01b911ac_a195911e - Simhash: 0.8125, Similitud ASTs: 0.9219\n",
      "🔍 079ad09e_20012377 - Simhash: 1.0000, Similitud ASTs: 1.0000\n",
      "🔍 6653a758_6bcc5afd - Simhash: 0.9531, Similitud ASTs: 0.9688\n",
      "🔍 11c2ab99_259c1ea4 - Simhash: 0.8438, Similitud ASTs: 0.8906\n",
      "🔍 0df4050e_6f02c6d9 - Simhash: 0.9062, Similitud ASTs: 0.9531\n",
      "🔍 d1cd194e_dbffab11 - Simhash: 0.8906, Similitud ASTs: 0.9375\n",
      "🔍 2b9dfed3_351c9206 - Simhash: 1.0000, Similitud ASTs: 1.0000\n",
      "🔍 169e34bf_609af028 - Simhash: 0.8594, Similitud ASTs: 0.8750\n",
      "🔍 1c4d348d_565f77b7 - Simhash: 0.8281, Similitud ASTs: 0.8438\n"
     ]
    },
    {
     "name": "stderr",
     "output_type": "stream",
     "text": [
      "Procesando pares:  48%|████▊     | 745/1539 [00:04<00:07, 108.16it/s]"
     ]
    },
    {
     "name": "stdout",
     "output_type": "stream",
     "text": [
      "🔍 0922b7e7_c34bb733 - Simhash: 0.8281, Similitud ASTs: 0.8594\n",
      "🔍 2eb89317_d4a3869e - Simhash: 0.8281, Similitud ASTs: 0.9688\n",
      "🔍 3a12e509_47310b0e - Simhash: 0.9375, Similitud ASTs: 0.8750\n",
      "🔍 8f30bfc3_af1b152e - Simhash: 1.0000, Similitud ASTs: 1.0000\n",
      "🔍 51cc7026_51d88c51 - Simhash: 0.8750, Similitud ASTs: 0.9688\n",
      "🔍 0f14b12d_7d12d33c - Simhash: 0.9219, Similitud ASTs: 0.9219\n",
      "🔍 0c0af0ff_d6a8d884 - Simhash: 0.8594, Similitud ASTs: 0.9531\n",
      "🔍 80881cae_ad4c7a20 - Simhash: 0.9375, Similitud ASTs: 0.9375\n",
      "🔍 1ea771ea_ee270b2a - Simhash: 0.9062, Similitud ASTs: 0.9219\n",
      "🔍 0df4050e_d9199dfd - Simhash: 0.8750, Similitud ASTs: 0.8906\n",
      "🔍 42fe7dd0_c4ca2ff3 - Simhash: 0.9375, Similitud ASTs: 0.9688\n",
      "🔍 69b8ffb2_c9159d9c - Simhash: 0.8438, Similitud ASTs: 0.9844\n",
      "🔍 baa8e497_cc9230d3 - Simhash: 0.7500, Similitud ASTs: 0.7344\n",
      "🔍 46e9aed4_ee4f7b06 - Simhash: 0.7969, Similitud ASTs: 0.8125\n",
      "🔍 3368f340_402aff07 - Simhash: 0.9062, Similitud ASTs: 0.9219\n",
      "🔍 0889dcfb_22138fad - Simhash: 0.9062, Similitud ASTs: 0.9688\n",
      "🔍 35857a5a_ab7507bf - Simhash: 0.8906, Similitud ASTs: 0.9844\n",
      "🔍 bdfe8110_e6a6e318 - Simhash: 0.8906, Similitud ASTs: 0.9531\n",
      "🔍 016510dc_f1540246 - Simhash: 0.9062, Similitud ASTs: 0.9531\n"
     ]
    },
    {
     "name": "stderr",
     "output_type": "stream",
     "text": [
      "Procesando pares:  50%|████▉     | 766/1539 [00:04<00:07, 97.56it/s] "
     ]
    },
    {
     "name": "stdout",
     "output_type": "stream",
     "text": [
      "🔍 317a209c_548ffb07 - Simhash: 1.0000, Similitud ASTs: 0.9688\n",
      "🔍 2eb89317_fcc7e8fa - Simhash: 0.7656, Similitud ASTs: 0.8281\n",
      "🔍 829d2024_9852706b - Simhash: 0.9219, Similitud ASTs: 0.9219\n",
      "🔍 11373c16_7011024d - Simhash: 0.8750, Similitud ASTs: 0.8750\n",
      "🔍 51d857bc_c392efe7 - Simhash: 0.8438, Similitud ASTs: 0.8594\n",
      "🔍 3cf63146_bdfe8110 - Simhash: 0.8906, Similitud ASTs: 0.8906\n",
      "🔍 29210e56_46e9aed4 - Simhash: 0.8594, Similitud ASTs: 0.8438\n",
      "🔍 5647d16e_ea09d197 - Simhash: 0.8125, Similitud ASTs: 0.9062\n",
      "🔍 90dc2b20_d8a171a3 - Simhash: 0.7812, Similitud ASTs: 0.8594\n",
      "🔍 1f748faf_851fafb6 - Simhash: 0.8125, Similitud ASTs: 0.8438\n",
      "🔍 e2fe9d7d_ece1820d - Simhash: 0.9062, Similitud ASTs: 0.8438\n",
      "🔍 d12f26f0_df594a00 - Simhash: 0.8438, Similitud ASTs: 0.8750\n",
      "🔍 aa4b840f_e99c14b9 - Simhash: 0.8438, Similitud ASTs: 0.8281\n",
      "🔍 4548305b_be3b1289 - Simhash: 0.8750, Similitud ASTs: 0.9375\n",
      "🔍 98950986_b9595381 - Simhash: 0.8125, Similitud ASTs: 0.8906\n",
      "🔍 0d4d22e0_d20e861b - Simhash: 0.8281, Similitud ASTs: 0.9531\n",
      "🔍 a4d6775d_eea69e7f - Simhash: 0.8906, Similitud ASTs: 0.9688\n",
      "🔍 0588b869_69b2fd22 - Simhash: 0.8594, Similitud ASTs: 0.8750\n",
      "🔍 4e87c35b_f1f600d9 - Simhash: 0.8281, Similitud ASTs: 0.9219\n",
      "🔍 71c7ac71_8f778337 - Simhash: 0.9062, Similitud ASTs: 0.9219\n",
      "🔍 26e699de_3dd65549 - Simhash: 0.8594, Similitud ASTs: 0.8750\n"
     ]
    },
    {
     "name": "stderr",
     "output_type": "stream",
     "text": [
      "Procesando pares:  50%|█████     | 776/1539 [00:04<00:08, 90.47it/s]"
     ]
    },
    {
     "name": "stdout",
     "output_type": "stream",
     "text": [
      "🔍 307ef2cb_565f77b7 - Simhash: 0.7812, Similitud ASTs: 0.8750\n",
      "🔍 856a8eda_a3e272af - Simhash: 0.8906, Similitud ASTs: 0.9219\n",
      "🔍 6815a099_f41057db - Simhash: 0.9219, Similitud ASTs: 0.9688\n",
      "🔍 81a9086f_baebdc56 - Simhash: 0.9375, Similitud ASTs: 0.9375\n",
      "🔍 5e8d1aaa_c4d04ce7 - Simhash: 0.8594, Similitud ASTs: 0.9688\n",
      "🔍 8703709f_d2901569 - Simhash: 0.8438, Similitud ASTs: 0.9219\n",
      "🔍 5756162d_808f7516 - Simhash: 0.9062, Similitud ASTs: 0.9062\n",
      "🔍 6f037b1d_ef1117e3 - Simhash: 0.9062, Similitud ASTs: 0.8906\n",
      "🔍 93ee4612_da5cf40b - Simhash: 0.8750, Similitud ASTs: 0.8906\n",
      "🔍 3a12e509_6de04ee2 - Simhash: 0.9219, Similitud ASTs: 0.8750\n",
      "🔍 0f3a2acf_dba80ad4 - Simhash: 0.8594, Similitud ASTs: 0.8281\n"
     ]
    },
    {
     "name": "stderr",
     "output_type": "stream",
     "text": [
      "Procesando pares:  51%|█████     | 786/1539 [00:04<00:08, 90.36it/s]"
     ]
    },
    {
     "name": "stdout",
     "output_type": "stream",
     "text": [
      "🔍 24afd00e_424c930b - Simhash: 0.8906, Similitud ASTs: 0.8438\n",
      "🔍 7011024d_e6b7a899 - Simhash: 0.8125, Similitud ASTs: 0.8750\n",
      "🔍 d9199dfd_ff1fc018 - Simhash: 0.8906, Similitud ASTs: 0.8906\n",
      "🔍 49b94994_558df7d4 - Simhash: 0.9219, Similitud ASTs: 1.0000\n",
      "🔍 3c667d4f_be3b1289 - Simhash: 0.8594, Similitud ASTs: 0.9375\n",
      "🔍 734a94be_cb87df79 - Simhash: 0.8750, Similitud ASTs: 0.9844\n",
      "🔍 169e34bf_fae0662f - Simhash: 0.8906, Similitud ASTs: 0.9062\n",
      "🔍 c73cd266_d2eb953e - Simhash: 0.9219, Similitud ASTs: 0.9688\n",
      "🔍 df594a00_fcbe7917 - Simhash: 0.8750, Similitud ASTs: 0.9375\n",
      "🔍 3a12e509_c9159d9c - Simhash: 0.8594, Similitud ASTs: 0.9375\n"
     ]
    },
    {
     "name": "stderr",
     "output_type": "stream",
     "text": [
      "Procesando pares:  52%|█████▏    | 797/1539 [00:04<00:07, 94.89it/s]"
     ]
    },
    {
     "name": "stdout",
     "output_type": "stream",
     "text": [
      "🔍 1adac634_a7e7f371 - Simhash: 0.9375, Similitud ASTs: 0.9375\n",
      "🔍 12c1cc56_7b71234c - Simhash: 1.0000, Similitud ASTs: 1.0000\n",
      "🔍 fc7dfa16_fe94ee2f - Simhash: 1.0000, Similitud ASTs: 1.0000\n",
      "🔍 169e34bf_69b8ffb2 - Simhash: 0.9375, Similitud ASTs: 0.9531\n",
      "🔍 21123500_fbd26aa0 - Simhash: 1.0000, Similitud ASTs: 1.0000\n",
      "🔍 49e94e7e_da5cf40b - Simhash: 0.8906, Similitud ASTs: 0.8906\n",
      "🔍 8c591975_b6724dd9 - Simhash: 0.8125, Similitud ASTs: 0.8594\n",
      "🔍 42c7b9df_adbb2f71 - Simhash: 0.8281, Similitud ASTs: 0.9688\n",
      "🔍 47d54299_63bfa731 - Simhash: 0.8906, Similitud ASTs: 0.9688\n",
      "🔍 4a5b029f_fb05904c - Simhash: 0.7812, Similitud ASTs: 0.8438\n",
      "🔍 4851a411_e201bc2e - Simhash: 0.8750, Similitud ASTs: 0.9688\n"
     ]
    },
    {
     "name": "stderr",
     "output_type": "stream",
     "text": [
      "Procesando pares:  52%|█████▏    | 807/1539 [00:04<00:07, 96.04it/s]"
     ]
    },
    {
     "name": "stdout",
     "output_type": "stream",
     "text": [
      "🔍 39073790_d735b078 - Simhash: 0.9062, Similitud ASTs: 0.9688\n",
      "🔍 ca0c55ad_e14d1ba0 - Simhash: 1.0000, Similitud ASTs: 1.0000\n",
      "🔍 2bbf754b_69b8ffb2 - Simhash: 0.8906, Similitud ASTs: 0.9219\n",
      "🔍 7814575b_b55888de - Simhash: 0.8125, Similitud ASTs: 0.8438\n",
      "🔍 3e28571b_77b5c134 - Simhash: 0.8906, Similitud ASTs: 0.9219\n",
      "🔍 40cc90ae_51151974 - Simhash: 0.8906, Similitud ASTs: 0.8906\n",
      "🔍 26ad111c_b0a01ee7 - Simhash: 0.7969, Similitud ASTs: 0.8750\n",
      "🔍 298ee961_392218ef - Simhash: 0.9219, Similitud ASTs: 0.9688\n",
      "🔍 00af3420_86102d81 - Simhash: 0.8594, Similitud ASTs: 0.9062\n",
      "🔍 00db6701_0c1143f7 - Simhash: 0.8438, Similitud ASTs: 0.9531\n",
      "🔍 5289e80a_d82fa7e3 - Simhash: 0.9375, Similitud ASTs: 0.8906\n"
     ]
    },
    {
     "name": "stderr",
     "output_type": "stream",
     "text": [
      "Procesando pares:  53%|█████▎    | 818/1539 [00:04<00:07, 99.40it/s]"
     ]
    },
    {
     "name": "stdout",
     "output_type": "stream",
     "text": [
      "🔍 52cd85f2_ff34fab2 - Simhash: 0.8750, Similitud ASTs: 0.9375\n",
      "🔍 0d11fb94_8c79c384 - Simhash: 0.8906, Similitud ASTs: 0.8125\n",
      "🔍 cc9230d3_ec558d69 - Simhash: 0.8906, Similitud ASTs: 0.9688\n",
      "🔍 3850468c_403e3270 - Simhash: 0.8906, Similitud ASTs: 0.9219\n",
      "🔍 fadc1365_fdd85afb - Simhash: 0.8594, Similitud ASTs: 0.8906\n",
      "🔍 66565156_6f393cfe - Simhash: 0.9219, Similitud ASTs: 0.9531\n",
      "🔍 0b04b41e_fdd41565 - Simhash: 0.8906, Similitud ASTs: 0.8906\n",
      "🔍 4a1573d6_db8d728d - Simhash: 0.7812, Similitud ASTs: 0.7812\n"
     ]
    },
    {
     "name": "stderr",
     "output_type": "stream",
     "text": [
      "Procesando pares:  54%|█████▍    | 838/1539 [00:05<00:09, 77.66it/s]"
     ]
    },
    {
     "name": "stdout",
     "output_type": "stream",
     "text": [
      "🔍 8d6f1bf5_e90a198b - Simhash: 0.8125, Similitud ASTs: 0.9062\n",
      "🔍 3088ca9c_a2cf5634 - Simhash: 0.7969, Similitud ASTs: 0.8594\n",
      "🔍 51cc7026_e81b2d16 - Simhash: 0.8438, Similitud ASTs: 0.9688\n",
      "🔍 8a5fe3d9_ea899386 - Simhash: 0.9062, Similitud ASTs: 0.9062\n",
      "🔍 8a729537_abd16ff0 - Simhash: 0.9219, Similitud ASTs: 0.9062\n",
      "🔍 35f0c004_8d6f1bf5 - Simhash: 0.7969, Similitud ASTs: 0.9375\n",
      "🔍 31f29772_d04e5afb - Simhash: 0.8594, Similitud ASTs: 0.9375\n",
      "🔍 ba468e1f_ff34fab2 - Simhash: 0.8750, Similitud ASTs: 0.9219\n",
      "🔍 8aadde13_fb20d298 - Simhash: 0.8125, Similitud ASTs: 0.9375\n",
      "🔍 54129ce9_607d5541 - Simhash: 1.0000, Similitud ASTs: 1.0000\n",
      "🔍 ba468e1f_d9199dfd - Simhash: 0.8906, Similitud ASTs: 0.9375\n",
      "🔍 d5dc6626_f59d9b6e - Simhash: 0.8281, Similitud ASTs: 0.8750\n",
      "🔍 67241a76_8a39dbf5 - Simhash: 0.8281, Similitud ASTs: 0.9688\n",
      "🔍 23cb8587_a5f41b95 - Simhash: 0.8594, Similitud ASTs: 0.9219\n",
      "🔍 07043d35_97a7fab5 - Simhash: 0.8750, Similitud ASTs: 0.8438\n",
      "🔍 73f57af1_9a20c823 - Simhash: 0.8906, Similitud ASTs: 0.9531\n",
      "🔍 778c91af_9399204d - Simhash: 0.8594, Similitud ASTs: 0.9531\n",
      "🔍 29210e56_4323e2bd - Simhash: 0.8125, Similitud ASTs: 0.8906\n",
      "🔍 1dab88fb_b7de5c19 - Simhash: 0.9531, Similitud ASTs: 0.9844\n"
     ]
    },
    {
     "name": "stderr",
     "output_type": "stream",
     "text": [
      "Procesando pares:  56%|█████▌    | 860/1539 [00:05<00:07, 90.29it/s]"
     ]
    },
    {
     "name": "stdout",
     "output_type": "stream",
     "text": [
      "🔍 5d175166_d1391025 - Simhash: 0.9219, Similitud ASTs: 0.9219\n",
      "🔍 0ecf356d_b2bae06a - Simhash: 0.9219, Similitud ASTs: 0.9219\n",
      "🔍 81fb6415_b3d4c5ca - Simhash: 0.8750, Similitud ASTs: 0.9062\n",
      "🔍 2e404969_bc46480a - Simhash: 0.8594, Similitud ASTs: 0.9375\n",
      "🔍 4f7af821_f870e76b - Simhash: 0.8750, Similitud ASTs: 0.9688\n",
      "🔍 45f46b14_7b162d33 - Simhash: 0.9062, Similitud ASTs: 1.0000\n",
      "🔍 2915ac5b_9b8c6bd7 - Simhash: 0.9531, Similitud ASTs: 1.0000\n",
      "🔍 b55888de_d3a0b8d2 - Simhash: 0.8906, Similitud ASTs: 0.8906\n",
      "🔍 548ffb07_921b6e4a - Simhash: 1.0000, Similitud ASTs: 1.0000\n",
      "🔍 4201fdf7_93322168 - Simhash: 0.7812, Similitud ASTs: 0.8750\n",
      "🔍 1dab88fb_9c55bc1b - Simhash: 0.9062, Similitud ASTs: 0.8594\n",
      "🔍 6f393cfe_d3a0b8d2 - Simhash: 0.8750, Similitud ASTs: 0.9219\n",
      "🔍 49b94994_f0d91796 - Simhash: 0.9219, Similitud ASTs: 0.9844\n",
      "🔍 1162c08f_f6ca6fc8 - Simhash: 0.9375, Similitud ASTs: 0.9688\n",
      "🔍 3afcc566_fcc7e8fa - Simhash: 0.8438, Similitud ASTs: 0.8281\n",
      "🔍 b56ebada_b95a75a7 - Simhash: 0.8438, Similitud ASTs: 0.8750\n",
      "🔍 8782922d_f5f97f19 - Simhash: 0.8281, Similitud ASTs: 0.7656\n",
      "🔍 20166f71_a98d56f9 - Simhash: 0.9062, Similitud ASTs: 0.9688\n",
      "🔍 7bcacc97_e431de28 - Simhash: 0.9375, Similitud ASTs: 0.9688\n",
      "🔍 161b4a40_49e94e7e - Simhash: 0.9062, Similitud ASTs: 0.8125\n",
      "🔍 28c2d81a_8f6421f3 - Simhash: 0.8906, Similitud ASTs: 0.9375\n",
      "🔍 2bbf754b_d9199dfd - Simhash: 0.8438, Similitud ASTs: 0.8750\n"
     ]
    },
    {
     "name": "stderr",
     "output_type": "stream",
     "text": [
      "Procesando pares:  57%|█████▋    | 882/1539 [00:05<00:07, 92.41it/s]"
     ]
    },
    {
     "name": "stdout",
     "output_type": "stream",
     "text": [
      "🔍 4eac0eea_f4d6d28d - Simhash: 0.9844, Similitud ASTs: 1.0000\n",
      "🔍 5c54f087_c6c7fa0c - Simhash: 0.8438, Similitud ASTs: 0.8594\n",
      "🔍 5af25bd7_77ec956f - Simhash: 0.9688, Similitud ASTs: 0.9688\n",
      "🔍 680ba922_90dc2b20 - Simhash: 0.8594, Similitud ASTs: 0.8750\n",
      "🔍 1eda0725_80881cae - Simhash: 0.8750, Similitud ASTs: 0.8750\n",
      "🔍 53d782a0_5769b7b3 - Simhash: 0.9844, Similitud ASTs: 1.0000\n",
      "🔍 46bde295_8a858867 - Simhash: 0.8750, Similitud ASTs: 1.0000\n",
      "🔍 3380fa52_8a39dbf5 - Simhash: 0.8750, Similitud ASTs: 0.9062\n",
      "🔍 505f8562_ed37ba7d - Simhash: 0.8281, Similitud ASTs: 0.9219\n",
      "🔍 2c865582_2ef4c176 - Simhash: 0.8594, Similitud ASTs: 0.9844\n",
      "🔍 7c11511f_f3d7ce08 - Simhash: 0.8594, Similitud ASTs: 0.9375\n",
      "🔍 d221162a_ee4f7b06 - Simhash: 0.8438, Similitud ASTs: 0.9062\n",
      "🔍 0951d079_b2bae06a - Simhash: 0.9375, Similitud ASTs: 0.9375\n",
      "🔍 08cf0478_9291ca83 - Simhash: 0.8906, Similitud ASTs: 0.9375\n",
      "🔍 9f354c5c_a6532df9 - Simhash: 0.8906, Similitud ASTs: 0.9062\n",
      "🔍 a3e272af_d1cd194e - Simhash: 0.8906, Similitud ASTs: 0.9375\n",
      "🔍 6255ee79_ac8ef97c - Simhash: 0.8281, Similitud ASTs: 0.8125\n",
      "🔍 b434c275_f8c99dd0 - Simhash: 0.8281, Similitud ASTs: 0.7969\n",
      "🔍 b728ba1d_d04e5afb - Simhash: 1.0000, Similitud ASTs: 1.0000\n"
     ]
    },
    {
     "name": "stderr",
     "output_type": "stream",
     "text": [
      "Procesando pares:  59%|█████▉    | 906/1539 [00:05<00:06, 104.32it/s]"
     ]
    },
    {
     "name": "stdout",
     "output_type": "stream",
     "text": [
      "🔍 4ea10951_7c11511f - Simhash: 0.8750, Similitud ASTs: 0.9375\n",
      "🔍 43b85d63_a37923d1 - Simhash: 0.8594, Similitud ASTs: 0.8906\n",
      "🔍 0c00d532_521c5645 - Simhash: 0.7500, Similitud ASTs: 0.8438\n",
      "🔍 597195ee_5f3a196a - Simhash: 0.8750, Similitud ASTs: 0.9688\n",
      "🔍 29bbcd8b_d4779c71 - Simhash: 0.9062, Similitud ASTs: 0.9531\n",
      "🔍 c34bb733_ea899386 - Simhash: 0.8594, Similitud ASTs: 0.8594\n",
      "🔍 3ff25f43_a195911e - Simhash: 0.8906, Similitud ASTs: 0.9375\n",
      "🔍 4138b081_f59d9b6e - Simhash: 0.8281, Similitud ASTs: 0.8906\n",
      "🔍 8be61667_ca3128ab - Simhash: 0.8906, Similitud ASTs: 0.9062\n",
      "🔍 372a4f50_e435b1ac - Simhash: 0.8281, Similitud ASTs: 0.8750\n",
      "🔍 680ba922_6d7d5dd7 - Simhash: 0.8281, Similitud ASTs: 0.8906\n",
      "🔍 873828f7_ac8acb97 - Simhash: 0.9062, Similitud ASTs: 0.9531\n",
      "🔍 884f5678_9862c742 - Simhash: 0.8906, Similitud ASTs: 0.8906\n",
      "🔍 4f7af821_8f6421f3 - Simhash: 0.9219, Similitud ASTs: 0.9531\n",
      "🔍 3b10bd6d_f2cf6a74 - Simhash: 0.8594, Similitud ASTs: 0.8438\n",
      "🔍 69b8ffb2_ba468e1f - Simhash: 0.9062, Similitud ASTs: 0.9531\n",
      "🔍 22dff786_624529e3 - Simhash: 0.8750, Similitud ASTs: 0.9531\n",
      "🔍 2722ef48_e9144440 - Simhash: 0.8594, Similitud ASTs: 0.8906\n",
      "🔍 3b498a39_e6b7a899 - Simhash: 0.8594, Similitud ASTs: 0.8438\n",
      "🔍 4548305b_c0aa6246 - Simhash: 0.9062, Similitud ASTs: 0.9219\n",
      "🔍 4e28b45e_fc1771af - Simhash: 0.7812, Similitud ASTs: 0.8281\n",
      "🔍 a101df86_dffa45ac - Simhash: 1.0000, Similitud ASTs: 1.0000\n",
      "🔍 04df7bb8_aaccc000 - Simhash: 0.8750, Similitud ASTs: 0.8750\n",
      "🔍 141effef_9cea10af - Simhash: 0.8438, Similitud ASTs: 0.9062\n"
     ]
    },
    {
     "name": "stderr",
     "output_type": "stream",
     "text": [
      "Procesando pares:  60%|█████▉    | 917/1539 [00:06<00:06, 91.42it/s] "
     ]
    },
    {
     "name": "stdout",
     "output_type": "stream",
     "text": [
      "🔍 bf0df1d5_d1cd194e - Simhash: 0.9062, Similitud ASTs: 0.9219\n",
      "🔍 74f4382e_bd584714 - Simhash: 0.8594, Similitud ASTs: 0.8750\n",
      "🔍 0e87b87f_6369a7a2 - Simhash: 0.9062, Similitud ASTs: 0.9062\n",
      "🔍 3e93b259_a60fba84 - Simhash: 0.8281, Similitud ASTs: 0.9375\n",
      "🔍 04a706b1_5b7127bf - Simhash: 0.8750, Similitud ASTs: 0.9375\n",
      "🔍 141effef_6653a758 - Simhash: 0.8594, Similitud ASTs: 0.8438\n",
      "🔍 2a35cd81_464ad4dd - Simhash: 0.9219, Similitud ASTs: 0.9062\n",
      "🔍 0b04b41e_9291ca83 - Simhash: 0.9531, Similitud ASTs: 0.9219\n",
      "🔍 9261620f_f0881ab5 - Simhash: 1.0000, Similitud ASTs: 1.0000\n",
      "🔍 c4ca2ff3_d83f74f7 - Simhash: 0.9219, Similitud ASTs: 0.9062\n",
      "🔍 71c7ac71_bdfe8110 - Simhash: 0.7969, Similitud ASTs: 0.9219\n",
      "🔍 4e9c4bf9_f9e08a46 - Simhash: 0.8750, Similitud ASTs: 0.7969\n",
      "🔍 29cf2e70_72d9eb5b - Simhash: 1.0000, Similitud ASTs: 1.0000\n",
      "🔍 12c1cc56_c06c758d - Simhash: 1.0000, Similitud ASTs: 1.0000\n",
      "🔍 90f01508_e00b1794 - Simhash: 0.7500, Similitud ASTs: 0.9062\n",
      "🔍 d9199dfd_fb312dc6 - Simhash: 0.9062, Similitud ASTs: 0.9531\n"
     ]
    },
    {
     "name": "stderr",
     "output_type": "stream",
     "text": [
      "Procesando pares:  61%|██████    | 942/1539 [00:06<00:05, 104.59it/s]"
     ]
    },
    {
     "name": "stdout",
     "output_type": "stream",
     "text": [
      "🔍 a7063d01_ac4d0fc5 - Simhash: 0.7656, Similitud ASTs: 0.9688\n",
      "🔍 584b0e9e_c9159d9c - Simhash: 0.7969, Similitud ASTs: 0.8281\n",
      "🔍 2bda1866_e4ab72e5 - Simhash: 0.9062, Similitud ASTs: 0.8750\n",
      "🔍 585af783_f7a0ea6d - Simhash: 0.9219, Similitud ASTs: 0.9219\n",
      "🔍 b8b08542_d783d815 - Simhash: 1.0000, Similitud ASTs: 1.0000\n",
      "🔍 3a12e509_e812ee0b - Simhash: 0.8906, Similitud ASTs: 0.9219\n",
      "🔍 0f09b843_45e41c6d - Simhash: 0.9219, Similitud ASTs: 0.9219\n",
      "🔍 49e94e7e_fcc7e8fa - Simhash: 0.8750, Similitud ASTs: 0.8438\n",
      "🔍 a7e7f371_f8e7b886 - Simhash: 0.8750, Similitud ASTs: 0.9844\n",
      "🔍 e1c4f3db_e81b2d16 - Simhash: 0.9062, Similitud ASTs: 0.9688\n",
      "🔍 11c2ab99_fadc1365 - Simhash: 0.9062, Similitud ASTs: 0.9531\n",
      "🔍 5af25bd7_fa1bf524 - Simhash: 0.9531, Similitud ASTs: 0.8750\n",
      "🔍 cdb801a1_dcdaf666 - Simhash: 0.7969, Similitud ASTs: 0.9688\n",
      "🔍 4303de0d_c9a316ca - Simhash: 0.8750, Similitud ASTs: 0.9844\n",
      "🔍 6c4ac8d3_829d2024 - Simhash: 0.8906, Similitud ASTs: 0.9531\n",
      "🔍 29cb9b0e_c77654b8 - Simhash: 0.8750, Similitud ASTs: 0.9062\n",
      "🔍 5449d33c_dff5ff0a - Simhash: 0.8281, Similitud ASTs: 0.9375\n",
      "🔍 abd16ff0_db1ef8b3 - Simhash: 0.9219, Similitud ASTs: 0.8281\n",
      "🔍 4da08761_a5d5a95f - Simhash: 0.8906, Similitud ASTs: 0.9062\n",
      "🔍 18d20d2e_d8a171a3 - Simhash: 0.7656, Similitud ASTs: 0.8594\n",
      "🔍 1c8bb204_7d7cf9a7 - Simhash: 0.8906, Similitud ASTs: 0.8750\n",
      "🔍 4552d8a0_ec4c7e8e - Simhash: 0.9062, Similitud ASTs: 0.8750\n",
      "🔍 5dbd0a07_bdc08e6f - Simhash: 1.0000, Similitud ASTs: 1.0000\n",
      "🔍 67996c4c_9028caf7 - Simhash: 0.9062, Similitud ASTs: 0.9062\n",
      "🔍 7d9b95c0_9d33ca79 - Simhash: 0.7812, Similitud ASTs: 0.9219\n",
      "🔍 40cc90ae_9399204d - Simhash: 0.8438, Similitud ASTs: 0.9688\n"
     ]
    },
    {
     "name": "stderr",
     "output_type": "stream",
     "text": [
      "Procesando pares:  63%|██████▎   | 965/1539 [00:06<00:05, 101.09it/s]"
     ]
    },
    {
     "name": "stdout",
     "output_type": "stream",
     "text": [
      "🔍 49b94994_d8654140 - Simhash: 0.9062, Similitud ASTs: 0.8906\n",
      "🔍 7011024d_eea69e7f - Simhash: 0.7812, Similitud ASTs: 0.9062\n",
      "🔍 169e34bf_ba468e1f - Simhash: 0.9375, Similitud ASTs: 0.9688\n",
      "🔍 0048a372_0adb1ee5 - Simhash: 0.9062, Similitud ASTs: 0.9375\n",
      "🔍 3e93b259_e431de28 - Simhash: 0.8594, Similitud ASTs: 0.9531\n",
      "🔍 8639f6c6_e18ae6a1 - Simhash: 0.8750, Similitud ASTs: 0.9375\n",
      "🔍 ccc8ef27_f7a0ea6d - Simhash: 0.9062, Similitud ASTs: 0.9062\n",
      "🔍 3ef54b1a_bac616ee - Simhash: 0.8281, Similitud ASTs: 0.9062\n",
      "🔍 1f257299_76b978c2 - Simhash: 0.9062, Similitud ASTs: 0.8906\n",
      "🔍 ad2a1ae2_bc46480a - Simhash: 0.8594, Similitud ASTs: 0.9062\n",
      "🔍 bdfe8110_fadc1365 - Simhash: 0.9062, Similitud ASTs: 0.9531\n",
      "🔍 ec607ca1_ed37ba7d - Simhash: 0.7969, Similitud ASTs: 0.9375\n",
      "🔍 8a39dbf5_ff3283cf - Simhash: 1.0000, Similitud ASTs: 1.0000\n",
      "🔍 10584086_f229aa7f - Simhash: 0.8438, Similitud ASTs: 0.9531\n",
      "🔍 1a400c1b_b505f95e - Simhash: 0.9688, Similitud ASTs: 0.9219\n",
      "🔍 464ad4dd_9291ca83 - Simhash: 0.9531, Similitud ASTs: 0.9219\n",
      "🔍 402aff07_f229aa7f - Simhash: 0.8750, Similitud ASTs: 0.9844\n",
      "🔍 4e28b45e_d7a8434f - Simhash: 1.0000, Similitud ASTs: 1.0000\n",
      "🔍 34b9ed7f_8311f375 - Simhash: 1.0000, Similitud ASTs: 1.0000\n",
      "🔍 624b8db5_90f01508 - Simhash: 0.8281, Similitud ASTs: 0.8438\n"
     ]
    },
    {
     "name": "stderr",
     "output_type": "stream",
     "text": [
      "Procesando pares:  63%|██████▎   | 976/1539 [00:06<00:06, 93.83it/s] "
     ]
    },
    {
     "name": "stdout",
     "output_type": "stream",
     "text": [
      "🔍 d6bbd286_fabb36ff - Simhash: 0.8594, Similitud ASTs: 0.9531\n",
      "🔍 99afdfb3_e152c1ff - Simhash: 1.0000, Similitud ASTs: 1.0000\n",
      "🔍 5a74241a_6490bbe8 - Simhash: 0.8906, Similitud ASTs: 0.9531\n",
      "🔍 6de04ee2_d9199dfd - Simhash: 0.8281, Similitud ASTs: 0.8750\n",
      "🔍 90d0ffd0_b21c7532 - Simhash: 0.7500, Similitud ASTs: 0.9062\n",
      "🔍 ca3128ab_e270e909 - Simhash: 0.8438, Similitud ASTs: 0.8750\n",
      "🔍 1013b392_5a340556 - Simhash: 1.0000, Similitud ASTs: 1.0000\n",
      "🔍 ae716b8f_f1a42a42 - Simhash: 0.8594, Similitud ASTs: 0.9375\n",
      "🔍 808f7516_9ebe348d - Simhash: 0.8750, Similitud ASTs: 0.8906\n",
      "🔍 28c2d81a_48c5f745 - Simhash: 0.8906, Similitud ASTs: 0.9062\n",
      "🔍 3b498a39_ae775964 - Simhash: 0.7500, Similitud ASTs: 0.9062\n",
      "🔍 8e990c75_96b3758b - Simhash: 0.8594, Similitud ASTs: 0.9062\n",
      "🔍 54d7c21e_a7e7f371 - Simhash: 1.0000, Similitud ASTs: 0.9844\n",
      "🔍 8c011cb9_e0f6aad6 - Simhash: 0.9219, Similitud ASTs: 0.8594\n",
      "🔍 1ea771ea_b9219544 - Simhash: 0.9062, Similitud ASTs: 0.9062\n",
      "🔍 5f3a196a_d76e3b9d - Simhash: 0.8125, Similitud ASTs: 0.8906\n",
      "🔍 565f77b7_856a8eda - Simhash: 0.8750, Similitud ASTs: 0.9062\n"
     ]
    },
    {
     "name": "stderr",
     "output_type": "stream",
     "text": [
      "Procesando pares:  65%|██████▍   | 997/1539 [00:06<00:05, 92.23it/s]"
     ]
    },
    {
     "name": "stdout",
     "output_type": "stream",
     "text": [
      "🔍 2470b521_2da4b3fe - Simhash: 0.9219, Similitud ASTs: 0.9688\n",
      "🔍 a101df86_f0d91796 - Simhash: 0.8750, Similitud ASTs: 0.9688\n",
      "🔍 48993e07_96cd6ee9 - Simhash: 0.8125, Similitud ASTs: 0.8906\n",
      "🔍 69b2fd22_d221162a - Simhash: 0.9062, Similitud ASTs: 0.8906\n",
      "🔍 6f393cfe_7a9c69d8 - Simhash: 1.0000, Similitud ASTs: 1.0000\n",
      "🔍 317a209c_3e6def38 - Simhash: 1.0000, Similitud ASTs: 1.0000\n",
      "🔍 1be078c4_7ae0cb0d - Simhash: 0.8906, Similitud ASTs: 0.9688\n",
      "🔍 26e699de_76ad805a - Simhash: 0.8906, Similitud ASTs: 0.8281\n",
      "🔍 51e5a1a5_960a4c0f - Simhash: 0.8750, Similitud ASTs: 0.9062\n",
      "🔍 99ccaa44_e7a997b5 - Simhash: 0.8594, Similitud ASTs: 0.8906\n",
      "🔍 5af25bd7_cbbbed5f - Simhash: 0.9531, Similitud ASTs: 0.9219\n",
      "🔍 72d9eb5b_884f5678 - Simhash: 0.9062, Similitud ASTs: 0.9219\n",
      "🔍 a8f7c8b7_f229aa7f - Simhash: 0.8594, Similitud ASTs: 0.9375\n",
      "🔍 09586ae3_88c90c09 - Simhash: 0.8594, Similitud ASTs: 0.8750\n",
      "🔍 8a041ef5_bdf7bfb2 - Simhash: 0.8594, Similitud ASTs: 0.8750\n",
      "🔍 a4ec80a0_d314aa92 - Simhash: 0.7500, Similitud ASTs: 0.8594\n",
      "🔍 54d7c21e_80881cae - Simhash: 0.9375, Similitud ASTs: 0.9688\n",
      "🔍 2a35cd81_97a7fab5 - Simhash: 0.7969, Similitud ASTs: 0.8438\n",
      "🔍 11373c16_d8e4eb5e - Simhash: 0.8594, Similitud ASTs: 0.8750\n",
      "🔍 11d91f31_4323e2bd - Simhash: 0.8750, Similitud ASTs: 0.9219\n",
      "🔍 7c220622_a06631ff - Simhash: 0.9688, Similitud ASTs: 0.9844\n",
      "🔍 cc669e02_d88fa51c - Simhash: 0.9375, Similitud ASTs: 0.9062\n",
      "🔍 c9159d9c_d3a96420 - Simhash: 0.8438, Similitud ASTs: 0.9844\n"
     ]
    },
    {
     "name": "stderr",
     "output_type": "stream",
     "text": [
      "Procesando pares:  66%|██████▋   | 1022/1539 [00:07<00:04, 104.30it/s]"
     ]
    },
    {
     "name": "stdout",
     "output_type": "stream",
     "text": [
      "🔍 2f8c3bf3_3c667d4f - Simhash: 0.9375, Similitud ASTs: 0.9531\n",
      "🔍 a7894e0b_fadc1365 - Simhash: 0.9062, Similitud ASTs: 0.9844\n",
      "🔍 69b2fd22_764484c3 - Simhash: 0.8750, Similitud ASTs: 0.9219\n",
      "🔍 69b2fd22_7bc92b7f - Simhash: 0.8594, Similitud ASTs: 0.9531\n",
      "🔍 3b498a39_69b2fd22 - Simhash: 0.8438, Similitud ASTs: 0.9219\n",
      "🔍 38b356b7_c77654b8 - Simhash: 0.8750, Similitud ASTs: 0.9375\n",
      "🔍 1500a4fa_d7a8434f - Simhash: 0.8594, Similitud ASTs: 0.8906\n",
      "🔍 8f31b279_a3e272af - Simhash: 0.9219, Similitud ASTs: 0.9375\n",
      "🔍 45561f1f_cc9230d3 - Simhash: 0.8750, Similitud ASTs: 0.7969\n",
      "🔍 94b3b86d_efe594c3 - Simhash: 0.8438, Similitud ASTs: 0.8750\n",
      "🔍 829d2024_8a20e743 - Simhash: 0.8906, Similitud ASTs: 0.9844\n",
      "🔍 3cb8c2b7_ec8566b8 - Simhash: 0.8750, Similitud ASTs: 0.9531\n",
      "🔍 1b372750_fdd41565 - Simhash: 0.7656, Similitud ASTs: 0.8125\n",
      "🔍 45e38fad_5be7547e - Simhash: 0.8594, Similitud ASTs: 0.9062\n",
      "🔍 4212c4b9_829d2024 - Simhash: 0.9375, Similitud ASTs: 0.9375\n",
      "🔍 584b0e9e_d9199dfd - Simhash: 0.8438, Similitud ASTs: 0.8281\n",
      "🔍 8d9871a9_eb6cfca7 - Simhash: 0.8125, Similitud ASTs: 0.9531\n",
      "🔍 169e34bf_2bbf754b - Simhash: 0.9531, Similitud ASTs: 0.9062\n",
      "🔍 4da08761_d6fb3b9e - Simhash: 0.8594, Similitud ASTs: 0.9688\n",
      "🔍 04ed33a5_7ea34254 - Simhash: 0.9062, Similitud ASTs: 0.9062\n",
      "🔍 80c384e4_967b67b0 - Simhash: 1.0000, Similitud ASTs: 1.0000\n",
      "🔍 68d422ec_d77f722c - Simhash: 0.7969, Similitud ASTs: 0.8438\n",
      "🔍 1162c08f_6bcc5afd - Simhash: 0.9531, Similitud ASTs: 0.9688\n",
      "🔍 065e0cbd_9b449b4f - Simhash: 0.9062, Similitud ASTs: 0.9219\n",
      "🔍 764484c3_9028caf7 - Simhash: 0.8750, Similitud ASTs: 0.9219\n"
     ]
    },
    {
     "name": "stderr",
     "output_type": "stream",
     "text": [
      "Procesando pares:  68%|██████▊   | 1046/1539 [00:07<00:04, 101.57it/s]"
     ]
    },
    {
     "name": "stdout",
     "output_type": "stream",
     "text": [
      "🔍 5ee4d2f9_b38468e8 - Simhash: 0.7969, Similitud ASTs: 0.7969\n",
      "🔍 ac180326_b728ba1d - Simhash: 0.9062, Similitud ASTs: 0.9219\n",
      "🔍 7686c854_abd16ff0 - Simhash: 0.8906, Similitud ASTs: 0.9375\n",
      "🔍 29cb9b0e_d3da65ff - Simhash: 1.0000, Similitud ASTs: 1.0000\n",
      "🔍 45b19e51_f9adc043 - Simhash: 0.8125, Similitud ASTs: 0.8750\n",
      "🔍 3cbcb1cc_6045e5d1 - Simhash: 1.0000, Similitud ASTs: 1.0000\n",
      "🔍 312d9460_e7024f3e - Simhash: 0.8438, Similitud ASTs: 0.9062\n",
      "🔍 46e9aed4_8ddb5587 - Simhash: 0.8594, Similitud ASTs: 0.9375\n",
      "🔍 4da08761_c4ca2ff3 - Simhash: 0.9219, Similitud ASTs: 0.9375\n",
      "🔍 530f01c2_f41057db - Simhash: 0.9062, Similitud ASTs: 0.9531\n",
      "🔍 ac180326_d1cd194e - Simhash: 0.8906, Similitud ASTs: 0.9375\n",
      "🔍 8d9871a9_e431de28 - Simhash: 0.9062, Similitud ASTs: 0.9844\n",
      "🔍 2c7a0000_69b2fd22 - Simhash: 0.7969, Similitud ASTs: 0.9062\n",
      "🔍 b7de5c19_c022c315 - Simhash: 0.8438, Similitud ASTs: 0.8438\n",
      "🔍 317a209c_9ab3c0e1 - Simhash: 0.9062, Similitud ASTs: 0.9688\n",
      "🔍 810cf242_968c1e7e - Simhash: 0.7969, Similitud ASTs: 0.8281\n",
      "🔍 9fc811f7_cff39394 - Simhash: 0.9219, Similitud ASTs: 0.9375\n"
     ]
    },
    {
     "name": "stderr",
     "output_type": "stream",
     "text": [
      "Procesando pares:  69%|██████▉   | 1069/1539 [00:07<00:04, 101.52it/s]"
     ]
    },
    {
     "name": "stdout",
     "output_type": "stream",
     "text": [
      "🔍 0588b869_11373c16 - Simhash: 0.8438, Similitud ASTs: 0.9531\n",
      "🔍 608ee4fb_be7b6026 - Simhash: 0.7812, Similitud ASTs: 0.8281\n",
      "🔍 7f42483d_c9a316ca - Simhash: 0.8125, Similitud ASTs: 0.9062\n",
      "🔍 810fd282_ec558d69 - Simhash: 0.9375, Similitud ASTs: 0.9844\n",
      "🔍 41e69083_54eb1a6b - Simhash: 1.0000, Similitud ASTs: 1.0000\n",
      "🔍 a3ebea91_f80f6d8d - Simhash: 0.9375, Similitud ASTs: 0.8906\n",
      "🔍 77d22fc3_d3528b2a - Simhash: 1.0000, Similitud ASTs: 1.0000\n",
      "🔍 ac180326_b1e9f1f6 - Simhash: 0.8906, Similitud ASTs: 0.9219\n",
      "🔍 464a03b8_f0ede32a - Simhash: 1.0000, Similitud ASTs: 1.0000\n",
      "🔍 3e8ff074_d9199dfd - Simhash: 0.8438, Similitud ASTs: 0.8750\n",
      "🔍 2a655afe_692a4496 - Simhash: 1.0000, Similitud ASTs: 1.0000\n",
      "🔍 1eda0725_d2901569 - Simhash: 0.8594, Similitud ASTs: 0.7969\n",
      "🔍 8f6421f3_ea2fc2bc - Simhash: 0.9375, Similitud ASTs: 0.9531\n",
      "🔍 6b83b22e_c59194c7 - Simhash: 0.7969, Similitud ASTs: 0.8281\n",
      "🔍 22b41936_29210e56 - Simhash: 0.9062, Similitud ASTs: 0.8750\n",
      "🔍 ccc8ef27_d6fb3b9e - Simhash: 1.0000, Similitud ASTs: 1.0000\n",
      "🔍 392218ef_f0ede32a - Simhash: 0.9531, Similitud ASTs: 0.9375\n",
      "🔍 2fdcf0ad_d20e861b - Simhash: 0.8281, Similitud ASTs: 0.9219\n",
      "🔍 1230c43e_2bbf754b - Simhash: 0.8906, Similitud ASTs: 0.9219\n",
      "🔍 2b2d3b84_aaccc000 - Simhash: 0.9219, Similitud ASTs: 0.9375\n",
      "🔍 3380fa52_f28b8cb4 - Simhash: 0.8750, Similitud ASTs: 0.8906\n",
      "🔍 2c7a0000_f4f1b18f - Simhash: 0.9219, Similitud ASTs: 0.9531\n",
      "🔍 2d1553b5_656d0f78 - Simhash: 0.7969, Similitud ASTs: 0.8750\n"
     ]
    },
    {
     "name": "stderr",
     "output_type": "stream",
     "text": [
      "Procesando pares:  71%|███████   | 1093/1539 [00:07<00:04, 104.64it/s]"
     ]
    },
    {
     "name": "stdout",
     "output_type": "stream",
     "text": [
      "🔍 04df7bb8_ee270b2a - Simhash: 0.8750, Similitud ASTs: 0.8906\n",
      "🔍 0c9d4def_ef1d196b - Simhash: 0.8125, Similitud ASTs: 0.8594\n",
      "🔍 6d55e68b_d8a171a3 - Simhash: 0.9062, Similitud ASTs: 0.8906\n",
      "🔍 4a570de6_4d279121 - Simhash: 0.8906, Similitud ASTs: 0.9844\n",
      "🔍 90f01508_ec8566b8 - Simhash: 0.8125, Similitud ASTs: 0.8281\n",
      "🔍 0b04b41e_4da08761 - Simhash: 0.9219, Similitud ASTs: 0.9375\n",
      "🔍 29d865c3_5cfa2861 - Simhash: 0.7500, Similitud ASTs: 0.7188\n",
      "🔍 6018974f_bdf7bfb2 - Simhash: 0.8594, Similitud ASTs: 0.9531\n",
      "🔍 31cdf5fe_80cc284c - Simhash: 0.8594, Similitud ASTs: 0.9531\n",
      "🔍 76ad805a_f229aa7f - Simhash: 0.8125, Similitud ASTs: 0.8594\n",
      "🔍 548ffb07_e7dce35b - Simhash: 0.9531, Similitud ASTs: 0.9688\n",
      "🔍 e6a6e318_fadc1365 - Simhash: 0.9844, Similitud ASTs: 1.0000\n",
      "🔍 2b8f032c_a195911e - Simhash: 0.8125, Similitud ASTs: 0.8906\n",
      "🔍 bdf7bfb2_d92c5342 - Simhash: 0.8594, Similitud ASTs: 0.8906\n",
      "🔍 3a12e509_fae0662f - Simhash: 0.8750, Similitud ASTs: 0.9062\n",
      "🔍 4499e3b9_cbbbed5f - Simhash: 0.8750, Similitud ASTs: 0.9062\n",
      "🔍 2560850b_76791c9f - Simhash: 0.8906, Similitud ASTs: 0.8281\n",
      "🔍 722e318f_b790ef12 - Simhash: 0.8125, Similitud ASTs: 0.9062\n",
      "🔍 317baeaf_e17c5159 - Simhash: 0.8906, Similitud ASTs: 0.9062\n",
      "🔍 2bbc6c80_4e58558c - Simhash: 1.0000, Similitud ASTs: 1.0000\n",
      "🔍 4b398e3e_94690b36 - Simhash: 0.8438, Similitud ASTs: 0.9219\n",
      "🔍 2da4b3fe_f4b87cc2 - Simhash: 0.8750, Similitud ASTs: 0.9688\n",
      "🔍 0c9d4def_f665e87b - Simhash: 0.8594, Similitud ASTs: 0.9219\n",
      "🔍 9c55bc1b_c9da41af - Simhash: 0.8906, Similitud ASTs: 0.9062\n",
      "🔍 175201f9_9399204d - Simhash: 0.8750, Similitud ASTs: 0.9531\n"
     ]
    },
    {
     "name": "stderr",
     "output_type": "stream",
     "text": [
      "Procesando pares:  72%|███████▏  | 1105/1539 [00:07<00:04, 106.23it/s]"
     ]
    },
    {
     "name": "stdout",
     "output_type": "stream",
     "text": [
      "🔍 a6520606_fb05904c - Simhash: 0.7812, Similitud ASTs: 0.8906\n",
      "🔍 07749c65_2bbf754b - Simhash: 0.8906, Similitud ASTs: 0.9219\n",
      "🔍 72d9eb5b_af0deeab - Simhash: 0.7969, Similitud ASTs: 0.8594\n",
      "🔍 734a94be_f6ca6fc8 - Simhash: 0.8906, Similitud ASTs: 0.9688\n",
      "🔍 5db541bd_5e3089fa - Simhash: 0.8438, Similitud ASTs: 0.9062\n",
      "🔍 6e207cbf_dc281165 - Simhash: 0.8906, Similitud ASTs: 0.8281\n",
      "🔍 b7de5c19_bac616ee - Simhash: 0.8281, Similitud ASTs: 0.9219\n",
      "🔍 3d88acb8_8aadde13 - Simhash: 0.9375, Similitud ASTs: 0.9531\n",
      "🔍 a3e272af_f7fc2e94 - Simhash: 0.8281, Similitud ASTs: 0.9375\n",
      "🔍 5f3a2a70_e7a997b5 - Simhash: 0.8281, Similitud ASTs: 0.8281\n",
      "🔍 00af3420_f4d6d28d - Simhash: 0.8750, Similitud ASTs: 0.8750\n",
      "🔍 5288afb7_df594a00 - Simhash: 0.7812, Similitud ASTs: 0.9531\n",
      "🔍 089b7f00_fb20d298 - Simhash: 0.8906, Similitud ASTs: 0.9531\n",
      "🔍 29210e56_c4cdd3af - Simhash: 0.8125, Similitud ASTs: 0.9062\n",
      "🔍 2120328e_464a03b8 - Simhash: 0.9531, Similitud ASTs: 0.9062\n",
      "🔍 6f02c6d9_d3a96420 - Simhash: 0.9531, Similitud ASTs: 0.9531\n",
      "🔍 ac144188_e899614e - Simhash: 1.0000, Similitud ASTs: 1.0000\n",
      "🔍 0017d438_ac180326 - Simhash: 0.7969, Similitud ASTs: 0.7344\n"
     ]
    },
    {
     "name": "stderr",
     "output_type": "stream",
     "text": [
      "Procesando pares:  73%|███████▎  | 1131/1539 [00:08<00:03, 105.87it/s]"
     ]
    },
    {
     "name": "stdout",
     "output_type": "stream",
     "text": [
      "🔍 34cd5b66_d6af96bd - Simhash: 0.7969, Similitud ASTs: 0.7500\n",
      "🔍 2bbf754b_9862c742 - Simhash: 0.8750, Similitud ASTs: 0.9375\n",
      "🔍 54488276_f4757480 - Simhash: 0.8125, Similitud ASTs: 0.9062\n",
      "🔍 11373c16_69b2fd22 - Simhash: 0.9219, Similitud ASTs: 0.9219\n",
      "🔍 b9595381_d6fb3b9e - Simhash: 0.9375, Similitud ASTs: 0.9375\n",
      "🔍 9be0602e_c4ca2ff3 - Simhash: 0.8438, Similitud ASTs: 0.9375\n",
      "🔍 1c8bb204_4b7646f4 - Simhash: 1.0000, Similitud ASTs: 1.0000\n",
      "🔍 00af3420_d92c5342 - Simhash: 0.8594, Similitud ASTs: 0.8906\n",
      "🔍 23594fdf_b185d034 - Simhash: 0.9062, Similitud ASTs: 0.9375\n",
      "🔍 1d43139f_fdd41565 - Simhash: 0.7812, Similitud ASTs: 0.8906\n",
      "🔍 0cedec8a_ac8acb97 - Simhash: 0.9531, Similitud ASTs: 0.8750\n",
      "🔍 9f354c5c_cb032314 - Simhash: 0.8438, Similitud ASTs: 0.8750\n",
      "🔍 d23b398c_e14d1ba0 - Simhash: 0.9219, Similitud ASTs: 1.0000\n",
      "🔍 4241f473_77448a05 - Simhash: 0.9062, Similitud ASTs: 0.9062\n",
      "🔍 565f77b7_e8006510 - Simhash: 0.9219, Similitud ASTs: 0.8906\n",
      "🔍 10013f73_a8f7c8b7 - Simhash: 0.8438, Similitud ASTs: 0.8906\n",
      "🔍 60557643_948e98b6 - Simhash: 0.8750, Similitud ASTs: 0.9844\n",
      "🔍 51151974_c23278ec - Simhash: 0.7969, Similitud ASTs: 0.9062\n",
      "🔍 00c0b82a_1ea771ea - Simhash: 0.8750, Similitud ASTs: 0.9062\n",
      "🔍 c9159d9c_f0ede32a - Simhash: 0.8594, Similitud ASTs: 0.9531\n",
      "🔍 9399204d_b434c275 - Simhash: 0.9688, Similitud ASTs: 1.0000\n",
      "🔍 0e68e463_d9199dfd - Simhash: 0.8594, Similitud ASTs: 0.8906\n",
      "🔍 08b9908d_f5fb1b62 - Simhash: 0.8750, Similitud ASTs: 0.9531\n",
      "🔍 04df7bb8_1ea771ea - Simhash: 0.8438, Similitud ASTs: 0.9062\n",
      "🔍 01c915a2_4e5ee0f7 - Simhash: 0.8125, Similitud ASTs: 0.9375\n"
     ]
    },
    {
     "name": "stderr",
     "output_type": "stream",
     "text": [
      "Procesando pares:  75%|███████▍  | 1153/1539 [00:08<00:03, 102.53it/s]"
     ]
    },
    {
     "name": "stdout",
     "output_type": "stream",
     "text": [
      "🔍 80407703_99e059b8 - Simhash: 0.8281, Similitud ASTs: 0.9375\n",
      "🔍 45e38fad_ec8566b8 - Simhash: 0.7969, Similitud ASTs: 0.9219\n",
      "🔍 6db218a2_8ad1ad84 - Simhash: 0.8594, Similitud ASTs: 0.8438\n",
      "🔍 43ca682a_baebdc56 - Simhash: 1.0000, Similitud ASTs: 1.0000\n",
      "🔍 13860c31_870e16d9 - Simhash: 0.8438, Similitud ASTs: 0.8594\n",
      "🔍 1097b326_f1f600d9 - Simhash: 0.8906, Similitud ASTs: 0.9219\n",
      "🔍 b185d034_ccc8ef27 - Simhash: 0.9219, Similitud ASTs: 0.9062\n",
      "🔍 04ed33a5_0c173033 - Simhash: 0.9219, Similitud ASTs: 0.9219\n",
      "🔍 15941165_3b10bd6d - Simhash: 0.9062, Similitud ASTs: 0.8750\n",
      "🔍 3a12e509_52cd85f2 - Simhash: 0.9531, Similitud ASTs: 0.9219\n",
      "🔍 c9da41af_f59d9b6e - Simhash: 0.9531, Similitud ASTs: 0.9375\n",
      "🔍 313b42e6_e45446bc - Simhash: 0.8594, Similitud ASTs: 0.9219\n",
      "🔍 4da08761_6f393cfe - Simhash: 0.8750, Similitud ASTs: 0.9375\n",
      "🔍 ac7187d8_b7a6c59c - Simhash: 0.8281, Similitud ASTs: 0.9219\n",
      "🔍 0ea5a836_732c98a0 - Simhash: 0.8906, Similitud ASTs: 0.9531\n",
      "🔍 6f393cfe_f38ae053 - Simhash: 0.8750, Similitud ASTs: 0.8438\n",
      "🔍 624b8db5_e9986d44 - Simhash: 0.9062, Similitud ASTs: 0.9062\n",
      "🔍 27ec4acc_ddcadc64 - Simhash: 0.9219, Similitud ASTs: 0.9219\n",
      "🔍 b7de5c19_ee65f7f5 - Simhash: 0.8750, Similitud ASTs: 0.8594\n",
      "🔍 ee270b2a_fc80cbe0 - Simhash: 0.8125, Similitud ASTs: 0.8906\n",
      "🔍 13441e8f_2ebeae13 - Simhash: 0.8125, Similitud ASTs: 0.8438\n",
      "🔍 2063ba3e_2ba7edb6 - Simhash: 0.9062, Similitud ASTs: 0.9844\n"
     ]
    },
    {
     "name": "stderr",
     "output_type": "stream",
     "text": [
      "Procesando pares:  76%|███████▋  | 1175/1539 [00:08<00:03, 100.10it/s]"
     ]
    },
    {
     "name": "stdout",
     "output_type": "stream",
     "text": [
      "🔍 6e637812_aa8091b0 - Simhash: 0.8281, Similitud ASTs: 0.9219\n",
      "🔍 8532d5ed_b9595381 - Simhash: 0.7656, Similitud ASTs: 0.7969\n",
      "🔍 339fdc7f_6be4dcef - Simhash: 0.8438, Similitud ASTs: 0.8906\n",
      "🔍 3368f340_a8f7c8b7 - Simhash: 0.9219, Similitud ASTs: 0.9375\n",
      "🔍 1230c43e_ce0b2178 - Simhash: 0.9375, Similitud ASTs: 0.9219\n",
      "🔍 17e67976_656b62de - Simhash: 0.8438, Similitud ASTs: 0.9062\n",
      "🔍 722e318f_d9199dfd - Simhash: 0.8594, Similitud ASTs: 0.9531\n",
      "🔍 31cdf5fe_f0801d53 - Simhash: 0.8281, Similitud ASTs: 0.9219\n",
      "🔍 0c9d4def_d3415fc5 - Simhash: 0.9375, Similitud ASTs: 0.9062\n",
      "🔍 51019113_bf85ab7b - Simhash: 0.9062, Similitud ASTs: 0.9531\n",
      "🔍 7de69858_b76bce8a - Simhash: 0.8125, Similitud ASTs: 0.9062\n",
      "🔍 c287ea9d_d2901569 - Simhash: 0.8438, Similitud ASTs: 0.9531\n",
      "🔍 ae4d5b49_f665e87b - Simhash: 0.7344, Similitud ASTs: 0.8125\n",
      "🔍 3e191f3b_595f5d6c - Simhash: 0.9219, Similitud ASTs: 0.9531\n",
      "🔍 1adac634_ad4c7a20 - Simhash: 0.9375, Similitud ASTs: 0.8906\n",
      "🔍 63bfa731_949502c2 - Simhash: 0.8750, Similitud ASTs: 0.9062\n",
      "🔍 3951966f_9bc690ef - Simhash: 0.8906, Similitud ASTs: 0.9219\n",
      "🔍 5b9a0551_db1ef8b3 - Simhash: 0.8125, Similitud ASTs: 0.8125\n",
      "🔍 1ea771ea_3c667d4f - Simhash: 0.8906, Similitud ASTs: 0.9375\n",
      "🔍 1162c08f_734a94be - Simhash: 0.8906, Similitud ASTs: 0.9688\n"
     ]
    },
    {
     "name": "stderr",
     "output_type": "stream",
     "text": [
      "Procesando pares:  78%|███████▊  | 1196/1539 [00:08<00:03, 90.12it/s] "
     ]
    },
    {
     "name": "stdout",
     "output_type": "stream",
     "text": [
      "🔍 a4c98ae1_ee4f7b06 - Simhash: 0.9062, Similitud ASTs: 0.9531\n",
      "🔍 bd3051e3_e2e37533 - Simhash: 1.0000, Similitud ASTs: 1.0000\n",
      "🔍 853acff9_929b98f0 - Simhash: 0.8750, Similitud ASTs: 0.9062\n",
      "🔍 53196443_e496d229 - Simhash: 0.9062, Similitud ASTs: 0.9219\n",
      "🔍 1f27b677_81fb6415 - Simhash: 0.9375, Similitud ASTs: 0.9688\n",
      "🔍 0ee2f8f1_c2b7b017 - Simhash: 0.8750, Similitud ASTs: 0.9219\n",
      "🔍 c57997b6_ff10b574 - Simhash: 0.9062, Similitud ASTs: 0.9062\n",
      "🔍 0f6ca337_6843cc19 - Simhash: 1.0000, Similitud ASTs: 1.0000\n",
      "🔍 29cf2e70_2f4509a0 - Simhash: 0.8906, Similitud ASTs: 0.9688\n",
      "🔍 35bb6075_76a69f5c - Simhash: 0.8906, Similitud ASTs: 0.9375\n",
      "🔍 26e699de_402aff07 - Simhash: 0.8906, Similitud ASTs: 0.9219\n",
      "🔍 69b2fd22_e6b7a899 - Simhash: 0.8906, Similitud ASTs: 0.8906\n",
      "🔍 28820c82_8637bb90 - Simhash: 0.8906, Similitud ASTs: 0.8594\n",
      "🔍 aa266c38_b5fbe7a2 - Simhash: 0.9062, Similitud ASTs: 0.8906\n",
      "🔍 3e93b259_9d753699 - Simhash: 0.8594, Similitud ASTs: 0.9531\n",
      "🔍 72d4d693_ad2a1ae2 - Simhash: 0.8750, Similitud ASTs: 0.9688\n",
      "🔍 aa8091b0_eec856c0 - Simhash: 0.8438, Similitud ASTs: 0.9688\n",
      "🔍 0e68e463_2120328e - Simhash: 0.9062, Similitud ASTs: 0.9688\n"
     ]
    },
    {
     "name": "stderr",
     "output_type": "stream",
     "text": [
      "Procesando pares:  79%|███████▉  | 1218/1539 [00:09<00:03, 97.70it/s]"
     ]
    },
    {
     "name": "stdout",
     "output_type": "stream",
     "text": [
      "🔍 29cf2e70_584b0e9e - Simhash: 0.8594, Similitud ASTs: 0.8906\n",
      "🔍 9ab3c0e1_d5fa4746 - Simhash: 0.9219, Similitud ASTs: 0.9688\n",
      "🔍 4d279121_856a8eda - Simhash: 0.9219, Similitud ASTs: 0.9375\n",
      "🔍 21c9b214_d5a20936 - Simhash: 0.8594, Similitud ASTs: 0.9844\n",
      "🔍 3951966f_b842cf12 - Simhash: 0.9062, Similitud ASTs: 0.9531\n",
      "🔍 cdb801a1_e14d1ba0 - Simhash: 0.7812, Similitud ASTs: 0.9219\n",
      "🔍 51d857bc_63118334 - Simhash: 0.7812, Similitud ASTs: 0.8594\n",
      "🔍 54e71b9b_fd16f5b0 - Simhash: 0.8906, Similitud ASTs: 0.8906\n",
      "🔍 31f29772_ac180326 - Simhash: 0.8594, Similitud ASTs: 0.9219\n",
      "🔍 8a729537_e270e909 - Simhash: 0.9375, Similitud ASTs: 0.8750\n",
      "🔍 51d88c51_c2b7b017 - Simhash: 0.8906, Similitud ASTs: 0.9531\n",
      "🔍 0d11fb94_f9e08a46 - Simhash: 0.8594, Similitud ASTs: 0.7344\n",
      "🔍 3f6f1267_cdb7a891 - Simhash: 0.8750, Similitud ASTs: 0.8594\n",
      "🔍 47d54299_da0b7cb2 - Simhash: 0.8438, Similitud ASTs: 0.9062\n",
      "🔍 132281e9_f415c0bf - Simhash: 0.8750, Similitud ASTs: 0.9688\n",
      "🔍 18e2441c_b728ba1d - Simhash: 0.9688, Similitud ASTs: 0.8281\n",
      "🔍 60c85a4f_8926151a - Simhash: 0.7969, Similitud ASTs: 0.8750\n",
      "🔍 0fdc80c5_28c2d81a - Simhash: 0.8906, Similitud ASTs: 0.9219\n",
      "🔍 2eb89317_5f0a176e - Simhash: 0.8125, Similitud ASTs: 0.9062\n",
      "🔍 16857116_6e207cbf - Simhash: 0.8750, Similitud ASTs: 0.7969\n",
      "🔍 4685c420_77448a05 - Simhash: 0.9375, Similitud ASTs: 0.9688\n",
      "🔍 28d8c381_417833c3 - Simhash: 0.8125, Similitud ASTs: 0.8906\n",
      "🔍 3412b353_528a6162 - Simhash: 1.0000, Similitud ASTs: 1.0000\n"
     ]
    },
    {
     "name": "stderr",
     "output_type": "stream",
     "text": [
      "Procesando pares:  81%|████████  | 1242/1539 [00:09<00:03, 98.85it/s] "
     ]
    },
    {
     "name": "stdout",
     "output_type": "stream",
     "text": [
      "🔍 3b498a39_9028caf7 - Simhash: 0.8438, Similitud ASTs: 0.9219\n",
      "🔍 38601291_3bcd2014 - Simhash: 0.8594, Similitud ASTs: 0.9375\n",
      "🔍 548ffb07_9ab3c0e1 - Simhash: 0.9062, Similitud ASTs: 0.9688\n",
      "🔍 884f5678_cf27732e - Simhash: 0.8750, Similitud ASTs: 0.9062\n",
      "🔍 4fb09c5f_c57a973e - Simhash: 0.9062, Similitud ASTs: 0.8594\n",
      "🔍 1a31f5cb_dc575a6c - Simhash: 0.9531, Similitud ASTs: 0.9688\n",
      "🔍 3ff60986_d0b4b96c - Simhash: 1.0000, Similitud ASTs: 1.0000\n",
      "🔍 11c2ab99_4f7af821 - Simhash: 0.8594, Similitud ASTs: 0.9375\n",
      "🔍 3afcc566_90dc2b20 - Simhash: 0.8438, Similitud ASTs: 0.8594\n",
      "🔍 f28b8cb4_ff3283cf - Simhash: 0.8125, Similitud ASTs: 0.8906\n",
      "🔍 9fd33d5a_c220c822 - Simhash: 0.8594, Similitud ASTs: 0.9219\n",
      "🔍 a5d5a95f_c4ca2ff3 - Simhash: 0.9375, Similitud ASTs: 0.9688\n",
      "🔍 b5da712b_dd994c01 - Simhash: 0.8750, Similitud ASTs: 0.8750\n",
      "🔍 c9159d9c_fae0662f - Simhash: 0.8594, Similitud ASTs: 0.9375\n",
      "🔍 a5d5a95f_ab7507bf - Simhash: 0.9531, Similitud ASTs: 0.9375\n",
      "🔍 67996c4c_7bc92b7f - Simhash: 0.8594, Similitud ASTs: 0.8906\n",
      "🔍 8e990c75_d9f6c257 - Simhash: 0.8594, Similitud ASTs: 0.8594\n",
      "🔍 ae6567fb_d22a53cd - Simhash: 0.7812, Similitud ASTs: 0.8906\n",
      "🔍 35eb27da_8559d49e - Simhash: 0.6719, Similitud ASTs: 0.7812\n",
      "🔍 2bbf754b_3a12e509 - Simhash: 0.8750, Similitud ASTs: 0.9062\n",
      "🔍 34aa6a45_dd5fd2a2 - Simhash: 0.8750, Similitud ASTs: 0.8906\n"
     ]
    },
    {
     "name": "stderr",
     "output_type": "stream",
     "text": [
      "Procesando pares:  82%|████████▏ | 1266/1539 [00:09<00:02, 106.33it/s]"
     ]
    },
    {
     "name": "stdout",
     "output_type": "stream",
     "text": [
      "🔍 927384f2_b2bae06a - Simhash: 0.9531, Similitud ASTs: 0.9688\n",
      "🔍 ba8800f5_d8e4eb5e - Simhash: 0.8281, Similitud ASTs: 0.8750\n",
      "🔍 0e68e463_29cf2e70 - Simhash: 0.9375, Similitud ASTs: 0.9844\n",
      "🔍 8f31b279_d2f74dfc - Simhash: 0.8906, Similitud ASTs: 0.8750\n",
      "🔍 0951d079_0ecf356d - Simhash: 0.9844, Similitud ASTs: 0.9844\n",
      "🔍 921b6e4a_e7dce35b - Simhash: 0.9531, Similitud ASTs: 0.9688\n",
      "🔍 116765b1_38601291 - Simhash: 0.9688, Similitud ASTs: 0.9688\n",
      "🔍 ad4c7a20_f8e7b886 - Simhash: 0.8750, Similitud ASTs: 0.9688\n",
      "🔍 05ca89ed_163d0dde - Simhash: 0.8906, Similitud ASTs: 0.9375\n",
      "🔍 b08b1c3c_d92b4600 - Simhash: 0.7969, Similitud ASTs: 0.9219\n",
      "🔍 1a6f8b20_f6ed6826 - Simhash: 0.9375, Similitud ASTs: 0.9531\n",
      "🔍 6f02c6d9_c2242c42 - Simhash: 0.9531, Similitud ASTs: 0.9844\n",
      "🔍 c1fef98f_fadc1365 - Simhash: 0.9375, Similitud ASTs: 0.9219\n",
      "🔍 00af3420_5449d33c - Simhash: 0.8438, Similitud ASTs: 0.8906\n",
      "🔍 1a6f8b20_77448a05 - Simhash: 0.8438, Similitud ASTs: 0.9531\n",
      "🔍 0b04b41e_c4ca2ff3 - Simhash: 0.9062, Similitud ASTs: 0.9062\n",
      "🔍 81fb6415_fb69b3b4 - Simhash: 0.8750, Similitud ASTs: 0.9062\n",
      "🔍 72d9eb5b_9862c742 - Simhash: 0.9219, Similitud ASTs: 0.9375\n",
      "🔍 2af19170_ac8ef97c - Simhash: 0.9375, Similitud ASTs: 0.8906\n",
      "🔍 169e34bf_c9159d9c - Simhash: 0.8438, Similitud ASTs: 0.9688\n",
      "🔍 9310ad0c_f36138e7 - Simhash: 0.8125, Similitud ASTs: 0.9688\n",
      "🔍 e431de28_eb6cfca7 - Simhash: 0.8750, Similitud ASTs: 0.9688\n",
      "🔍 6f02c6d9_c9159d9c - Simhash: 0.8281, Similitud ASTs: 0.9688\n",
      "🔍 8f6421f3_bdfe8110 - Simhash: 0.8750, Similitud ASTs: 0.9531\n",
      "🔍 a7e7f371_ad4c7a20 - Simhash: 0.9688, Similitud ASTs: 0.9531\n",
      "🔍 16857116_f3d7ce08 - Simhash: 0.9531, Similitud ASTs: 0.9531\n",
      "⚠️  3d06b643_db7f80a5 omitido ()\n"
     ]
    },
    {
     "name": "stderr",
     "output_type": "stream",
     "text": [
      "Procesando pares:  84%|████████▍ | 1292/1539 [00:09<00:02, 107.08it/s]"
     ]
    },
    {
     "name": "stdout",
     "output_type": "stream",
     "text": [
      "🔍 06b9cf99_fb69b3b4 - Simhash: 0.8750, Similitud ASTs: 0.9375\n",
      "🔍 7686c854_8a729537 - Simhash: 0.8750, Similitud ASTs: 0.8438\n",
      "🔍 5a81e159_d82fa7e3 - Simhash: 0.8594, Similitud ASTs: 0.8906\n",
      "🔍 46e9aed4_7011024d - Simhash: 0.8438, Similitud ASTs: 0.8750\n",
      "🔍 29cf2e70_b2001d68 - Simhash: 0.9688, Similitud ASTs: 0.9844\n",
      "🔍 22b41936_9cea10af - Simhash: 0.8594, Similitud ASTs: 0.8906\n",
      "🔍 487c9f62_54488276 - Simhash: 0.8594, Similitud ASTs: 0.8750\n",
      "🔍 2e404969_597195ee - Simhash: 0.8438, Similitud ASTs: 0.9375\n",
      "🔍 69b2fd22_d018b49f - Simhash: 0.8281, Similitud ASTs: 0.8594\n",
      "🔍 31f29772_b728ba1d - Simhash: 0.8594, Similitud ASTs: 0.9375\n",
      "🔍 3c667d4f_a7894e0b - Simhash: 0.9062, Similitud ASTs: 0.9062\n",
      "🔍 1c8bb204_7ed5a88d - Simhash: 0.9062, Similitud ASTs: 0.9219\n",
      "🔍 0f3a2acf_16e6d8bb - Simhash: 0.8750, Similitud ASTs: 1.0000\n",
      "🔍 2acaa7df_46e9aed4 - Simhash: 0.7812, Similitud ASTs: 0.8438\n",
      "🔍 53551ea0_6be98ece - Simhash: 0.9375, Similitud ASTs: 0.9844\n",
      "🔍 968c1e7e_a4e1511a - Simhash: 0.8125, Similitud ASTs: 0.7969\n",
      "🔍 464a03b8_cf27732e - Simhash: 0.9219, Similitud ASTs: 0.9375\n",
      "🔍 d3a96420_ff34fab2 - Simhash: 0.8438, Similitud ASTs: 0.9375\n",
      "🔍 11d91f31_eea69e7f - Simhash: 0.8906, Similitud ASTs: 0.9375\n",
      "🔍 949502c2_e647bef7 - Simhash: 0.8594, Similitud ASTs: 0.8750\n",
      "🔍 0b27be88_3f4a5b64 - Simhash: 1.0000, Similitud ASTs: 1.0000\n",
      "🔍 1dab88fb_99ccaa44 - Simhash: 0.8438, Similitud ASTs: 0.8281\n",
      "🔍 6bcc5afd_cb87df79 - Simhash: 0.9375, Similitud ASTs: 0.9844\n",
      "🔍 49e94e7e_f3d7ce08 - Simhash: 0.8594, Similitud ASTs: 0.8750\n"
     ]
    },
    {
     "name": "stderr",
     "output_type": "stream",
     "text": [
      "Procesando pares:  86%|████████▌ | 1317/1539 [00:09<00:01, 113.55it/s]"
     ]
    },
    {
     "name": "stdout",
     "output_type": "stream",
     "text": [
      "🔍 38129877_7493a104 - Simhash: 1.0000, Similitud ASTs: 1.0000\n",
      "🔍 00f79486_ce0b2178 - Simhash: 0.8438, Similitud ASTs: 0.9062\n",
      "🔍 0951d079_927384f2 - Simhash: 0.9219, Similitud ASTs: 0.9375\n",
      "🔍 1dab88fb_a6229ee9 - Simhash: 0.7969, Similitud ASTs: 0.8906\n",
      "🔍 3dd65549_90dc2b20 - Simhash: 0.8594, Similitud ASTs: 0.8750\n",
      "🔍 6db218a2_90b71536 - Simhash: 1.0000, Similitud ASTs: 1.0000\n",
      "🔍 3380fa52_e1a5831a - Simhash: 0.9062, Similitud ASTs: 0.8906\n",
      "🔍 90dc2b20_f229aa7f - Simhash: 0.7969, Similitud ASTs: 0.9062\n",
      "🔍 4a570de6_6c4ac8d3 - Simhash: 0.8750, Similitud ASTs: 0.9531\n",
      "🔍 e185bce5_f3d7ce08 - Simhash: 0.9219, Similitud ASTs: 0.9219\n",
      "🔍 1097b326_b45d28b2 - Simhash: 0.7812, Similitud ASTs: 0.9531\n",
      "🔍 51151974_7d12d33c - Simhash: 0.9062, Similitud ASTs: 0.9062\n",
      "🔍 2bd5c798_317baeaf - Simhash: 0.9062, Similitud ASTs: 0.9531\n",
      "🔍 12309af3_390d2f23 - Simhash: 0.8438, Similitud ASTs: 0.9375\n",
      "🔍 930dd1f1_f4b87cc2 - Simhash: 0.8906, Similitud ASTs: 0.8594\n",
      "🔍 4323e2bd_ebd8ff55 - Simhash: 0.8906, Similitud ASTs: 0.8750\n",
      "🔍 63bfa731_9fc811f7 - Simhash: 0.8594, Similitud ASTs: 0.9219\n",
      "🔍 48c5f745_4d25818e - Simhash: 0.9062, Similitud ASTs: 0.9219\n",
      "🔍 c4ca2ff3_d6fb3b9e - Simhash: 0.9375, Similitud ASTs: 0.9062\n",
      "🔍 3d06b643_f6ca6fc8 - Simhash: 0.9062, Similitud ASTs: 0.9844\n",
      "🔍 c57a973e_fa484fdd - Simhash: 0.8594, Similitud ASTs: 0.9062\n",
      "🔍 39210347_68dff461 - Simhash: 1.0000, Similitud ASTs: 1.0000\n",
      "🔍 2b7b2d45_a0b406e6 - Simhash: 0.8125, Similitud ASTs: 0.9219\n"
     ]
    },
    {
     "name": "stderr",
     "output_type": "stream",
     "text": [
      "Procesando pares:  87%|████████▋ | 1341/1539 [00:10<00:01, 109.38it/s]"
     ]
    },
    {
     "name": "stdout",
     "output_type": "stream",
     "text": [
      "🔍 8b490132_db09b3f9 - Simhash: 1.0000, Similitud ASTs: 1.0000\n",
      "🔍 26e699de_90dc2b20 - Simhash: 0.8438, Similitud ASTs: 0.8438\n",
      "🔍 595f5d6c_ae775964 - Simhash: 0.9375, Similitud ASTs: 0.9688\n",
      "🔍 a0b406e6_c9b4bb51 - Simhash: 0.8438, Similitud ASTs: 0.9219\n",
      "🔍 54d7c21e_ad4c7a20 - Simhash: 0.9688, Similitud ASTs: 0.9375\n",
      "🔍 9862c742_d9199dfd - Simhash: 0.9062, Similitud ASTs: 0.9375\n",
      "🔍 547ee69b_5ce1fe32 - Simhash: 0.7812, Similitud ASTs: 0.8906\n",
      "🔍 8ad1ad84_f652c678 - Simhash: 0.8906, Similitud ASTs: 0.9219\n",
      "🔍 99bc7da3_b3638571 - Simhash: 0.7500, Similitud ASTs: 0.8750\n",
      "🔍 2da4b3fe_3d06b643 - Simhash: 0.8906, Similitud ASTs: 0.9219\n",
      "🔍 9862c742_cf27732e - Simhash: 0.9219, Similitud ASTs: 0.9844\n",
      "🔍 3ff25f43_c287ea9d - Simhash: 0.8125, Similitud ASTs: 0.9531\n",
      "🔍 4fd752f7_c7239c97 - Simhash: 1.0000, Similitud ASTs: 1.0000\n",
      "🔍 18e2441c_792863db - Simhash: 0.8750, Similitud ASTs: 0.8594\n",
      "🔍 2e404969_d76e3b9d - Simhash: 0.8125, Similitud ASTs: 0.9844\n",
      "🔍 722e318f_c9159d9c - Simhash: 0.8438, Similitud ASTs: 0.8906\n",
      "🔍 13441e8f_141effef - Simhash: 0.8438, Similitud ASTs: 0.8750\n",
      "🔍 9d1bfd29_fe07e031 - Simhash: 0.9062, Similitud ASTs: 0.8750\n",
      "🔍 07a0e4dc_bac616ee - Simhash: 0.8281, Similitud ASTs: 0.9375\n",
      "🔍 9cea10af_d63e6e3f - Simhash: 0.8438, Similitud ASTs: 0.9062\n",
      "🔍 35bb6075_42fe7dd0 - Simhash: 0.9062, Similitud ASTs: 0.9375\n",
      "🔍 8a39dbf5_e1a5831a - Simhash: 0.9375, Similitud ASTs: 0.9531\n"
     ]
    },
    {
     "name": "stderr",
     "output_type": "stream",
     "text": [
      "Procesando pares:  89%|████████▊ | 1365/1539 [00:10<00:01, 112.21it/s]"
     ]
    },
    {
     "name": "stdout",
     "output_type": "stream",
     "text": [
      "🔍 11c2ab99_8f6421f3 - Simhash: 0.8750, Similitud ASTs: 0.9531\n",
      "🔍 0b5cff5a_4fb09c5f - Simhash: 0.8750, Similitud ASTs: 0.9062\n",
      "🔍 c4ca2ff3_ccc8ef27 - Simhash: 0.9375, Similitud ASTs: 0.9062\n",
      "🔍 680ba922_f3d7ce08 - Simhash: 0.9062, Similitud ASTs: 0.9688\n",
      "🔍 6f393cfe_d61f51c5 - Simhash: 0.9219, Similitud ASTs: 0.9688\n",
      "🔍 a8e2cefc_ee270b2a - Simhash: 0.8594, Similitud ASTs: 0.9219\n",
      "🔍 24afd00e_279e274a - Simhash: 0.9219, Similitud ASTs: 0.9688\n",
      "🔍 115c99cb_548ffb07 - Simhash: 1.0000, Similitud ASTs: 1.0000\n",
      "🔍 9ed0ece8_c48673a6 - Simhash: 0.8906, Similitud ASTs: 0.9531\n",
      "🔍 595f5d6c_6653a758 - Simhash: 0.7812, Similitud ASTs: 0.8594\n",
      "🔍 2ff0355e_83935617 - Simhash: 0.8594, Similitud ASTs: 0.9219\n",
      "🔍 d6fb3b9e_f7a0ea6d - Simhash: 0.9062, Similitud ASTs: 0.9062\n",
      "🔍 23cb8587_48801d9e - Simhash: 0.9375, Similitud ASTs: 0.9375\n",
      "🔍 1386da0e_f87eb1b3 - Simhash: 0.8594, Similitud ASTs: 0.8438\n",
      "🔍 6a47e491_f2cf6a74 - Simhash: 0.8438, Similitud ASTs: 0.8594\n",
      "🔍 28c2d81a_fa484fdd - Simhash: 0.8906, Similitud ASTs: 0.9219\n",
      "🔍 b790ef12_ff34fab2 - Simhash: 0.8438, Similitud ASTs: 0.9375\n",
      "🔍 7686c854_edce3e39 - Simhash: 0.8906, Similitud ASTs: 0.8594\n",
      "🔍 6653a758_f6ca6fc8 - Simhash: 0.9375, Similitud ASTs: 0.9688\n",
      "🔍 b2bae06a_d4779c71 - Simhash: 0.8906, Similitud ASTs: 0.9531\n",
      "🔍 7974ffba_94b3b86d - Simhash: 0.9062, Similitud ASTs: 0.8438\n",
      "🔍 73f1c5f5_da0b7cb2 - Simhash: 0.7656, Similitud ASTs: 0.8438\n",
      "🔍 a60fba84_c695a974 - Simhash: 0.7812, Similitud ASTs: 0.8906\n",
      "🔍 25151980_3b5cec19 - Simhash: 0.8281, Similitud ASTs: 0.9375\n"
     ]
    },
    {
     "name": "stderr",
     "output_type": "stream",
     "text": [
      "Procesando pares:  89%|████████▉ | 1377/1539 [00:10<00:01, 91.81it/s] "
     ]
    },
    {
     "name": "stdout",
     "output_type": "stream",
     "text": [
      "🔍 5e3089fa_aea245ba - Simhash: 0.9531, Similitud ASTs: 0.8750\n",
      "🔍 11c2ab99_28c2d81a - Simhash: 0.9219, Similitud ASTs: 0.9531\n",
      "🔍 550335a3_6d7d5dd7 - Simhash: 0.8438, Similitud ASTs: 0.9531\n",
      "🔍 558df7d4_d8654140 - Simhash: 0.8594, Similitud ASTs: 0.8906\n",
      "🔍 3088ca9c_6f393cfe - Simhash: 0.9062, Similitud ASTs: 0.9531\n",
      "🔍 213340b3_870e16d9 - Simhash: 0.7812, Similitud ASTs: 0.8750\n",
      "🔍 048.java_258.java - Simhash: 0.9375, Similitud ASTs: 0.9531\n",
      "🔍 084.java_085.java - Simhash: 0.7656, Similitud ASTs: 0.8594\n",
      "🔍 235.java_237.java - Simhash: 0.8594, Similitud ASTs: 0.8750\n",
      "🔍 242.java_243.java - Simhash: 0.9688, Similitud ASTs: 0.9688\n",
      "🔍 188.java_190.java - Simhash: 0.8125, Similitud ASTs: 0.8125\n",
      "🔍 049.java_050.java - Simhash: 0.6094, Similitud ASTs: 0.7031\n"
     ]
    },
    {
     "name": "stderr",
     "output_type": "stream",
     "text": [
      "Procesando pares:  90%|█████████ | 1387/1539 [00:10<00:01, 82.43it/s]"
     ]
    },
    {
     "name": "stdout",
     "output_type": "stream",
     "text": [
      "🔍 131.java_133.java - Simhash: 0.5312, Similitud ASTs: 0.8281\n",
      "🔍 238.java_240.java - Simhash: 0.6406, Similitud ASTs: 0.8281\n",
      "🔍 051.java_257.java - Simhash: 0.9062, Similitud ASTs: 0.9375\n",
      "🔍 159.java_250.java - Simhash: 1.0000, Similitud ASTs: 1.0000\n",
      "🔍 005.java_006.java - Simhash: 1.0000, Similitud ASTs: 1.0000\n",
      "🔍 014.java_021.java - Simhash: 1.0000, Similitud ASTs: 1.0000\n",
      "🔍 094.java_098.java - Simhash: 1.0000, Similitud ASTs: 0.9219\n",
      "🔍 059.java_159.java - Simhash: 0.8750, Similitud ASTs: 0.7031\n",
      "🔍 158.java_161.java - Simhash: 0.8906, Similitud ASTs: 0.8906\n",
      "🔍 078.java_079.java - Simhash: 0.7188, Similitud ASTs: 0.7969\n",
      "🔍 137.java_171.java - Simhash: 0.9375, Similitud ASTs: 0.9688\n",
      "🔍 107.java_113.java - Simhash: 0.9531, Similitud ASTs: 1.0000\n",
      "🔍 048.java_051.java - Simhash: 0.9688, Similitud ASTs: 1.0000\n"
     ]
    },
    {
     "name": "stderr",
     "output_type": "stream",
     "text": [
      "Procesando pares:  91%|█████████ | 1396/1539 [00:10<00:01, 75.77it/s]"
     ]
    },
    {
     "name": "stdout",
     "output_type": "stream",
     "text": [
      "🔍 042.java_044.java - Simhash: 0.9219, Similitud ASTs: 0.9375\n",
      "🔍 155.java_222.java - Simhash: 0.8594, Similitud ASTs: 0.8281\n",
      "🔍 191.java_193.java - Simhash: 0.8125, Similitud ASTs: 0.8125\n",
      "🔍 228.java_230.java - Simhash: 0.6875, Similitud ASTs: 0.8906\n",
      "🔍 108.java_112.java - Simhash: 0.9531, Similitud ASTs: 1.0000\n",
      "🔍 086.java_242.java - Simhash: 0.8906, Similitud ASTs: 0.8906\n",
      "🔍 086.java_222.java - Simhash: 0.9375, Similitud ASTs: 0.9062\n",
      "🔍 257.java_258.java - Simhash: 0.9375, Similitud ASTs: 0.9531\n",
      "🔍 143.java_145.java - Simhash: 0.8906, Similitud ASTs: 0.7969\n",
      "🔍 232.java_233.java - Simhash: 0.8750, Similitud ASTs: 0.8750\n",
      "🔍 153.java_155.java - Simhash: 0.9688, Similitud ASTs: 0.9531\n",
      "🔍 051.java_258.java - Simhash: 0.9375, Similitud ASTs: 0.9531\n"
     ]
    },
    {
     "name": "stderr",
     "output_type": "stream",
     "text": [
      "Procesando pares:  92%|█████████▏| 1412/1539 [00:11<00:01, 65.94it/s]"
     ]
    },
    {
     "name": "stdout",
     "output_type": "stream",
     "text": [
      "🔍 106.java_111.java - Simhash: 0.7812, Similitud ASTs: 0.8594\n",
      "🔍 185.java_258.java - Simhash: 0.9062, Similitud ASTs: 0.9375\n",
      "🔍 112.java_113.java - Simhash: 0.9688, Similitud ASTs: 1.0000\n",
      "🔍 016.java_024.java - Simhash: 1.0000, Similitud ASTs: 1.0000\n",
      "🔍 201.java_209.java - Simhash: 0.9844, Similitud ASTs: 1.0000\n",
      "🔍 059.java_258.java - Simhash: 0.9062, Similitud ASTs: 0.9062\n",
      "🔍 087.java_242.java - Simhash: 0.9219, Similitud ASTs: 0.9531\n",
      "🔍 155.java_243.java - Simhash: 0.9688, Similitud ASTs: 0.9375\n",
      "🔍 087.java_222.java - Simhash: 0.8750, Similitud ASTs: 0.8438\n",
      "🔍 048.java_183.java - Simhash: 0.9844, Similitud ASTs: 0.9688\n",
      "🔍 003.java_004.java - Simhash: 0.7031, Similitud ASTs: 0.7656\n",
      "🔍 087.java_155.java - Simhash: 0.9531, Similitud ASTs: 0.9531\n",
      "🔍 086.java_243.java - Simhash: 0.8906, Similitud ASTs: 0.8594\n",
      "🔍 117.java_119.java - Simhash: 0.8438, Similitud ASTs: 0.8906\n"
     ]
    },
    {
     "name": "stderr",
     "output_type": "stream",
     "text": [
      "Procesando pares:  93%|█████████▎| 1427/1539 [00:11<00:01, 66.56it/s]"
     ]
    },
    {
     "name": "stdout",
     "output_type": "stream",
     "text": [
      "🔍 069.java_070.java - Simhash: 0.9375, Similitud ASTs: 0.9531\n",
      "🔍 086.java_087.java - Simhash: 0.9375, Similitud ASTs: 0.9375\n",
      "🔍 136.java_173.java - Simhash: 0.8594, Similitud ASTs: 0.9688\n",
      "🔍 089.java_090.java - Simhash: 0.9219, Similitud ASTs: 0.9062\n",
      "🔍 183.java_185.java - Simhash: 0.9531, Similitud ASTs: 0.9531\n",
      "🔍 107.java_112.java - Simhash: 0.9531, Similitud ASTs: 1.0000\n",
      "🔍 148.java_150.java - Simhash: 0.8438, Similitud ASTs: 0.9375\n",
      "🔍 086.java_155.java - Simhash: 0.9219, Similitud ASTs: 0.9219\n",
      "🔍 087.java_243.java - Simhash: 0.9219, Similitud ASTs: 0.9219\n",
      "🔍 030.java_032.java - Simhash: 0.8750, Similitud ASTs: 0.9219\n",
      "🔍 221.java_224.java - Simhash: 0.6875, Similitud ASTs: 0.9062\n",
      "🔍 181.java_182.java - Simhash: 0.8125, Similitud ASTs: 0.7812\n",
      "🔍 059.java_250.java - Simhash: 0.8750, Similitud ASTs: 0.7031\n"
     ]
    },
    {
     "name": "stderr",
     "output_type": "stream",
     "text": [
      "Procesando pares:  93%|█████████▎| 1435/1539 [00:11<00:01, 66.73it/s]"
     ]
    },
    {
     "name": "stdout",
     "output_type": "stream",
     "text": [
      "🔍 051.java_183.java - Simhash: 0.9844, Similitud ASTs: 0.9688\n",
      "🔍 052.java_053.java - Simhash: 0.6562, Similitud ASTs: 0.8281\n",
      "🔍 202.java_208.java - Simhash: 0.9531, Similitud ASTs: 0.8438\n",
      "🔍 244.java_246.java - Simhash: 0.9219, Similitud ASTs: 0.9062\n",
      "🔍 146.java_147.java - Simhash: 0.9219, Similitud ASTs: 0.8906\n",
      "🔍 059.java_183.java - Simhash: 0.8906, Similitud ASTs: 0.8906\n",
      "🔍 103.java_105.java - Simhash: 0.8125, Similitud ASTs: 0.9219\n",
      "🔍 008.java_010.java - Simhash: 0.8750, Similitud ASTs: 0.8750\n",
      "🔍 062.java_064.java - Simhash: 1.0000, Similitud ASTs: 0.9688\n"
     ]
    },
    {
     "name": "stderr",
     "output_type": "stream",
     "text": [
      "Procesando pares:  95%|█████████▍| 1455/1539 [00:11<00:01, 71.75it/s]"
     ]
    },
    {
     "name": "stdout",
     "output_type": "stream",
     "text": [
      "🔍 048.java_257.java - Simhash: 0.9062, Similitud ASTs: 0.9375\n",
      "🔍 108.java_113.java - Simhash: 0.9531, Similitud ASTs: 1.0000\n",
      "🔍 195.java_218.java - Simhash: 0.9062, Similitud ASTs: 0.9531\n",
      "🔍 175.java_180.java - Simhash: 0.9062, Similitud ASTs: 0.9531\n",
      "🔍 107.java_108.java - Simhash: 0.9062, Similitud ASTs: 1.0000\n",
      "🔍 140.java_142.java - Simhash: 0.8906, Similitud ASTs: 0.9531\n",
      "🔍 045.java_047.java - Simhash: 0.9062, Similitud ASTs: 0.9531\n",
      "🔍 061.java_216.java - Simhash: 0.8750, Similitud ASTs: 0.9219\n",
      "🔍 183.java_258.java - Simhash: 0.9531, Similitud ASTs: 0.9844\n",
      "🔍 017.java_022.java - Simhash: 0.9375, Similitud ASTs: 1.0000\n",
      "🔍 211.java_216.java - Simhash: 0.6875, Similitud ASTs: 0.8438\n",
      "🔍 153.java_222.java - Simhash: 0.8906, Similitud ASTs: 0.8438\n",
      "🔍 015.java_023.java - Simhash: 1.0000, Similitud ASTs: 1.0000\n",
      "🔍 135.java_174.java - Simhash: 0.7969, Similitud ASTs: 0.7969\n",
      "🔍 101.java_212.java - Simhash: 0.9531, Similitud ASTs: 0.9688\n",
      "🔍 033.java_034.java - Simhash: 0.7969, Similitud ASTs: 0.8906\n",
      "🔍 043.java_251.java - Simhash: 1.0000, Similitud ASTs: 0.9531\n",
      "🔍 106.java_059.java - Simhash: 0.5000, Similitud ASTs: 0.7969\n",
      "🔍 180.java_061.java - Simhash: 0.8594, Similitud ASTs: 0.9531\n",
      "🔍 069.java_017.java - Simhash: 0.6719, Similitud ASTs: 0.6250\n",
      "🔍 061.java_171.java - Simhash: 0.8750, Similitud ASTs: 0.9844\n",
      "🔍 131.java_240.java - Simhash: 0.6094, Similitud ASTs: 0.8594\n"
     ]
    },
    {
     "name": "stderr",
     "output_type": "stream",
     "text": [
      "Procesando pares:  96%|█████████▌| 1473/1539 [00:12<00:00, 67.74it/s]"
     ]
    },
    {
     "name": "stdout",
     "output_type": "stream",
     "text": [
      "🔍 079.java_062.java - Simhash: 0.7656, Similitud ASTs: 0.8125\n",
      "🔍 193.java_034.java - Simhash: 0.6562, Similitud ASTs: 0.7812\n",
      "🔍 032.java_105.java - Simhash: 0.8281, Similitud ASTs: 0.9062\n",
      "🔍 147.java_175.java - Simhash: 0.7812, Similitud ASTs: 0.9375\n",
      "🔍 022.java_246.java - Simhash: 0.6562, Similitud ASTs: 0.5938\n",
      "🔍 117.java_230.java - Simhash: 0.7656, Similitud ASTs: 0.8125\n",
      "🔍 047.java_191.java - Simhash: 0.7812, Similitud ASTs: 0.7969\n",
      "🔍 103.java_049.java - Simhash: 0.8594, Similitud ASTs: 0.8125\n",
      "🔍 153.java_181.java - Simhash: 0.8594, Similitud ASTs: 0.8281\n",
      "🔍 175.java_015.java - Simhash: 0.7031, Similitud ASTs: 0.7656\n",
      "🔍 171.java_078.java - Simhash: 0.7500, Similitud ASTs: 0.8594\n",
      "🔍 153.java_112.java - Simhash: 0.6562, Similitud ASTs: 0.6875\n",
      "🔍 078.java_195.java - Simhash: 0.6562, Similitud ASTs: 0.8125\n",
      "🔍 232.java_240.java - Simhash: 0.8125, Similitud ASTs: 0.8750\n",
      "🔍 211.java_183.java - Simhash: 0.5469, Similitud ASTs: 0.8281\n",
      "🔍 221.java_216.java - Simhash: 0.7031, Similitud ASTs: 0.8125\n",
      "🔍 147.java_053.java - Simhash: 0.8281, Similitud ASTs: 0.9531\n"
     ]
    },
    {
     "name": "stderr",
     "output_type": "stream",
     "text": [
      "Procesando pares:  97%|█████████▋| 1489/1539 [00:12<00:00, 69.36it/s]"
     ]
    },
    {
     "name": "stdout",
     "output_type": "stream",
     "text": [
      "🔍 078.java_106.java - Simhash: 0.8750, Similitud ASTs: 0.8750\n",
      "🔍 190.java_101.java - Simhash: 0.8281, Similitud ASTs: 0.9531\n",
      "🔍 070.java_059.java - Simhash: 0.5625, Similitud ASTs: 0.7031\n",
      "🔍 106.java_230.java - Simhash: 0.7500, Similitud ASTs: 0.8594\n",
      "🔍 181.java_183.java - Simhash: 0.8438, Similitud ASTs: 0.8594\n",
      "🔍 201.java_059.java - Simhash: 0.6719, Similitud ASTs: 0.6875\n",
      "🔍 010.java_148.java - Simhash: 0.7656, Similitud ASTs: 0.9062\n",
      "🔍 108.java_224.java - Simhash: 0.8750, Similitud ASTs: 0.7344\n",
      "🔍 003.java_051.java - Simhash: 0.9375, Similitud ASTs: 0.8594\n",
      "🔍 155.java_137.java - Simhash: 0.6250, Similitud ASTs: 0.8438\n",
      "🔍 193.java_174.java - Simhash: 0.7031, Similitud ASTs: 0.6562\n",
      "🔍 250.java_108.java - Simhash: 0.5781, Similitud ASTs: 0.6250\n",
      "🔍 016.java_159.java - Simhash: 0.8438, Similitud ASTs: 0.7188\n",
      "🔍 107.java_042.java - Simhash: 0.7812, Similitud ASTs: 0.6250\n",
      "🔍 250.java_133.java - Simhash: 0.5781, Similitud ASTs: 0.6875\n"
     ]
    },
    {
     "name": "stderr",
     "output_type": "stream",
     "text": [
      "Procesando pares:  98%|█████████▊| 1507/1539 [00:12<00:00, 74.43it/s]"
     ]
    },
    {
     "name": "stdout",
     "output_type": "stream",
     "text": [
      "🔍 032.java_087.java - Simhash: 0.6719, Similitud ASTs: 0.7812\n",
      "🔍 137.java_182.java - Simhash: 0.8281, Similitud ASTs: 0.8750\n",
      "🔍 050.java_232.java - Simhash: 0.7031, Similitud ASTs: 0.7500\n",
      "🔍 140.java_258.java - Simhash: 0.7656, Similitud ASTs: 0.8594\n",
      "🔍 185.java_103.java - Simhash: 0.7031, Similitud ASTs: 0.9062\n",
      "🔍 033.java_190.java - Simhash: 0.6250, Similitud ASTs: 0.7031\n",
      "🔍 022.java_079.java - Simhash: 0.6719, Similitud ASTs: 0.7500\n",
      "🔍 111.java_107.java - Simhash: 0.7969, Similitud ASTs: 0.7969\n",
      "🔍 188.java_183.java - Simhash: 0.6719, Similitud ASTs: 0.7344\n",
      "🔍 021.java_107.java - Simhash: 0.8906, Similitud ASTs: 0.7188\n",
      "🔍 148.java_084.java - Simhash: 0.8594, Similitud ASTs: 0.8281\n",
      "🔍 190.java_143.java - Simhash: 0.7500, Similitud ASTs: 0.7969\n",
      "🔍 150.java_089.java - Simhash: 0.9062, Similitud ASTs: 0.8750\n",
      "🔍 117.java_201.java - Simhash: 0.7812, Similitud ASTs: 0.8125\n",
      "🔍 113.java_086.java - Simhash: 0.6094, Similitud ASTs: 0.6250\n"
     ]
    },
    {
     "name": "stderr",
     "output_type": "stream",
     "text": [
      "Procesando pares:  99%|█████████▉| 1524/1539 [00:12<00:00, 78.77it/s]"
     ]
    },
    {
     "name": "stdout",
     "output_type": "stream",
     "text": [
      "🔍 070.java_242.java - Simhash: 0.7188, Similitud ASTs: 0.8281\n",
      "🔍 024.java_032.java - Simhash: 0.6562, Similitud ASTs: 0.8125\n",
      "🔍 188.java_240.java - Simhash: 0.7812, Similitud ASTs: 0.7969\n",
      "🔍 146.java_089.java - Simhash: 0.8906, Similitud ASTs: 0.8750\n",
      "🔍 079.java_209.java - Simhash: 0.8438, Similitud ASTs: 0.7812\n",
      "🔍 094.java_230.java - Simhash: 0.8281, Similitud ASTs: 0.8750\n",
      "🔍 133.java_014.java - Simhash: 0.7969, Similitud ASTs: 0.9375\n",
      "🔍 086.java_078.java - Simhash: 0.5469, Similitud ASTs: 0.9062\n",
      "🔍 042.java_136.java - Simhash: 0.8125, Similitud ASTs: 0.8594\n",
      "🔍 211.java_078.java - Simhash: 0.9375, Similitud ASTs: 0.9531\n",
      "🔍 059.java_015.java - Simhash: 0.6875, Similitud ASTs: 0.6562\n",
      "🔍 047.java_212.java - Simhash: 0.7656, Similitud ASTs: 0.8750\n",
      "🔍 218.java_159.java - Simhash: 0.5938, Similitud ASTs: 0.7344\n",
      "🔍 216.java_051.java - Simhash: 0.6875, Similitud ASTs: 0.8281\n",
      "🔍 195.java_094.java - Simhash: 0.7969, Similitud ASTs: 0.8906\n",
      "🔍 111.java_250.java - Simhash: 0.5938, Similitud ASTs: 0.7031\n",
      "🔍 004.java_021.java - Simhash: 0.8906, Similitud ASTs: 0.8750\n"
     ]
    },
    {
     "name": "stderr",
     "output_type": "stream",
     "text": [
      "Procesando pares: 100%|██████████| 1539/1539 [00:12<00:00, 118.87it/s]"
     ]
    },
    {
     "name": "stdout",
     "output_type": "stream",
     "text": [
      "🔍 008.java_251.java - Simhash: 0.8438, Similitud ASTs: 0.8594\n",
      "🔍 089.java_112.java - Simhash: 0.7969, Similitud ASTs: 0.7031\n",
      "🔍 188.java_173.java - Simhash: 0.8125, Similitud ASTs: 0.7188\n",
      "🔍 211.java_131.java - Simhash: 0.5156, Similitud ASTs: 0.9688\n",
      "🔍 133.java_221.java - Simhash: 0.6250, Similitud ASTs: 0.8281\n",
      "🔍 143.java_131.java - Simhash: 0.7031, Similitud ASTs: 0.7656\n",
      "🔍 119.java_147.java - Simhash: 0.7812, Similitud ASTs: 0.9062\n",
      "🔍 171.java_230.java - Simhash: 0.8438, Similitud ASTs: 0.9688\n",
      "🔍 004.java_087.java - Simhash: 0.6562, Similitud ASTs: 0.7188\n",
      "🔍 173.java_023.java - Simhash: 0.6562, Similitud ASTs: 0.6562\n",
      "🔍 053.java_033.java - Simhash: 0.7188, Similitud ASTs: 0.7656\n",
      "🔍 047.java_064.java - Simhash: 0.8438, Similitud ASTs: 0.9219\n",
      "🔍 135.java_175.java - Simhash: 0.7188, Similitud ASTs: 0.7500\n",
      "🔍 051.java_016.java - Simhash: 0.9375, Similitud ASTs: 0.9375\n",
      "🔍 232.java_034.java - Simhash: 0.5469, Similitud ASTs: 0.7031\n",
      "✅  dataset.csv generado con 1538 filas\n"
     ]
    },
    {
     "name": "stderr",
     "output_type": "stream",
     "text": [
      "\n"
     ]
    }
   ],
   "source": [
    "from tqdm import tqdm \n",
    "\n",
    "rows = []\n",
    "total = len(pairs_dict)\n",
    "\n",
    "for pid, info in tqdm(pairs_dict.items(),\n",
    "                      total=total,\n",
    "                      desc=\"Procesando pares\"):\n",
    "    try:\n",
    "        # Usa tu propia función de lectura\n",
    "        code_a = read_code(info[\"code1\"])\n",
    "        code_b = read_code(info[\"code2\"])\n",
    "\n",
    "        # ­Features\n",
    "        simhash_sim = text_similarity(code_a, code_b)\n",
    "        sim_ast = ast_similarity(code_a, code_b)\n",
    "        print(f\"🔍 {pid} - Simhash: {simhash_sim:.4f}, Similitud ASTs: {sim_ast:.4f}\")\n",
    "\n",
    "        rows.append({\n",
    "            \"id\"           : pid,\n",
    "            \"idcode1\"      : info[\"idcode1\"],\n",
    "            \"idcode2\"      : info[\"idcode2\"],\n",
    "            \"code1\"        : info[\"code1\"],   # ruta\n",
    "            \"code2\"        : info[\"code2\"],   # ruta\n",
    "            \"simhash\"      : simhash_sim,\n",
    "            \"astsimilarity\": sim_ast,\n",
    "            \"dataset\"      : info[\"dataset\"],\n",
    "            \"result\"       : info[\"result\"],\n",
    "        })\n",
    "\n",
    "    except Exception as e:\n",
    "        # Cualquier fallo de parseo/similaridad ⇒ se omite el par\n",
    "        print(f\"⚠️  {pid} omitido ({e})\")\n",
    "\n",
    "# Guarda el CSV\n",
    "import pandas as pd\n",
    "pd.DataFrame(rows).to_csv(\"dataset.csv\", index=False)\n",
    "print(\"✅  dataset.csv generado con\", len(rows), \"filas\")\n"
   ]
  },
  {
   "cell_type": "code",
   "execution_count": null,
   "metadata": {},
   "outputs": [],
   "source": []
  }
 ],
 "metadata": {
  "kernelspec": {
   "display_name": "base",
   "language": "python",
   "name": "python3"
  },
  "language_info": {
   "codemirror_mode": {
    "name": "ipython",
    "version": 3
   },
   "file_extension": ".py",
   "mimetype": "text/x-python",
   "name": "python",
   "nbconvert_exporter": "python",
   "pygments_lexer": "ipython3",
   "version": "3.9.13"
  }
 },
 "nbformat": 4,
 "nbformat_minor": 2
}
