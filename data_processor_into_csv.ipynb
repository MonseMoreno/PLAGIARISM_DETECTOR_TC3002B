{
 "cells": [
  {
   "cell_type": "code",
   "execution_count": 21,
   "metadata": {},
   "outputs": [
    {
     "name": "stdout",
     "output_type": "stream",
     "text": [
      "Requirement already satisfied: backports.tarfile in c:\\users\\pablo\\anaconda3\\lib\\site-packages (1.2.0)\n",
      "Note: you may need to restart the kernel to use updated packages.\n",
      "Requirement already satisfied: zss in c:\\users\\pablo\\anaconda3\\lib\\site-packages (1.2.0)\n",
      "Requirement already satisfied: six in c:\\users\\pablo\\anaconda3\\lib\\site-packages (from zss) (1.17.0)\n",
      "Note: you may need to restart the kernel to use updated packages.\n"
     ]
    }
   ],
   "source": [
    "%pip install backports.tarfile\n",
    "%pip install zss"
   ]
  },
  {
   "cell_type": "markdown",
   "metadata": {},
   "source": [
    "# Procesamiento de los datasets"
   ]
  },
  {
   "cell_type": "code",
   "execution_count": 22,
   "metadata": {},
   "outputs": [
    {
     "name": "stdout",
     "output_type": "stream",
     "text": [
      "460\n"
     ]
    }
   ],
   "source": [
    "import os\n",
    "from collections import OrderedDict\n",
    "\n",
    "base_path = 'IR-Plag-Dataset'\n",
    "pairs_dict = OrderedDict()\n",
    "\n",
    "for case in sorted(os.listdir(base_path)):\n",
    "    case_path = os.path.join(base_path, case)\n",
    "    if not os.path.isdir(case_path):\n",
    "        continue\n",
    "\n",
    "    dataset_name = 'IR-Plag'\n",
    "    orig_path = os.path.join(case_path, 'original')\n",
    "    orig_file = next(os.scandir(orig_path)).path\n",
    "    orig_id   = f'{case}-ORIG'\n",
    "\n",
    "    nonplag_path = os.path.join(case_path, 'non-plagiarized')\n",
    "    if os.path.exists(nonplag_path):\n",
    "        for folder in sorted(os.listdir(nonplag_path)):\n",
    "            folder_path = os.path.join(nonplag_path, folder)\n",
    "            if not os.path.isdir(folder_path):\n",
    "                continue\n",
    "            file_path = next(os.scandir(folder_path)).path\n",
    "            file_id   = f'{case}-NP-{folder}'\n",
    "            pair_id   = f'{orig_id}_{file_id}'\n",
    "            pairs_dict[pair_id] = {\n",
    "                'idcode1': orig_id,\n",
    "                'code1'  : orig_file,\n",
    "                'idcode2': file_id,\n",
    "                'code2'  : file_path,\n",
    "                'result' : 0,\n",
    "                'dataset': dataset_name\n",
    "            }\n",
    "\n",
    "    plag_path = os.path.join(case_path, 'plagiarized')\n",
    "    if os.path.exists(plag_path):\n",
    "        for level in sorted(os.listdir(plag_path)):\n",
    "            level_path = os.path.join(plag_path, level)\n",
    "            for folder in sorted(os.listdir(level_path)):\n",
    "                folder_path = os.path.join(level_path, folder)\n",
    "                if not os.path.isdir(folder_path):\n",
    "                    continue\n",
    "                file_path = next(os.scandir(folder_path)).path\n",
    "                file_id   = f'{case}-{level}-{folder}'\n",
    "                pair_id   = f'{orig_id}_{file_id}'\n",
    "                pairs_dict[pair_id] = {\n",
    "                    'idcode1': orig_id,\n",
    "                    'code1'  : orig_file,\n",
    "                    'idcode2': file_id,\n",
    "                    'code2'  : file_path,\n",
    "                    'result' : 1,\n",
    "                    'dataset': dataset_name\n",
    "                }\n",
    "\n",
    "print(len(pairs_dict))\n"
   ]
  },
  {
   "cell_type": "code",
   "execution_count": 23,
   "metadata": {},
   "outputs": [
    {
     "name": "stdout",
     "output_type": "stream",
     "text": [
      "✅ Total de pares tras añadir CONPLAG: 1371\n"
     ]
    }
   ],
   "source": [
    "import os\n",
    "import pandas as pd\n",
    "\n",
    "conplag_base     = 'conplag_version_2/versions'\n",
    "conplag_code_dir = os.path.join(conplag_base, 'version_2')\n",
    "conplag_labels   = os.path.join(conplag_base, 'labels.csv')\n",
    "\n",
    "df = pd.read_csv(conplag_labels)\n",
    "\n",
    "for _, row in df.iterrows():\n",
    "    sub1, sub2, verdict = row['sub1'], row['sub2'], int(row['verdict'])\n",
    "\n",
    "    codeid1  = str(sub1)\n",
    "    codeid2  = str(sub2)\n",
    "    pair_id  = f'{codeid1}_{codeid2}'\n",
    "\n",
    "    folder_path = os.path.join(conplag_code_dir, pair_id)\n",
    "    file1_path  = os.path.join(folder_path, f'{codeid1}.java')\n",
    "    file2_path  = os.path.join(folder_path, f'{codeid2}.java')\n",
    "\n",
    "    if not (os.path.exists(file1_path) and os.path.exists(file2_path)):\n",
    "        continue\n",
    "\n",
    "    pairs_dict[pair_id] = {\n",
    "        'idcode1': codeid1,\n",
    "        'code1'  : file1_path,          \n",
    "        'idcode2': codeid2,\n",
    "        'code2'  : file2_path,          \n",
    "        'result' : verdict,             \n",
    "        'dataset': 'conplag_version_2'\n",
    "    }\n",
    "\n",
    "print(f'✅ Total de pares tras añadir CONPLAG: {len(pairs_dict)}')"
   ]
  },
  {
   "cell_type": "code",
   "execution_count": 24,
   "metadata": {},
   "outputs": [
    {
     "name": "stdout",
     "output_type": "stream",
     "text": [
      "✅ Total de pares tras añadir FIRE14: 1539\n"
     ]
    }
   ],
   "source": [
    "import os, random\n",
    "\n",
    "base_path   = 'fire14-source-code-training-dataset'\n",
    "java_path   = os.path.join(base_path, 'java')\n",
    "qrel_path   = os.path.join(base_path, 'SOCO14-java.qrel')\n",
    "dataset_name = 'FIRE14'\n",
    "\n",
    "all_files = [f for f in os.listdir(java_path) if f.endswith('.java')]\n",
    "file_set  = set(all_files)\n",
    "\n",
    "positive_pairs = set()\n",
    "with open(qrel_path, encoding='utf-8') as fh:\n",
    "    for line in fh:\n",
    "        f1, f2 = line.split()[:2]\n",
    "        if not f1.endswith('.java'): f1 += '.java'\n",
    "        if not f2.endswith('.java'): f2 += '.java'\n",
    "        if f1 in file_set and f2 in file_set:\n",
    "            positive_pairs.add((f1, f2))\n",
    "\n",
    "positive_ids = list({x for p in positive_pairs for x in p})\n",
    "negatives = set()\n",
    "while len(negatives) < len(positive_pairs):\n",
    "    f1, f2 = random.sample(positive_ids, 2)\n",
    "    if f1 != f2 and (f1, f2) not in positive_pairs and (f2, f1) not in positive_pairs:\n",
    "        negatives.add((f1, f2))\n",
    "\n",
    "def add_pair(f1, f2, label):\n",
    "    p1, p2 = os.path.join(java_path, f1), os.path.join(java_path, f2)\n",
    "    if not (os.path.exists(p1) and os.path.exists(p2)): return\n",
    "    pair_id = f'{f1}_{f2}'\n",
    "    pairs_dict[pair_id] = {\n",
    "        'idcode1': f1,\n",
    "        'code1'  : p1,\n",
    "        'idcode2': f2,\n",
    "        'code2'  : p2,\n",
    "        'result' : label,\n",
    "        'dataset': dataset_name\n",
    "    }\n",
    "\n",
    "for f1, f2 in positive_pairs: add_pair(f1, f2, 1)\n",
    "for f1, f2 in negatives:      add_pair(f1, f2, 0)\n",
    "\n",
    "print(f'✅ Total de pares tras añadir FIRE14: {len(pairs_dict)}')\n"
   ]
  },
  {
   "cell_type": "markdown",
   "metadata": {},
   "source": [
    "# Calculo de features"
   ]
  },
  {
   "cell_type": "code",
   "execution_count": 25,
   "metadata": {},
   "outputs": [],
   "source": [
    "def read_code(file_path):\n",
    "    with open(file_path, encoding='utf-8') as fh:\n",
    "        return fh.read()"
   ]
  },
  {
   "cell_type": "code",
   "execution_count": 26,
   "metadata": {},
   "outputs": [
    {
     "name": "stderr",
     "output_type": "stream",
     "text": [
      "Parseando AST (vocab):  84%|████████▍ | 1291/1539 [00:08<00:01, 150.19it/s]"
     ]
    },
    {
     "name": "stdout",
     "output_type": "stream",
     "text": [
      "⚠️  AST skip conplag_version_2/versions\\version_2\\3d06b643_db7f80a5\\db7f80a5.java  ()\n"
     ]
    },
    {
     "name": "stderr",
     "output_type": "stream",
     "text": [
      "Parseando AST (vocab): 100%|██████████| 1539/1539 [00:09<00:00, 158.56it/s]\n"
     ]
    }
   ],
   "source": [
    "from pathlib import Path\n",
    "import re, javalang\n",
    "from javalang import tree as jt \n",
    "import numpy as np\n",
    "from simhash import Simhash\n",
    "from collections import Counter\n",
    "from tqdm import tqdm\n",
    "\n",
    "_token_pat = re.compile(r'[A-Za-z_]\\w+|\\d+|==|!=|<=|>=|&&|\\|\\||[^\\sA-Za-z0-9_]')\n",
    "\n",
    "# Funciones para calcular indices de similitud\n",
    "def clean_code(src:str)->str:\n",
    "    \"\"\"Quita comentarios y espacios redundantes.\"\"\"\n",
    "    src = re.sub(r'//.*?$|/\\*.*?\\*/', '', src, flags=re.S|re.M)  # comentarios\n",
    "    return '\\n'.join(line.strip() for line in src.splitlines() if line.strip())\n",
    "\n",
    "def text_features(src:str):\n",
    "    \"\"\"Devuelve (feature, weight) según frecuencia de cada token.\"\"\"\n",
    "    tokens = _token_pat.findall(clean_code(src))\n",
    "    freq   = Counter(tokens)\n",
    "    for tok, w in freq.items():\n",
    "        yield tok, w                    # Simhash ya interpreta peso\n",
    "\n",
    "def simhash_text(src:str)->Simhash:\n",
    "    return Simhash(list(text_features(src)))\n",
    "\n",
    "def text_similarity(code_a:str, code_b:str)->float:\n",
    "    h1, h2 = simhash_text(code_a), simhash_text(code_b)\n",
    "    return 1 - h1.distance(h2) / 64.0\n",
    "\n",
    "def walk_ast(node):\n",
    "    \"\"\"Genera features estructurales: tipo de nodo y arista padre→hijo.\"\"\"\n",
    "    yield node.__class__.__name__\n",
    "    for child in node.children:\n",
    "        if isinstance(child, list):\n",
    "            for g in child:\n",
    "                if isinstance(g, javalang.ast.Node):\n",
    "                    yield f'{node.__class__.__name__}->{g.__class__.__name__}'\n",
    "                    yield from walk_ast(g)\n",
    "        elif isinstance(child, javalang.ast.Node):\n",
    "            yield f'{node.__class__.__name__}->{child.__class__.__name__}'\n",
    "            yield from walk_ast(child)\n",
    "\n",
    "def simhash_ast(src:str)->Simhash:\n",
    "    ast   = javalang.parse.parse(src)\n",
    "    feats = list(walk_ast(ast))\n",
    "    return Simhash(feats)\n",
    "\n",
    "def ast_similarity(code_a:str, code_b:str)->float:\n",
    "    h1, h2 = simhash_ast(code_a), simhash_ast(code_b)\n",
    "    return 1 - h1.distance(h2) / 64.0\n",
    "\n",
    "# Funciones para crear cadena de Markov\n",
    "def iter_children(node):\n",
    "    \"\"\"\n",
    "    Devuelve todos los hijos que son Node, profundizando en listas/tuplas.\n",
    "    \"\"\"\n",
    "    for ch in node.children:\n",
    "        if isinstance(ch, jt.Node):\n",
    "            yield ch\n",
    "        elif isinstance(ch, (list, tuple)):\n",
    "            for g in ch:\n",
    "                if isinstance(g, jt.Node):\n",
    "                    yield g\n",
    "\n",
    "def ast_to_seq(node):\n",
    "    \"\"\"Recorrido pre-orden → lista de tipos de nodo.\"\"\"\n",
    "    seq, stack = [], [node]\n",
    "    while stack:\n",
    "        n = stack.pop()\n",
    "        seq.append(type(n).__name__)        # nombre de tipo\n",
    "        stack.extend(reversed(list(iter_children(n))))\n",
    "    return seq\n",
    "\n",
    "def build_vocab(ast_objs):\n",
    "    vocab = set()\n",
    "    for ast in ast_objs:\n",
    "        vocab.update(ast_to_seq(ast))\n",
    "    return {tok: i for i, tok in enumerate(sorted(vocab))}\n",
    "\n",
    "def transition_matrix(seq, vocab):\n",
    "    n  = len(vocab)\n",
    "    M  = [[0]*n for _ in range(n)]\n",
    "    idx = [vocab[t] for t in seq]\n",
    "    for i in range(len(idx)-1):\n",
    "        M[idx[i]][idx[i+1]] += 1\n",
    "    # normaliza fila a probas\n",
    "    for r in range(n):\n",
    "        s = sum(M[r])\n",
    "        if s: M[r] = [x/s for x in M[r]]\n",
    "    return M          # lista de listas flotantes\n",
    "\n",
    "SPACE = \" \"\n",
    "\n",
    "def mat_to_str(mat: np.ndarray) -> str:\n",
    "    \"\"\"Convierte matriz (2-D) en string una línea.\"\"\"\n",
    "    return SPACE.join(f\"{x:.6f}\" for x in mat.ravel())\n",
    "\n",
    "# Pre-parsing de códigos y calculo de las matrices de transición\n",
    "from functools import lru_cache\n",
    "\n",
    "@lru_cache(maxsize=None)\n",
    "def parse_ast(path:str):\n",
    "    code = Path(path).read_text(encoding='utf-8', errors='ignore')\n",
    "    return javalang.parse.parse(code)\n",
    "\n",
    "all_asts = []\n",
    "for info in tqdm(pairs_dict.values(), total=len(pairs_dict),\n",
    "                 desc=\"Parseando AST (vocab)\"):\n",
    "     # codigo 1\n",
    "    try:\n",
    "        all_asts.append(parse_ast(info[\"code1\"]))\n",
    "    except Exception as e:\n",
    "        print(f\"⚠️  AST skip {info['code1']}  ({e})\")\n",
    "\n",
    "    # codigo 2\n",
    "    try:\n",
    "        all_asts.append(parse_ast(info[\"code2\"]))\n",
    "    except Exception as e:\n",
    "        print(f\"⚠️  AST skip {info['code2']}  ({e})\")\n",
    "\n",
    "VOCAB = build_vocab(all_asts)"
   ]
  },
  {
   "cell_type": "code",
   "execution_count": null,
   "metadata": {},
   "outputs": [
    {
     "name": "stderr",
     "output_type": "stream",
     "text": [
      "Procesando pares:   4%|▍         | 62/1539 [00:00<00:05, 286.11it/s]"
     ]
    },
    {
     "name": "stdout",
     "output_type": "stream",
     "text": [
      "M1: 52 x 52 M2: 52 x 52\n",
      "M1: 52 x 52 M2: 52 x 52\n",
      "M1: 52 x 52 M2: 52 x 52\n",
      "M1: 52 x 52 M2: 52 x 52\n",
      "M1: 52 x 52 M2: 52 x 52\n",
      "M1: 52 x 52 M2: 52 x 52\n",
      "M1: 52 x 52 M2: 52 x 52\n",
      "M1: 52 x 52 M2: 52 x 52\n",
      "M1: 52 x 52 M2: 52 x 52\n",
      "M1: 52 x 52 M2: 52 x 52\n",
      "M1: 52 x 52 M2: 52 x 52\n",
      "M1: 52 x 52 M2: 52 x 52\n",
      "M1: 52 x 52 M2: 52 x 52\n",
      "M1: 52 x 52 M2: 52 x 52\n",
      "M1: 52 x 52 M2: 52 x 52\n",
      "M1: 52 x 52 M2: 52 x 52\n",
      "M1: 52 x 52 M2: 52 x 52\n",
      "M1: 52 x 52 M2: 52 x 52\n",
      "M1: 52 x 52 M2: 52 x 52\n",
      "M1: 52 x 52 M2: 52 x 52\n",
      "M1: 52 x 52 M2: 52 x 52\n",
      "M1: 52 x 52 M2: 52 x 52\n",
      "M1: 52 x 52 M2: 52 x 52\n",
      "M1: 52 x 52 M2: 52 x 52\n",
      "M1: 52 x 52 M2: 52 x 52\n",
      "M1: 52 x 52 M2: 52 x 52\n",
      "M1: 52 x 52 M2: 52 x 52\n",
      "M1: 52 x 52 M2: 52 x 52\n",
      "M1: 52 x 52 M2: 52 x 52\n",
      "M1: 52 x 52 M2: 52 x 52\n",
      "M1: 52 x 52 M2: 52 x 52\n",
      "M1: 52 x 52 M2: 52 x 52\n",
      "M1: 52 x 52 M2: 52 x 52\n",
      "M1: 52 x 52 M2: 52 x 52\n",
      "M1: 52 x 52 M2: 52 x 52\n",
      "M1: 52 x 52 M2: 52 x 52\n",
      "M1: 52 x 52 M2: 52 x 52\n",
      "M1: 52 x 52 M2: 52 x 52\n",
      "M1: 52 x 52 M2: 52 x 52\n",
      "M1: 52 x 52 M2: 52 x 52\n",
      "M1: 52 x 52 M2: 52 x 52\n",
      "M1: 52 x 52 M2: 52 x 52\n",
      "M1: 52 x 52 M2: 52 x 52\n",
      "M1: 52 x 52 M2: 52 x 52\n",
      "M1: 52 x 52 M2: 52 x 52\n",
      "M1: 52 x 52 M2: 52 x 52\n",
      "M1: 52 x 52 M2: 52 x 52\n",
      "M1: 52 x 52 M2: 52 x 52\n",
      "M1: 52 x 52 M2: 52 x 52\n",
      "M1: 52 x 52 M2: 52 x 52\n",
      "M1: 52 x 52 M2: 52 x 52\n",
      "M1: 52 x 52 M2: 52 x 52\n",
      "M1: 52 x 52 M2: 52 x 52\n",
      "M1: 52 x 52 M2: 52 x 52\n",
      "M1: 52 x 52 M2: 52 x 52\n",
      "M1: 52 x 52 M2: 52 x 52\n",
      "M1: 52 x 52 M2: 52 x 52\n",
      "M1: 52 x 52 M2: 52 x 52\n",
      "M1: 52 x 52 M2: 52 x 52\n",
      "M1: 52 x 52 M2: 52 x 52\n",
      "M1: 52 x 52 M2: 52 x 52\n",
      "M1: 52 x 52 M2: 52 x 52\n"
     ]
    },
    {
     "name": "stderr",
     "output_type": "stream",
     "text": [
      "Procesando pares:   6%|▌         | 91/1539 [00:00<00:06, 240.50it/s]"
     ]
    },
    {
     "name": "stdout",
     "output_type": "stream",
     "text": [
      "M1: 52 x 52 M2: 52 x 52\n",
      "M1: 52 x 52 M2: 52 x 52\n",
      "M1: 52 x 52 M2: 52 x 52\n",
      "M1: 52 x 52 M2: 52 x 52\n",
      "M1: 52 x 52 M2: 52 x 52\n",
      "M1: 52 x 52 M2: 52 x 52\n",
      "M1: 52 x 52 M2: 52 x 52\n",
      "M1: 52 x 52 M2: 52 x 52\n",
      "M1: 52 x 52 M2: 52 x 52\n",
      "M1: 52 x 52 M2: 52 x 52\n",
      "M1: 52 x 52 M2: 52 x 52\n",
      "M1: 52 x 52 M2: 52 x 52\n",
      "M1: 52 x 52 M2: 52 x 52\n",
      "M1: 52 x 52 M2: 52 x 52\n",
      "M1: 52 x 52 M2: 52 x 52\n",
      "M1: 52 x 52 M2: 52 x 52\n",
      "M1: 52 x 52 M2: 52 x 52\n",
      "M1: 52 x 52 M2: 52 x 52\n",
      "M1: 52 x 52 M2: 52 x 52\n",
      "M1: 52 x 52 M2: 52 x 52\n",
      "M1: 52 x 52 M2: 52 x 52\n",
      "M1: 52 x 52 M2: 52 x 52\n",
      "M1: 52 x 52 M2: 52 x 52\n",
      "M1: 52 x 52 M2: 52 x 52\n",
      "M1: 52 x 52 M2: 52 x 52\n",
      "M1: 52 x 52 M2: 52 x 52\n",
      "M1: 52 x 52 M2: 52 x 52\n",
      "M1: 52 x 52 M2: 52 x 52\n",
      "M1: 52 x 52 M2: 52 x 52\n",
      "M1: 52 x 52 M2: 52 x 52\n",
      "M1: 52 x 52 M2: 52 x 52\n",
      "M1: 52 x 52 M2: 52 x 52\n",
      "M1: 52 x 52 M2: 52 x 52\n",
      "M1: 52 x 52 M2: 52 x 52\n",
      "M1: 52 x 52 M2: 52 x 52\n",
      "M1: 52 x 52 M2: 52 x 52\n",
      "M1: 52 x 52 M2: 52 x 52\n",
      "M1: 52 x 52 M2: 52 x 52\n",
      "M1: 52 x 52 M2: 52 x 52\n"
     ]
    },
    {
     "name": "stderr",
     "output_type": "stream",
     "text": [
      "Procesando pares:   8%|▊         | 116/1539 [00:00<00:06, 229.04it/s]"
     ]
    },
    {
     "name": "stdout",
     "output_type": "stream",
     "text": [
      "M1: 52 x 52 M2: 52 x 52\n",
      "M1: 52 x 52 M2: 52 x 52\n",
      "M1: 52 x 52 M2: 52 x 52\n",
      "M1: 52 x 52 M2: 52 x 52\n",
      "M1: 52 x 52 M2: 52 x 52\n",
      "M1: 52 x 52 M2: 52 x 52\n",
      "M1: 52 x 52 M2: 52 x 52\n",
      "M1: 52 x 52 M2: 52 x 52\n",
      "M1: 52 x 52 M2: 52 x 52\n",
      "M1: 52 x 52 M2: 52 x 52\n",
      "M1: 52 x 52 M2: 52 x 52\n",
      "M1: 52 x 52 M2: 52 x 52\n",
      "M1: 52 x 52 M2: 52 x 52\n",
      "M1: 52 x 52 M2: 52 x 52\n",
      "M1: 52 x 52 M2: 52 x 52\n",
      "M1: 52 x 52 M2: 52 x 52\n",
      "M1: 52 x 52 M2: 52 x 52\n",
      "M1: 52 x 52 M2: 52 x 52\n",
      "M1: 52 x 52 M2: 52 x 52\n",
      "M1: 52 x 52 M2: 52 x 52\n",
      "M1: 52 x 52 M2: 52 x 52\n",
      "M1: 52 x 52 M2: 52 x 52\n",
      "M1: 52 x 52 M2: 52 x 52\n",
      "M1: 52 x 52 M2: 52 x 52\n",
      "M1: 52 x 52 M2: 52 x 52\n",
      "M1: 52 x 52 M2: 52 x 52\n",
      "M1: 52 x 52 M2: 52 x 52\n",
      "M1: 52 x 52 M2: 52 x 52\n",
      "M1: 52 x 52 M2: 52 x 52\n",
      "M1: 52 x 52 M2: 52 x 52\n",
      "M1: 52 x 52 M2: 52 x 52\n",
      "M1: 52 x 52 M2: 52 x 52\n",
      "M1: 52 x 52 M2: 52 x 52\n",
      "M1: 52 x 52 M2: 52 x 52\n",
      "M1: 52 x 52 M2: 52 x 52\n",
      "M1: 52 x 52 M2: 52 x 52\n",
      "M1: 52 x 52 M2: 52 x 52\n",
      "M1: 52 x 52 M2: 52 x 52\n"
     ]
    },
    {
     "name": "stderr",
     "output_type": "stream",
     "text": [
      "Procesando pares:  11%|█         | 162/1539 [00:00<00:07, 188.67it/s]"
     ]
    },
    {
     "name": "stdout",
     "output_type": "stream",
     "text": [
      "M1: 52 x 52 M2: 52 x 52\n",
      "M1: 52 x 52 M2: 52 x 52\n",
      "M1: 52 x 52 M2: 52 x 52\n",
      "M1: 52 x 52 M2: 52 x 52\n",
      "M1: 52 x 52 M2: 52 x 52\n",
      "M1: 52 x 52 M2: 52 x 52\n",
      "M1: 52 x 52 M2: 52 x 52\n",
      "M1: 52 x 52 M2: 52 x 52\n",
      "M1: 52 x 52 M2: 52 x 52\n",
      "M1: 52 x 52 M2: 52 x 52\n",
      "M1: 52 x 52 M2: 52 x 52\n",
      "M1: 52 x 52 M2: 52 x 52\n",
      "M1: 52 x 52 M2: 52 x 52\n",
      "M1: 52 x 52 M2: 52 x 52\n",
      "M1: 52 x 52 M2: 52 x 52\n",
      "M1: 52 x 52 M2: 52 x 52\n",
      "M1: 52 x 52 M2: 52 x 52\n",
      "M1: 52 x 52 M2: 52 x 52\n",
      "M1: 52 x 52 M2: 52 x 52\n",
      "M1: 52 x 52 M2: 52 x 52\n",
      "M1: 52 x 52 M2: 52 x 52\n",
      "M1: 52 x 52 M2: 52 x 52\n",
      "M1: 52 x 52 M2: 52 x 52\n",
      "M1: 52 x 52 M2: 52 x 52\n",
      "M1: 52 x 52 M2: 52 x 52\n",
      "M1: 52 x 52 M2: 52 x 52\n",
      "M1: 52 x 52 M2: 52 x 52\n",
      "M1: 52 x 52 M2: 52 x 52\n",
      "M1: 52 x 52 M2: 52 x 52\n",
      "M1: 52 x 52 M2: 52 x 52\n",
      "M1: 52 x 52 M2: 52 x 52\n",
      "M1: 52 x 52 M2: 52 x 52\n",
      "M1: 52 x 52 M2: 52 x 52\n",
      "M1: 52 x 52 M2: 52 x 52\n"
     ]
    },
    {
     "name": "stderr",
     "output_type": "stream",
     "text": [
      "Procesando pares:  13%|█▎        | 200/1539 [00:00<00:07, 175.60it/s]"
     ]
    },
    {
     "name": "stdout",
     "output_type": "stream",
     "text": [
      "M1: 52 x 52 M2: 52 x 52\n",
      "M1: 52 x 52 M2: 52 x 52\n",
      "M1: 52 x 52 M2: 52 x 52\n",
      "M1: 52 x 52 M2: 52 x 52\n",
      "M1: 52 x 52 M2: 52 x 52\n",
      "M1: 52 x 52 M2: 52 x 52\n",
      "M1: 52 x 52 M2: 52 x 52\n",
      "M1: 52 x 52 M2: 52 x 52\n",
      "M1: 52 x 52 M2: 52 x 52\n",
      "M1: 52 x 52 M2: 52 x 52\n",
      "M1: 52 x 52 M2: 52 x 52\n",
      "M1: 52 x 52 M2: 52 x 52\n",
      "M1: 52 x 52 M2: 52 x 52\n",
      "M1: 52 x 52 M2: 52 x 52\n",
      "M1: 52 x 52 M2: 52 x 52\n",
      "M1: 52 x 52 M2: 52 x 52\n",
      "M1: 52 x 52 M2: 52 x 52\n",
      "M1: 52 x 52 M2: 52 x 52\n",
      "M1: 52 x 52 M2: 52 x 52\n",
      "M1: 52 x 52 M2: 52 x 52\n",
      "M1: 52 x 52 M2: 52 x 52\n",
      "M1: 52 x 52 M2: 52 x 52\n",
      "M1: 52 x 52 M2: 52 x 52\n",
      "M1: 52 x 52 M2: 52 x 52\n",
      "M1: 52 x 52 M2: 52 x 52\n",
      "M1: 52 x 52 M2: 52 x 52\n",
      "M1: 52 x 52 M2: 52 x 52\n",
      "M1: 52 x 52 M2: 52 x 52\n",
      "M1: 52 x 52 M2: 52 x 52\n",
      "M1: 52 x 52 M2: 52 x 52\n",
      "M1: 52 x 52 M2: 52 x 52\n",
      "M1: 52 x 52 M2: 52 x 52\n",
      "M1: 52 x 52 M2: 52 x 52\n",
      "M1: 52 x 52 M2: 52 x 52\n",
      "M1: 52 x 52 M2: 52 x 52\n",
      "M1: 52 x 52 M2: 52 x 52\n",
      "M1: 52 x 52 M2: 52 x 52\n",
      "M1: 52 x 52 M2: 52 x 52\n",
      "M1: 52 x 52 M2: 52 x 52\n",
      "M1: 52 x 52 M2: 52 x 52\n"
     ]
    },
    {
     "name": "stderr",
     "output_type": "stream",
     "text": [
      "Procesando pares:  16%|█▌        | 246/1539 [00:01<00:06, 197.88it/s]"
     ]
    },
    {
     "name": "stdout",
     "output_type": "stream",
     "text": [
      "M1: 52 x 52 M2: 52 x 52\n",
      "M1: 52 x 52 M2: 52 x 52\n",
      "M1: 52 x 52 M2: 52 x 52\n",
      "M1: 52 x 52 M2: 52 x 52\n",
      "M1: 52 x 52 M2: 52 x 52\n",
      "M1: 52 x 52 M2: 52 x 52\n",
      "M1: 52 x 52 M2: 52 x 52\n",
      "M1: 52 x 52 M2: 52 x 52\n",
      "M1: 52 x 52 M2: 52 x 52\n",
      "M1: 52 x 52 M2: 52 x 52\n",
      "M1: 52 x 52 M2: 52 x 52\n",
      "M1: 52 x 52 M2: 52 x 52\n",
      "M1: 52 x 52 M2: 52 x 52\n",
      "M1: 52 x 52 M2: 52 x 52\n",
      "M1: 52 x 52 M2: 52 x 52\n",
      "M1: 52 x 52 M2: 52 x 52\n",
      "M1: 52 x 52 M2: 52 x 52\n",
      "M1: 52 x 52 M2: 52 x 52\n",
      "M1: 52 x 52 M2: 52 x 52\n",
      "M1: 52 x 52 M2: 52 x 52\n",
      "M1: 52 x 52 M2: 52 x 52\n",
      "M1: 52 x 52 M2: 52 x 52\n",
      "M1: 52 x 52 M2: 52 x 52\n",
      "M1: 52 x 52 M2: 52 x 52\n",
      "M1: 52 x 52 M2: 52 x 52\n",
      "M1: 52 x 52 M2: 52 x 52\n",
      "M1: 52 x 52 M2: 52 x 52\n",
      "M1: 52 x 52 M2: 52 x 52\n",
      "M1: 52 x 52 M2: 52 x 52\n",
      "M1: 52 x 52 M2: 52 x 52\n",
      "M1: 52 x 52 M2: 52 x 52\n",
      "M1: 52 x 52 M2: 52 x 52\n",
      "M1: 52 x 52 M2: 52 x 52\n",
      "M1: 52 x 52 M2: 52 x 52\n",
      "M1: 52 x 52 M2: 52 x 52\n",
      "M1: 52 x 52 M2: 52 x 52\n",
      "M1: 52 x 52 M2: 52 x 52\n",
      "M1: 52 x 52 M2: 52 x 52\n",
      "M1: 52 x 52 M2: 52 x 52\n",
      "M1: 52 x 52 M2: 52 x 52\n",
      "M1: 52 x 52 M2: 52 x 52\n",
      "M1: 52 x 52 M2: 52 x 52\n",
      "M1: 52 x 52 M2: 52 x 52\n",
      "M1: 52 x 52 M2: 52 x 52\n"
     ]
    },
    {
     "name": "stderr",
     "output_type": "stream",
     "text": [
      "Procesando pares:  19%|█▊        | 287/1539 [00:01<00:06, 196.27it/s]"
     ]
    },
    {
     "name": "stdout",
     "output_type": "stream",
     "text": [
      "M1: 52 x 52 M2: 52 x 52\n",
      "M1: 52 x 52 M2: 52 x 52\n",
      "M1: 52 x 52 M2: 52 x 52\n",
      "M1: 52 x 52 M2: 52 x 52\n",
      "M1: 52 x 52 M2: 52 x 52\n",
      "M1: 52 x 52 M2: 52 x 52\n",
      "M1: 52 x 52 M2: 52 x 52\n",
      "M1: 52 x 52 M2: 52 x 52\n",
      "M1: 52 x 52 M2: 52 x 52\n",
      "M1: 52 x 52 M2: 52 x 52\n",
      "M1: 52 x 52 M2: 52 x 52\n",
      "M1: 52 x 52 M2: 52 x 52\n",
      "M1: 52 x 52 M2: 52 x 52\n",
      "M1: 52 x 52 M2: 52 x 52\n",
      "M1: 52 x 52 M2: 52 x 52\n",
      "M1: 52 x 52 M2: 52 x 52\n",
      "M1: 52 x 52 M2: 52 x 52\n",
      "M1: 52 x 52 M2: 52 x 52\n",
      "M1: 52 x 52 M2: 52 x 52\n",
      "M1: 52 x 52 M2: 52 x 52\n",
      "M1: 52 x 52 M2: 52 x 52\n",
      "M1: 52 x 52 M2: 52 x 52\n",
      "M1: 52 x 52 M2: 52 x 52\n",
      "M1: 52 x 52 M2: 52 x 52\n",
      "M1: 52 x 52 M2: 52 x 52\n",
      "M1: 52 x 52 M2: 52 x 52\n",
      "M1: 52 x 52 M2: 52 x 52\n",
      "M1: 52 x 52 M2: 52 x 52\n",
      "M1: 52 x 52 M2: 52 x 52\n",
      "M1: 52 x 52 M2: 52 x 52\n",
      "M1: 52 x 52 M2: 52 x 52\n",
      "M1: 52 x 52 M2: 52 x 52\n",
      "M1: 52 x 52 M2: 52 x 52\n",
      "M1: 52 x 52 M2: 52 x 52\n",
      "M1: 52 x 52 M2: 52 x 52\n",
      "M1: 52 x 52 M2: 52 x 52\n",
      "M1: 52 x 52 M2: 52 x 52\n",
      "M1: 52 x 52 M2: 52 x 52\n",
      "M1: 52 x 52 M2: 52 x 52\n",
      "M1: 52 x 52 M2: 52 x 52\n",
      "M1: 52 x 52 M2: 52 x 52\n"
     ]
    },
    {
     "name": "stderr",
     "output_type": "stream",
     "text": [
      "Procesando pares:  21%|██        | 327/1539 [00:01<00:06, 194.25it/s]"
     ]
    },
    {
     "name": "stdout",
     "output_type": "stream",
     "text": [
      "M1: 52 x 52 M2: 52 x 52\n",
      "M1: 52 x 52 M2: 52 x 52\n",
      "M1: 52 x 52 M2: 52 x 52\n",
      "M1: 52 x 52 M2: 52 x 52\n",
      "M1: 52 x 52 M2: 52 x 52\n",
      "M1: 52 x 52 M2: 52 x 52\n",
      "M1: 52 x 52 M2: 52 x 52\n",
      "M1: 52 x 52 M2: 52 x 52\n",
      "M1: 52 x 52 M2: 52 x 52\n",
      "M1: 52 x 52 M2: 52 x 52\n",
      "M1: 52 x 52 M2: 52 x 52\n",
      "M1: 52 x 52 M2: 52 x 52\n",
      "M1: 52 x 52 M2: 52 x 52\n",
      "M1: 52 x 52 M2: 52 x 52\n",
      "M1: 52 x 52 M2: 52 x 52\n",
      "M1: 52 x 52 M2: 52 x 52\n",
      "M1: 52 x 52 M2: 52 x 52\n",
      "M1: 52 x 52 M2: 52 x 52\n",
      "M1: 52 x 52 M2: 52 x 52\n",
      "M1: 52 x 52 M2: 52 x 52\n",
      "M1: 52 x 52 M2: 52 x 52\n",
      "M1: 52 x 52 M2: 52 x 52\n",
      "M1: 52 x 52 M2: 52 x 52\n",
      "M1: 52 x 52 M2: 52 x 52\n",
      "M1: 52 x 52 M2: 52 x 52\n",
      "M1: 52 x 52 M2: 52 x 52\n",
      "M1: 52 x 52 M2: 52 x 52\n",
      "M1: 52 x 52 M2: 52 x 52\n",
      "M1: 52 x 52 M2: 52 x 52\n",
      "M1: 52 x 52 M2: 52 x 52\n",
      "M1: 52 x 52 M2: 52 x 52\n",
      "M1: 52 x 52 M2: 52 x 52\n",
      "M1: 52 x 52 M2: 52 x 52\n",
      "M1: 52 x 52 M2: 52 x 52\n",
      "M1: 52 x 52 M2: 52 x 52\n",
      "M1: 52 x 52 M2: 52 x 52\n",
      "M1: 52 x 52 M2: 52 x 52\n",
      "M1: 52 x 52 M2: 52 x 52\n",
      "M1: 52 x 52 M2: 52 x 52\n",
      "M1: 52 x 52 M2: 52 x 52\n",
      "M1: 52 x 52 M2: 52 x 52\n"
     ]
    },
    {
     "name": "stderr",
     "output_type": "stream",
     "text": [
      "Procesando pares:  24%|██▍       | 367/1539 [00:01<00:06, 192.23it/s]"
     ]
    },
    {
     "name": "stdout",
     "output_type": "stream",
     "text": [
      "M1: 52 x 52 M2: 52 x 52\n",
      "M1: 52 x 52 M2: 52 x 52\n",
      "M1: 52 x 52 M2: 52 x 52\n",
      "M1: 52 x 52 M2: 52 x 52\n",
      "M1: 52 x 52 M2: 52 x 52\n",
      "M1: 52 x 52 M2: 52 x 52\n",
      "M1: 52 x 52 M2: 52 x 52\n",
      "M1: 52 x 52 M2: 52 x 52\n",
      "M1: 52 x 52 M2: 52 x 52\n",
      "M1: 52 x 52 M2: 52 x 52\n",
      "M1: 52 x 52 M2: 52 x 52\n",
      "M1: 52 x 52 M2: 52 x 52\n",
      "M1: 52 x 52 M2: 52 x 52\n",
      "M1: 52 x 52 M2: 52 x 52\n",
      "M1: 52 x 52 M2: 52 x 52\n",
      "M1: 52 x 52 M2: 52 x 52\n",
      "M1: 52 x 52 M2: 52 x 52\n",
      "M1: 52 x 52 M2: 52 x 52\n",
      "M1: 52 x 52 M2: 52 x 52\n",
      "M1: 52 x 52 M2: 52 x 52\n",
      "M1: 52 x 52 M2: 52 x 52\n",
      "M1: 52 x 52 M2: 52 x 52\n",
      "M1: 52 x 52 M2: 52 x 52\n",
      "M1: 52 x 52 M2: 52 x 52\n",
      "M1: 52 x 52 M2: 52 x 52\n",
      "M1: 52 x 52 M2: 52 x 52\n",
      "M1: 52 x 52 M2: 52 x 52\n",
      "M1: 52 x 52 M2: 52 x 52\n",
      "M1: 52 x 52 M2: 52 x 52\n",
      "M1: 52 x 52 M2: 52 x 52\n",
      "M1: 52 x 52 M2: 52 x 52\n",
      "M1: 52 x 52 M2: 52 x 52\n",
      "M1: 52 x 52 M2: 52 x 52\n",
      "M1: 52 x 52 M2: 52 x 52\n",
      "M1: 52 x 52 M2: 52 x 52\n",
      "M1: 52 x 52 M2: 52 x 52\n",
      "M1: 52 x 52 M2: 52 x 52\n",
      "M1: 52 x 52 M2: 52 x 52\n",
      "M1: 52 x 52 M2: 52 x 52\n",
      "M1: 52 x 52 M2: 52 x 52\n",
      "M1: 52 x 52 M2: 52 x 52\n",
      "M1: 52 x 52 M2: 52 x 52\n"
     ]
    },
    {
     "name": "stderr",
     "output_type": "stream",
     "text": [
      "Procesando pares:  26%|██▋       | 407/1539 [00:02<00:06, 186.93it/s]"
     ]
    },
    {
     "name": "stdout",
     "output_type": "stream",
     "text": [
      "M1: 52 x 52 M2: 52 x 52\n",
      "M1: 52 x 52 M2: 52 x 52\n",
      "M1: 52 x 52 M2: 52 x 52\n",
      "M1: 52 x 52 M2: 52 x 52\n",
      "M1: 52 x 52 M2: 52 x 52\n",
      "M1: 52 x 52 M2: 52 x 52\n",
      "M1: 52 x 52 M2: 52 x 52\n",
      "M1: 52 x 52 M2: 52 x 52\n",
      "M1: 52 x 52 M2: 52 x 52\n",
      "M1: 52 x 52 M2: 52 x 52\n",
      "M1: 52 x 52 M2: 52 x 52\n",
      "M1: 52 x 52 M2: 52 x 52\n",
      "M1: 52 x 52 M2: 52 x 52\n",
      "M1: 52 x 52 M2: 52 x 52\n",
      "M1: 52 x 52 M2: 52 x 52\n",
      "M1: 52 x 52 M2: 52 x 52\n",
      "M1: 52 x 52 M2: 52 x 52\n",
      "M1: 52 x 52 M2: 52 x 52\n",
      "M1: 52 x 52 M2: 52 x 52\n",
      "M1: 52 x 52 M2: 52 x 52\n",
      "M1: 52 x 52 M2: 52 x 52\n",
      "M1: 52 x 52 M2: 52 x 52\n",
      "M1: 52 x 52 M2: 52 x 52\n",
      "M1: 52 x 52 M2: 52 x 52\n",
      "M1: 52 x 52 M2: 52 x 52\n",
      "M1: 52 x 52 M2: 52 x 52\n",
      "M1: 52 x 52 M2: 52 x 52\n",
      "M1: 52 x 52 M2: 52 x 52\n",
      "M1: 52 x 52 M2: 52 x 52\n",
      "M1: 52 x 52 M2: 52 x 52\n",
      "M1: 52 x 52 M2: 52 x 52\n",
      "M1: 52 x 52 M2: 52 x 52\n",
      "M1: 52 x 52 M2: 52 x 52\n",
      "M1: 52 x 52 M2: 52 x 52\n",
      "M1: 52 x 52 M2: 52 x 52\n",
      "M1: 52 x 52 M2: 52 x 52\n",
      "M1: 52 x 52 M2: 52 x 52\n",
      "M1: 52 x 52 M2: 52 x 52\n"
     ]
    },
    {
     "name": "stderr",
     "output_type": "stream",
     "text": [
      "Procesando pares:  29%|██▉       | 445/1539 [00:02<00:06, 178.10it/s]"
     ]
    },
    {
     "name": "stdout",
     "output_type": "stream",
     "text": [
      "M1: 52 x 52 M2: 52 x 52\n",
      "M1: 52 x 52 M2: 52 x 52\n",
      "M1: 52 x 52 M2: 52 x 52\n",
      "M1: 52 x 52 M2: 52 x 52\n",
      "M1: 52 x 52 M2: 52 x 52\n",
      "M1: 52 x 52 M2: 52 x 52\n",
      "M1: 52 x 52 M2: 52 x 52\n",
      "M1: 52 x 52 M2: 52 x 52\n",
      "M1: 52 x 52 M2: 52 x 52\n",
      "M1: 52 x 52 M2: 52 x 52\n",
      "M1: 52 x 52 M2: 52 x 52\n",
      "M1: 52 x 52 M2: 52 x 52\n",
      "M1: 52 x 52 M2: 52 x 52\n",
      "M1: 52 x 52 M2: 52 x 52\n",
      "M1: 52 x 52 M2: 52 x 52\n",
      "M1: 52 x 52 M2: 52 x 52\n",
      "M1: 52 x 52 M2: 52 x 52\n",
      "M1: 52 x 52 M2: 52 x 52\n",
      "M1: 52 x 52 M2: 52 x 52\n",
      "M1: 52 x 52 M2: 52 x 52\n",
      "M1: 52 x 52 M2: 52 x 52\n",
      "M1: 52 x 52 M2: 52 x 52\n",
      "M1: 52 x 52 M2: 52 x 52\n",
      "M1: 52 x 52 M2: 52 x 52\n",
      "M1: 52 x 52 M2: 52 x 52\n",
      "M1: 52 x 52 M2: 52 x 52\n",
      "M1: 52 x 52 M2: 52 x 52\n",
      "M1: 52 x 52 M2: 52 x 52\n",
      "M1: 52 x 52 M2: 52 x 52\n",
      "M1: 52 x 52 M2: 52 x 52\n",
      "M1: 52 x 52 M2: 52 x 52\n",
      "M1: 52 x 52 M2: 52 x 52\n",
      "M1: 52 x 52 M2: 52 x 52\n",
      "M1: 52 x 52 M2: 52 x 52\n",
      "M1: 52 x 52 M2: 52 x 52\n",
      "M1: 52 x 52 M2: 52 x 52\n",
      "M1: 52 x 52 M2: 52 x 52\n"
     ]
    },
    {
     "name": "stderr",
     "output_type": "stream",
     "text": [
      "Procesando pares:  30%|███       | 463/1539 [00:02<00:06, 165.36it/s]"
     ]
    },
    {
     "name": "stdout",
     "output_type": "stream",
     "text": [
      "M1: 52 x 52 M2: 52 x 52\n",
      "M1: 52 x 52 M2: 52 x 52\n",
      "M1: 52 x 52 M2: 52 x 52\n",
      "M1: 52 x 52 M2: 52 x 52\n",
      "M1: 52 x 52 M2: 52 x 52\n",
      "M1: 52 x 52 M2: 52 x 52\n",
      "M1: 52 x 52 M2: 52 x 52\n",
      "M1: 52 x 52 M2: 52 x 52\n",
      "M1: 52 x 52 M2: 52 x 52\n",
      "M1: 52 x 52 M2: 52 x 52\n",
      "M1: 52 x 52 M2: 52 x 52\n",
      "M1: 52 x 52 M2: 52 x 52\n",
      "M1: 52 x 52 M2: 52 x 52\n",
      "M1: 52 x 52 M2: 52 x 52\n",
      "M1: 52 x 52 M2: 52 x 52\n",
      "M1: 52 x 52 M2: 52 x 52\n",
      "M1: 52 x 52 M2: 52 x 52\n",
      "M1: 52 x 52 M2: 52 x 52\n",
      "M1: 52 x 52 M2: 52 x 52\n",
      "M1: 52 x 52 M2: 52 x 52\n"
     ]
    },
    {
     "name": "stderr",
     "output_type": "stream",
     "text": [
      "Procesando pares:  31%|███       | 480/1539 [00:02<00:07, 133.05it/s]"
     ]
    },
    {
     "name": "stdout",
     "output_type": "stream",
     "text": [
      "M1: 52 x 52 M2: 52 x 52\n",
      "M1: 52 x 52 M2: 52 x 52\n",
      "M1: 52 x 52 M2: 52 x 52\n",
      "M1: 52 x 52 M2: 52 x 52\n",
      "M1: 52 x 52 M2: 52 x 52\n",
      "M1: 52 x 52 M2: 52 x 52\n",
      "M1: 52 x 52 M2: 52 x 52\n",
      "M1: 52 x 52 M2: 52 x 52\n",
      "M1: 52 x 52 M2: 52 x 52\n",
      "M1: 52 x 52 M2: 52 x 52\n",
      "M1: 52 x 52 M2: 52 x 52\n",
      "M1: 52 x 52 M2: 52 x 52\n",
      "M1: 52 x 52 M2: 52 x 52\n",
      "M1: 52 x 52 M2: 52 x 52\n"
     ]
    },
    {
     "name": "stderr",
     "output_type": "stream",
     "text": [
      "Procesando pares:  32%|███▏      | 495/1539 [00:02<00:09, 105.57it/s]"
     ]
    },
    {
     "name": "stdout",
     "output_type": "stream",
     "text": [
      "M1: 52 x 52 M2: 52 x 52\n",
      "M1: 52 x 52 M2: 52 x 52\n",
      "M1: 52 x 52 M2: 52 x 52\n",
      "M1: 52 x 52 M2: 52 x 52\n",
      "M1: 52 x 52 M2: 52 x 52\n",
      "M1: 52 x 52 M2: 52 x 52\n",
      "M1: 52 x 52 M2: 52 x 52\n",
      "M1: 52 x 52 M2: 52 x 52\n",
      "M1: 52 x 52 M2: 52 x 52\n",
      "M1: 52 x 52 M2: 52 x 52\n",
      "M1: 52 x 52 M2: 52 x 52\n",
      "M1: 52 x 52 M2: 52 x 52\n",
      "M1: 52 x 52 M2: 52 x 52\n",
      "M1: 52 x 52 M2: 52 x 52\n",
      "M1: 52 x 52 M2: 52 x 52\n",
      "M1: 52 x 52 M2: 52 x 52\n",
      "M1: 52 x 52 M2: 52 x 52\n"
     ]
    },
    {
     "name": "stderr",
     "output_type": "stream",
     "text": [
      "Procesando pares:  34%|███▎      | 519/1539 [00:03<00:11, 89.46it/s] "
     ]
    },
    {
     "name": "stdout",
     "output_type": "stream",
     "text": [
      "M1: 52 x 52 M2: 52 x 52\n",
      "M1: 52 x 52 M2: 52 x 52\n",
      "M1: 52 x 52 M2: 52 x 52\n",
      "M1: 52 x 52 M2: 52 x 52\n",
      "M1: 52 x 52 M2: 52 x 52\n",
      "M1: 52 x 52 M2: 52 x 52\n",
      "M1: 52 x 52 M2: 52 x 52\n",
      "M1: 52 x 52 M2: 52 x 52\n",
      "M1: 52 x 52 M2: 52 x 52\n",
      "M1: 52 x 52 M2: 52 x 52\n",
      "M1: 52 x 52 M2: 52 x 52\n",
      "M1: 52 x 52 M2: 52 x 52\n"
     ]
    },
    {
     "name": "stderr",
     "output_type": "stream",
     "text": [
      "Procesando pares:  35%|███▍      | 538/1539 [00:03<00:18, 53.30it/s]"
     ]
    },
    {
     "name": "stdout",
     "output_type": "stream",
     "text": [
      "M1: 52 x 52 M2: 52 x 52\n",
      "M1: 52 x 52 M2: 52 x 52\n",
      "M1: 52 x 52 M2: 52 x 52\n",
      "M1: 52 x 52 M2: 52 x 52\n",
      "M1: 52 x 52 M2: 52 x 52\n",
      "M1: 52 x 52 M2: 52 x 52\n",
      "M1: 52 x 52 M2: 52 x 52\n",
      "M1: 52 x 52 M2: 52 x 52\n",
      "M1: 52 x 52 M2: 52 x 52\n",
      "M1: 52 x 52 M2: 52 x 52\n",
      "M1: 52 x 52 M2: 52 x 52\n",
      "M1: 52 x 52 M2: 52 x 52\n",
      "M1: 52 x 52 M2: 52 x 52\n",
      "M1: 52 x 52 M2: 52 x 52\n",
      "M1: 52 x 52 M2: 52 x 52\n",
      "M1: 52 x 52 M2: 52 x 52\n",
      "M1: 52 x 52 M2: 52 x 52\n",
      "M1: 52 x 52 M2: 52 x 52\n",
      "M1: 52 x 52 M2: 52 x 52\n"
     ]
    },
    {
     "name": "stderr",
     "output_type": "stream",
     "text": [
      "Procesando pares:  35%|███▌      | 546/1539 [00:03<00:17, 56.58it/s]"
     ]
    },
    {
     "name": "stdout",
     "output_type": "stream",
     "text": [
      "M1: 52 x 52 M2: 52 x 52\n",
      "M1: 52 x 52 M2: 52 x 52\n",
      "M1: 52 x 52 M2: 52 x 52\n",
      "M1: 52 x 52 M2: 52 x 52\n",
      "M1: 52 x 52 M2: 52 x 52\n",
      "M1: 52 x 52 M2: 52 x 52\n",
      "M1: 52 x 52 M2: 52 x 52\n",
      "M1: 52 x 52 M2: 52 x 52\n",
      "M1: 52 x 52 M2: 52 x 52\n",
      "M1: 52 x 52 M2: 52 x 52\n",
      "M1: 52 x 52 M2: 52 x 52\n",
      "M1: 52 x 52 M2: 52 x 52\n",
      "M1: 52 x 52 M2: 52 x 52\n",
      "M1: 52 x 52 M2: 52 x 52\n",
      "M1: 52 x 52 M2: 52 x 52\n"
     ]
    },
    {
     "name": "stderr",
     "output_type": "stream",
     "text": [
      "Procesando pares:  37%|███▋      | 571/1539 [00:04<00:14, 67.36it/s]"
     ]
    },
    {
     "name": "stdout",
     "output_type": "stream",
     "text": [
      "M1: 52 x 52 M2: 52 x 52\n",
      "M1: 52 x 52 M2: 52 x 52\n",
      "M1: 52 x 52 M2: 52 x 52\n",
      "M1: 52 x 52 M2: 52 x 52\n",
      "M1: 52 x 52 M2: 52 x 52\n",
      "M1: 52 x 52 M2: 52 x 52\n",
      "M1: 52 x 52 M2: 52 x 52\n",
      "M1: 52 x 52 M2: 52 x 52\n",
      "M1: 52 x 52 M2: 52 x 52\n",
      "M1: 52 x 52 M2: 52 x 52\n",
      "M1: 52 x 52 M2: 52 x 52\n",
      "M1: 52 x 52 M2: 52 x 52\n",
      "M1: 52 x 52 M2: 52 x 52\n",
      "M1: 52 x 52 M2: 52 x 52\n",
      "M1: 52 x 52 M2: 52 x 52\n",
      "M1: 52 x 52 M2: 52 x 52\n",
      "M1: 52 x 52 M2: 52 x 52\n",
      "M1: 52 x 52 M2: 52 x 52\n"
     ]
    },
    {
     "name": "stderr",
     "output_type": "stream",
     "text": [
      "Procesando pares:  38%|███▊      | 590/1539 [00:04<00:12, 77.82it/s]"
     ]
    },
    {
     "name": "stdout",
     "output_type": "stream",
     "text": [
      "M1: 52 x 52 M2: 52 x 52\n",
      "M1: 52 x 52 M2: 52 x 52\n",
      "M1: 52 x 52 M2: 52 x 52\n",
      "M1: 52 x 52 M2: 52 x 52\n",
      "M1: 52 x 52 M2: 52 x 52\n",
      "M1: 52 x 52 M2: 52 x 52\n",
      "M1: 52 x 52 M2: 52 x 52\n",
      "M1: 52 x 52 M2: 52 x 52\n",
      "M1: 52 x 52 M2: 52 x 52\n",
      "M1: 52 x 52 M2: 52 x 52\n",
      "M1: 52 x 52 M2: 52 x 52\n",
      "M1: 52 x 52 M2: 52 x 52\n",
      "M1: 52 x 52 M2: 52 x 52\n",
      "M1: 52 x 52 M2: 52 x 52\n",
      "M1: 52 x 52 M2: 52 x 52\n",
      "M1: 52 x 52 M2: 52 x 52\n",
      "M1: 52 x 52 M2: 52 x 52\n",
      "M1: 52 x 52 M2: 52 x 52\n",
      "M1: 52 x 52 M2: 52 x 52\n"
     ]
    },
    {
     "name": "stderr",
     "output_type": "stream",
     "text": [
      "Procesando pares:  39%|███▉      | 599/1539 [00:04<00:11, 79.06it/s]"
     ]
    },
    {
     "name": "stdout",
     "output_type": "stream",
     "text": [
      "M1: 52 x 52 M2: 52 x 52\n",
      "M1: 52 x 52 M2: 52 x 52\n",
      "M1: 52 x 52 M2: 52 x 52\n",
      "M1: 52 x 52 M2: 52 x 52\n",
      "M1: 52 x 52 M2: 52 x 52\n",
      "M1: 52 x 52 M2: 52 x 52\n",
      "M1: 52 x 52 M2: 52 x 52\n",
      "M1: 52 x 52 M2: 52 x 52\n",
      "M1: 52 x 52 M2: 52 x 52\n",
      "M1: 52 x 52 M2: 52 x 52\n",
      "M1: 52 x 52 M2: 52 x 52\n",
      "M1: 52 x 52 M2: 52 x 52\n",
      "M1: 52 x 52 M2: 52 x 52\n",
      "M1: 52 x 52 M2: 52 x 52\n",
      "M1: 52 x 52 M2: 52 x 52\n",
      "M1: 52 x 52 M2: 52 x 52\n",
      "M1: 52 x 52 M2: 52 x 52\n"
     ]
    },
    {
     "name": "stderr",
     "output_type": "stream",
     "text": [
      "Procesando pares:  40%|████      | 617/1539 [00:04<00:11, 78.41it/s]"
     ]
    },
    {
     "name": "stdout",
     "output_type": "stream",
     "text": [
      "M1: 52 x 52 M2: 52 x 52\n",
      "M1: 52 x 52 M2: 52 x 52\n",
      "M1: 52 x 52 M2: 52 x 52\n",
      "M1: 52 x 52 M2: 52 x 52\n",
      "M1: 52 x 52 M2: 52 x 52\n",
      "M1: 52 x 52 M2: 52 x 52\n",
      "M1: 52 x 52 M2: 52 x 52\n",
      "M1: 52 x 52 M2: 52 x 52\n",
      "M1: 52 x 52 M2: 52 x 52\n",
      "M1: 52 x 52 M2: 52 x 52\n",
      "M1: 52 x 52 M2: 52 x 52\n",
      "M1: 52 x 52 M2: 52 x 52\n",
      "M1: 52 x 52 M2: 52 x 52\n",
      "M1: 52 x 52 M2: 52 x 52\n",
      "M1: 52 x 52 M2: 52 x 52\n",
      "M1: 52 x 52 M2: 52 x 52\n",
      "M1: 52 x 52 M2: 52 x 52\n",
      "M1: 52 x 52 M2: 52 x 52\n",
      "M1: 52 x 52 M2: 52 x 52\n"
     ]
    },
    {
     "name": "stderr",
     "output_type": "stream",
     "text": [
      "Procesando pares:  41%|████▏     | 636/1539 [00:04<00:10, 82.57it/s]"
     ]
    },
    {
     "name": "stdout",
     "output_type": "stream",
     "text": [
      "M1: 52 x 52 M2: 52 x 52\n",
      "M1: 52 x 52 M2: 52 x 52\n",
      "M1: 52 x 52 M2: 52 x 52\n",
      "M1: 52 x 52 M2: 52 x 52\n",
      "M1: 52 x 52 M2: 52 x 52\n",
      "M1: 52 x 52 M2: 52 x 52\n",
      "M1: 52 x 52 M2: 52 x 52\n",
      "M1: 52 x 52 M2: 52 x 52\n",
      "M1: 52 x 52 M2: 52 x 52\n",
      "M1: 52 x 52 M2: 52 x 52\n",
      "M1: 52 x 52 M2: 52 x 52\n",
      "M1: 52 x 52 M2: 52 x 52\n",
      "M1: 52 x 52 M2: 52 x 52\n",
      "M1: 52 x 52 M2: 52 x 52\n",
      "M1: 52 x 52 M2: 52 x 52\n",
      "M1: 52 x 52 M2: 52 x 52\n",
      "M1: 52 x 52 M2: 52 x 52\n"
     ]
    },
    {
     "name": "stderr",
     "output_type": "stream",
     "text": [
      "Procesando pares:  42%|████▏     | 654/1539 [00:05<00:10, 84.35it/s]"
     ]
    },
    {
     "name": "stdout",
     "output_type": "stream",
     "text": [
      "M1: 52 x 52 M2: 52 x 52\n",
      "M1: 52 x 52 M2: 52 x 52\n",
      "M1: 52 x 52 M2: 52 x 52\n",
      "M1: 52 x 52 M2: 52 x 52\n",
      "M1: 52 x 52 M2: 52 x 52\n",
      "M1: 52 x 52 M2: 52 x 52\n",
      "M1: 52 x 52 M2: 52 x 52\n",
      "M1: 52 x 52 M2: 52 x 52\n",
      "M1: 52 x 52 M2: 52 x 52\n",
      "M1: 52 x 52 M2: 52 x 52\n",
      "M1: 52 x 52 M2: 52 x 52\n",
      "M1: 52 x 52 M2: 52 x 52\n",
      "M1: 52 x 52 M2: 52 x 52\n",
      "M1: 52 x 52 M2: 52 x 52\n",
      "M1: 52 x 52 M2: 52 x 52\n",
      "M1: 52 x 52 M2: 52 x 52\n",
      "M1: 52 x 52 M2: 52 x 52\n",
      "M1: 52 x 52 M2: 52 x 52\n"
     ]
    },
    {
     "name": "stderr",
     "output_type": "stream",
     "text": [
      "Procesando pares:  44%|████▎     | 672/1539 [00:05<00:10, 83.24it/s]"
     ]
    },
    {
     "name": "stdout",
     "output_type": "stream",
     "text": [
      "M1: 52 x 52 M2: 52 x 52\n",
      "M1: 52 x 52 M2: 52 x 52\n",
      "M1: 52 x 52 M2: 52 x 52\n",
      "M1: 52 x 52 M2: 52 x 52\n",
      "M1: 52 x 52 M2: 52 x 52\n",
      "M1: 52 x 52 M2: 52 x 52\n",
      "M1: 52 x 52 M2: 52 x 52\n",
      "M1: 52 x 52 M2: 52 x 52\n",
      "M1: 52 x 52 M2: 52 x 52\n",
      "M1: 52 x 52 M2: 52 x 52\n",
      "M1: 52 x 52 M2: 52 x 52\n",
      "M1: 52 x 52 M2: 52 x 52\n",
      "M1: 52 x 52 M2: 52 x 52\n",
      "M1: 52 x 52 M2: 52 x 52\n",
      "M1: 52 x 52 M2: 52 x 52\n",
      "M1: 52 x 52 M2: 52 x 52\n",
      "M1: 52 x 52 M2: 52 x 52\n"
     ]
    },
    {
     "name": "stderr",
     "output_type": "stream",
     "text": [
      "Procesando pares:  45%|████▍     | 690/1539 [00:05<00:10, 81.56it/s]"
     ]
    },
    {
     "name": "stdout",
     "output_type": "stream",
     "text": [
      "M1: 52 x 52 M2: 52 x 52\n",
      "M1: 52 x 52 M2: 52 x 52\n",
      "M1: 52 x 52 M2: 52 x 52\n",
      "M1: 52 x 52 M2: 52 x 52\n",
      "M1: 52 x 52 M2: 52 x 52\n",
      "M1: 52 x 52 M2: 52 x 52\n",
      "M1: 52 x 52 M2: 52 x 52\n",
      "M1: 52 x 52 M2: 52 x 52\n",
      "M1: 52 x 52 M2: 52 x 52\n",
      "M1: 52 x 52 M2: 52 x 52\n",
      "M1: 52 x 52 M2: 52 x 52\n",
      "M1: 52 x 52 M2: 52 x 52\n",
      "M1: 52 x 52 M2: 52 x 52\n",
      "M1: 52 x 52 M2: 52 x 52\n",
      "M1: 52 x 52 M2: 52 x 52\n",
      "M1: 52 x 52 M2: 52 x 52\n",
      "M1: 52 x 52 M2: 52 x 52\n",
      "M1: 52 x 52 M2: 52 x 52\n"
     ]
    },
    {
     "name": "stderr",
     "output_type": "stream",
     "text": [
      "Procesando pares:  46%|████▌     | 708/1539 [00:05<00:10, 78.60it/s]"
     ]
    },
    {
     "name": "stdout",
     "output_type": "stream",
     "text": [
      "M1: 52 x 52 M2: 52 x 52\n",
      "M1: 52 x 52 M2: 52 x 52\n",
      "M1: 52 x 52 M2: 52 x 52\n",
      "M1: 52 x 52 M2: 52 x 52\n",
      "M1: 52 x 52 M2: 52 x 52\n",
      "M1: 52 x 52 M2: 52 x 52\n",
      "M1: 52 x 52 M2: 52 x 52\n",
      "M1: 52 x 52 M2: 52 x 52\n",
      "M1: 52 x 52 M2: 52 x 52\n",
      "M1: 52 x 52 M2: 52 x 52\n",
      "M1: 52 x 52 M2: 52 x 52\n",
      "M1: 52 x 52 M2: 52 x 52\n",
      "M1: 52 x 52 M2: 52 x 52\n",
      "M1: 52 x 52 M2: 52 x 52\n",
      "M1: 52 x 52 M2: 52 x 52\n",
      "M1: 52 x 52 M2: 52 x 52\n"
     ]
    },
    {
     "name": "stderr",
     "output_type": "stream",
     "text": [
      "Procesando pares:  47%|████▋     | 724/1539 [00:06<00:10, 78.53it/s]"
     ]
    },
    {
     "name": "stdout",
     "output_type": "stream",
     "text": [
      "M1: 52 x 52 M2: 52 x 52\n",
      "M1: 52 x 52 M2: 52 x 52\n",
      "M1: 52 x 52 M2: 52 x 52\n",
      "M1: 52 x 52 M2: 52 x 52\n",
      "M1: 52 x 52 M2: 52 x 52\n",
      "M1: 52 x 52 M2: 52 x 52\n",
      "M1: 52 x 52 M2: 52 x 52\n",
      "M1: 52 x 52 M2: 52 x 52\n",
      "M1: 52 x 52 M2: 52 x 52\n",
      "M1: 52 x 52 M2: 52 x 52\n",
      "M1: 52 x 52 M2: 52 x 52\n",
      "M1: 52 x 52 M2: 52 x 52\n",
      "M1: 52 x 52 M2: 52 x 52\n",
      "M1: 52 x 52 M2: 52 x 52\n",
      "M1: 52 x 52 M2: 52 x 52\n",
      "M1: 52 x 52 M2: 52 x 52\n",
      "M1: 52 x 52 M2: 52 x 52\n",
      "M1: 52 x 52 M2: 52 x 52\n"
     ]
    },
    {
     "name": "stderr",
     "output_type": "stream",
     "text": [
      "Procesando pares:  48%|████▊     | 742/1539 [00:06<00:09, 81.36it/s]"
     ]
    },
    {
     "name": "stdout",
     "output_type": "stream",
     "text": [
      "M1: 52 x 52 M2: 52 x 52\n",
      "M1: 52 x 52 M2: 52 x 52\n",
      "M1: 52 x 52 M2: 52 x 52\n",
      "M1: 52 x 52 M2: 52 x 52\n",
      "M1: 52 x 52 M2: 52 x 52\n",
      "M1: 52 x 52 M2: 52 x 52\n",
      "M1: 52 x 52 M2: 52 x 52\n",
      "M1: 52 x 52 M2: 52 x 52\n",
      "M1: 52 x 52 M2: 52 x 52\n",
      "M1: 52 x 52 M2: 52 x 52\n",
      "M1: 52 x 52 M2: 52 x 52\n",
      "M1: 52 x 52 M2: 52 x 52\n",
      "M1: 52 x 52 M2: 52 x 52\n",
      "M1: 52 x 52 M2: 52 x 52\n",
      "M1: 52 x 52 M2: 52 x 52\n",
      "M1: 52 x 52 M2: 52 x 52\n",
      "M1: 52 x 52 M2: 52 x 52\n"
     ]
    },
    {
     "name": "stderr",
     "output_type": "stream",
     "text": [
      "Procesando pares:  49%|████▉     | 759/1539 [00:06<00:09, 78.44it/s]"
     ]
    },
    {
     "name": "stdout",
     "output_type": "stream",
     "text": [
      "M1: 52 x 52 M2: 52 x 52\n",
      "M1: 52 x 52 M2: 52 x 52\n",
      "M1: 52 x 52 M2: 52 x 52\n",
      "M1: 52 x 52 M2: 52 x 52\n",
      "M1: 52 x 52 M2: 52 x 52\n",
      "M1: 52 x 52 M2: 52 x 52\n",
      "M1: 52 x 52 M2: 52 x 52\n",
      "M1: 52 x 52 M2: 52 x 52\n",
      "M1: 52 x 52 M2: 52 x 52\n",
      "M1: 52 x 52 M2: 52 x 52\n",
      "M1: 52 x 52 M2: 52 x 52\n",
      "M1: 52 x 52 M2: 52 x 52\n",
      "M1: 52 x 52 M2: 52 x 52\n",
      "M1: 52 x 52 M2: 52 x 52\n",
      "M1: 52 x 52 M2: 52 x 52\n",
      "M1: 52 x 52 M2: 52 x 52\n"
     ]
    },
    {
     "name": "stderr",
     "output_type": "stream",
     "text": [
      "Procesando pares:  50%|█████     | 775/1539 [00:06<00:10, 74.64it/s]"
     ]
    },
    {
     "name": "stdout",
     "output_type": "stream",
     "text": [
      "M1: 52 x 52 M2: 52 x 52\n",
      "M1: 52 x 52 M2: 52 x 52\n",
      "M1: 52 x 52 M2: 52 x 52\n",
      "M1: 52 x 52 M2: 52 x 52\n",
      "M1: 52 x 52 M2: 52 x 52\n",
      "M1: 52 x 52 M2: 52 x 52\n",
      "M1: 52 x 52 M2: 52 x 52\n",
      "M1: 52 x 52 M2: 52 x 52\n",
      "M1: 52 x 52 M2: 52 x 52\n",
      "M1: 52 x 52 M2: 52 x 52\n",
      "M1: 52 x 52 M2: 52 x 52\n",
      "M1: 52 x 52 M2: 52 x 52\n",
      "M1: 52 x 52 M2: 52 x 52\n",
      "M1: 52 x 52 M2: 52 x 52\n"
     ]
    },
    {
     "name": "stderr",
     "output_type": "stream",
     "text": [
      "Procesando pares:  51%|█████▏    | 792/1539 [00:06<00:09, 75.64it/s]"
     ]
    },
    {
     "name": "stdout",
     "output_type": "stream",
     "text": [
      "M1: 52 x 52 M2: 52 x 52\n",
      "M1: 52 x 52 M2: 52 x 52\n",
      "M1: 52 x 52 M2: 52 x 52\n",
      "M1: 52 x 52 M2: 52 x 52\n",
      "M1: 52 x 52 M2: 52 x 52\n",
      "M1: 52 x 52 M2: 52 x 52\n",
      "M1: 52 x 52 M2: 52 x 52\n",
      "M1: 52 x 52 M2: 52 x 52\n",
      "M1: 52 x 52 M2: 52 x 52\n",
      "M1: 52 x 52 M2: 52 x 52\n",
      "M1: 52 x 52 M2: 52 x 52\n",
      "M1: 52 x 52 M2: 52 x 52\n",
      "M1: 52 x 52 M2: 52 x 52\n",
      "M1: 52 x 52 M2: 52 x 52\n",
      "M1: 52 x 52 M2: 52 x 52\n",
      "M1: 52 x 52 M2: 52 x 52\n",
      "M1: 52 x 52 M2: 52 x 52\n"
     ]
    },
    {
     "name": "stderr",
     "output_type": "stream",
     "text": [
      "Procesando pares:  53%|█████▎    | 809/1539 [00:07<00:10, 72.54it/s]"
     ]
    },
    {
     "name": "stdout",
     "output_type": "stream",
     "text": [
      "M1: 52 x 52 M2: 52 x 52\n",
      "M1: 52 x 52 M2: 52 x 52\n",
      "M1: 52 x 52 M2: 52 x 52\n",
      "M1: 52 x 52 M2: 52 x 52\n",
      "M1: 52 x 52 M2: 52 x 52\n",
      "M1: 52 x 52 M2: 52 x 52\n",
      "M1: 52 x 52 M2: 52 x 52\n",
      "M1: 52 x 52 M2: 52 x 52\n",
      "M1: 52 x 52 M2: 52 x 52\n",
      "M1: 52 x 52 M2: 52 x 52\n",
      "M1: 52 x 52 M2: 52 x 52\n",
      "M1: 52 x 52 M2: 52 x 52\n",
      "M1: 52 x 52 M2: 52 x 52\n",
      "M1: 52 x 52 M2: 52 x 52\n",
      "M1: 52 x 52 M2: 52 x 52\n"
     ]
    },
    {
     "name": "stderr",
     "output_type": "stream",
     "text": [
      "Procesando pares:  53%|█████▎    | 818/1539 [00:07<00:09, 75.24it/s]"
     ]
    },
    {
     "name": "stdout",
     "output_type": "stream",
     "text": [
      "M1: 52 x 52 M2: 52 x 52\n",
      "M1: 52 x 52 M2: 52 x 52\n",
      "M1: 52 x 52 M2: 52 x 52\n",
      "M1: 52 x 52 M2: 52 x 52\n",
      "M1: 52 x 52 M2: 52 x 52\n",
      "M1: 52 x 52 M2: 52 x 52\n",
      "M1: 52 x 52 M2: 52 x 52\n",
      "M1: 52 x 52 M2: 52 x 52\n",
      "M1: 52 x 52 M2: 52 x 52\n",
      "M1: 52 x 52 M2: 52 x 52\n",
      "M1: 52 x 52 M2: 52 x 52\n",
      "M1: 52 x 52 M2: 52 x 52\n"
     ]
    },
    {
     "name": "stderr",
     "output_type": "stream",
     "text": [
      "Procesando pares:  54%|█████▍    | 835/1539 [00:07<00:10, 65.41it/s]"
     ]
    },
    {
     "name": "stdout",
     "output_type": "stream",
     "text": [
      "M1: 52 x 52 M2: 52 x 52\n",
      "M1: 52 x 52 M2: 52 x 52\n",
      "M1: 52 x 52 M2: 52 x 52\n",
      "M1: 52 x 52 M2: 52 x 52\n",
      "M1: 52 x 52 M2: 52 x 52\n",
      "M1: 52 x 52 M2: 52 x 52\n",
      "M1: 52 x 52 M2: 52 x 52\n",
      "M1: 52 x 52 M2: 52 x 52\n",
      "M1: 52 x 52 M2: 52 x 52\n",
      "M1: 52 x 52 M2: 52 x 52\n",
      "M1: 52 x 52 M2: 52 x 52\n",
      "M1: 52 x 52 M2: 52 x 52\n",
      "M1: 52 x 52 M2: 52 x 52\n",
      "M1: 52 x 52 M2: 52 x 52\n",
      "M1: 52 x 52 M2: 52 x 52\n",
      "M1: 52 x 52 M2: 52 x 52\n",
      "M1: 52 x 52 M2: 52 x 52\n",
      "M1: 52 x 52 M2: 52 x 52\n",
      "M1: 52 x 52 M2: 52 x 52\n"
     ]
    },
    {
     "name": "stderr",
     "output_type": "stream",
     "text": [
      "Procesando pares:  55%|█████▌    | 851/1539 [00:07<00:09, 69.63it/s]"
     ]
    },
    {
     "name": "stdout",
     "output_type": "stream",
     "text": [
      "M1: 52 x 52 M2: 52 x 52\n",
      "M1: 52 x 52 M2: 52 x 52\n",
      "M1: 52 x 52 M2: 52 x 52\n",
      "M1: 52 x 52 M2: 52 x 52\n",
      "M1: 52 x 52 M2: 52 x 52\n",
      "M1: 52 x 52 M2: 52 x 52\n",
      "M1: 52 x 52 M2: 52 x 52\n",
      "M1: 52 x 52 M2: 52 x 52\n",
      "M1: 52 x 52 M2: 52 x 52\n",
      "M1: 52 x 52 M2: 52 x 52\n",
      "M1: 52 x 52 M2: 52 x 52\n",
      "M1: 52 x 52 M2: 52 x 52\n",
      "M1: 52 x 52 M2: 52 x 52\n",
      "M1: 52 x 52 M2: 52 x 52\n",
      "M1: 52 x 52 M2: 52 x 52\n",
      "M1: 52 x 52 M2: 52 x 52\n"
     ]
    },
    {
     "name": "stderr",
     "output_type": "stream",
     "text": [
      "Procesando pares:  56%|█████▋    | 869/1539 [00:08<00:08, 75.77it/s]"
     ]
    },
    {
     "name": "stdout",
     "output_type": "stream",
     "text": [
      "M1: 52 x 52 M2: 52 x 52\n",
      "M1: 52 x 52 M2: 52 x 52\n",
      "M1: 52 x 52 M2: 52 x 52\n",
      "M1: 52 x 52 M2: 52 x 52\n",
      "M1: 52 x 52 M2: 52 x 52\n",
      "M1: 52 x 52 M2: 52 x 52\n",
      "M1: 52 x 52 M2: 52 x 52\n",
      "M1: 52 x 52 M2: 52 x 52\n",
      "M1: 52 x 52 M2: 52 x 52\n",
      "M1: 52 x 52 M2: 52 x 52\n",
      "M1: 52 x 52 M2: 52 x 52\n",
      "M1: 52 x 52 M2: 52 x 52\n",
      "M1: 52 x 52 M2: 52 x 52\n",
      "M1: 52 x 52 M2: 52 x 52\n",
      "M1: 52 x 52 M2: 52 x 52\n",
      "M1: 52 x 52 M2: 52 x 52\n",
      "M1: 52 x 52 M2: 52 x 52\n"
     ]
    },
    {
     "name": "stderr",
     "output_type": "stream",
     "text": [
      "Procesando pares:  58%|█████▊    | 886/1539 [00:08<00:08, 77.59it/s]"
     ]
    },
    {
     "name": "stdout",
     "output_type": "stream",
     "text": [
      "M1: 52 x 52 M2: 52 x 52\n",
      "M1: 52 x 52 M2: 52 x 52\n",
      "M1: 52 x 52 M2: 52 x 52\n",
      "M1: 52 x 52 M2: 52 x 52\n",
      "M1: 52 x 52 M2: 52 x 52\n",
      "M1: 52 x 52 M2: 52 x 52\n",
      "M1: 52 x 52 M2: 52 x 52\n",
      "M1: 52 x 52 M2: 52 x 52\n",
      "M1: 52 x 52 M2: 52 x 52\n",
      "M1: 52 x 52 M2: 52 x 52\n",
      "M1: 52 x 52 M2: 52 x 52\n",
      "M1: 52 x 52 M2: 52 x 52\n",
      "M1: 52 x 52 M2: 52 x 52\n",
      "M1: 52 x 52 M2: 52 x 52\n",
      "M1: 52 x 52 M2: 52 x 52\n",
      "M1: 52 x 52 M2: 52 x 52\n",
      "M1: 52 x 52 M2: 52 x 52\n"
     ]
    },
    {
     "name": "stderr",
     "output_type": "stream",
     "text": [
      "Procesando pares:  59%|█████▊    | 903/1539 [00:08<00:07, 80.62it/s]"
     ]
    },
    {
     "name": "stdout",
     "output_type": "stream",
     "text": [
      "M1: 52 x 52 M2: 52 x 52\n",
      "M1: 52 x 52 M2: 52 x 52\n",
      "M1: 52 x 52 M2: 52 x 52\n",
      "M1: 52 x 52 M2: 52 x 52\n",
      "M1: 52 x 52 M2: 52 x 52\n",
      "M1: 52 x 52 M2: 52 x 52\n",
      "M1: 52 x 52 M2: 52 x 52\n",
      "M1: 52 x 52 M2: 52 x 52\n",
      "M1: 52 x 52 M2: 52 x 52\n",
      "M1: 52 x 52 M2: 52 x 52\n",
      "M1: 52 x 52 M2: 52 x 52\n",
      "M1: 52 x 52 M2: 52 x 52\n",
      "M1: 52 x 52 M2: 52 x 52\n",
      "M1: 52 x 52 M2: 52 x 52\n",
      "M1: 52 x 52 M2: 52 x 52\n",
      "M1: 52 x 52 M2: 52 x 52\n",
      "M1: 52 x 52 M2: 52 x 52\n",
      "M1: 52 x 52 M2: 52 x 52\n"
     ]
    },
    {
     "name": "stderr",
     "output_type": "stream",
     "text": [
      "Procesando pares:  60%|█████▉    | 921/1539 [00:08<00:08, 74.32it/s]"
     ]
    },
    {
     "name": "stdout",
     "output_type": "stream",
     "text": [
      "M1: 52 x 52 M2: 52 x 52\n",
      "M1: 52 x 52 M2: 52 x 52\n",
      "M1: 52 x 52 M2: 52 x 52\n",
      "M1: 52 x 52 M2: 52 x 52\n",
      "M1: 52 x 52 M2: 52 x 52\n",
      "M1: 52 x 52 M2: 52 x 52\n",
      "M1: 52 x 52 M2: 52 x 52\n",
      "M1: 52 x 52 M2: 52 x 52\n",
      "M1: 52 x 52 M2: 52 x 52\n",
      "M1: 52 x 52 M2: 52 x 52\n",
      "M1: 52 x 52 M2: 52 x 52\n",
      "M1: 52 x 52 M2: 52 x 52\n",
      "M1: 52 x 52 M2: 52 x 52\n",
      "M1: 52 x 52 M2: 52 x 52\n",
      "M1: 52 x 52 M2: 52 x 52\n",
      "M1: 52 x 52 M2: 52 x 52\n",
      "M1: 52 x 52 M2: 52 x 52\n"
     ]
    },
    {
     "name": "stderr",
     "output_type": "stream",
     "text": [
      "Procesando pares:  61%|██████    | 939/1539 [00:08<00:07, 79.50it/s]"
     ]
    },
    {
     "name": "stdout",
     "output_type": "stream",
     "text": [
      "M1: 52 x 52 M2: 52 x 52\n",
      "M1: 52 x 52 M2: 52 x 52\n",
      "M1: 52 x 52 M2: 52 x 52\n",
      "M1: 52 x 52 M2: 52 x 52\n",
      "M1: 52 x 52 M2: 52 x 52\n",
      "M1: 52 x 52 M2: 52 x 52\n",
      "M1: 52 x 52 M2: 52 x 52\n",
      "M1: 52 x 52 M2: 52 x 52\n",
      "M1: 52 x 52 M2: 52 x 52\n",
      "M1: 52 x 52 M2: 52 x 52\n",
      "M1: 52 x 52 M2: 52 x 52\n",
      "M1: 52 x 52 M2: 52 x 52\n",
      "M1: 52 x 52 M2: 52 x 52\n",
      "M1: 52 x 52 M2: 52 x 52\n",
      "M1: 52 x 52 M2: 52 x 52\n",
      "M1: 52 x 52 M2: 52 x 52\n",
      "M1: 52 x 52 M2: 52 x 52\n",
      "M1: 52 x 52 M2: 52 x 52\n"
     ]
    },
    {
     "name": "stderr",
     "output_type": "stream",
     "text": [
      "Procesando pares:  62%|██████▏   | 957/1539 [00:09<00:07, 81.10it/s]"
     ]
    },
    {
     "name": "stdout",
     "output_type": "stream",
     "text": [
      "M1: 52 x 52 M2: 52 x 52\n",
      "M1: 52 x 52 M2: 52 x 52\n",
      "M1: 52 x 52 M2: 52 x 52\n",
      "M1: 52 x 52 M2: 52 x 52\n",
      "M1: 52 x 52 M2: 52 x 52\n",
      "M1: 52 x 52 M2: 52 x 52\n",
      "M1: 52 x 52 M2: 52 x 52\n",
      "M1: 52 x 52 M2: 52 x 52\n",
      "M1: 52 x 52 M2: 52 x 52\n",
      "M1: 52 x 52 M2: 52 x 52\n",
      "M1: 52 x 52 M2: 52 x 52\n",
      "M1: 52 x 52 M2: 52 x 52\n",
      "M1: 52 x 52 M2: 52 x 52\n",
      "M1: 52 x 52 M2: 52 x 52\n",
      "M1: 52 x 52 M2: 52 x 52\n",
      "M1: 52 x 52 M2: 52 x 52\n"
     ]
    },
    {
     "name": "stderr",
     "output_type": "stream",
     "text": [
      "Procesando pares:  63%|██████▎   | 966/1539 [00:09<00:06, 82.64it/s]"
     ]
    },
    {
     "name": "stdout",
     "output_type": "stream",
     "text": [
      "M1: 52 x 52 M2: 52 x 52\n",
      "M1: 52 x 52 M2: 52 x 52\n",
      "M1: 52 x 52 M2: 52 x 52\n",
      "M1: 52 x 52 M2: 52 x 52\n",
      "M1: 52 x 52 M2: 52 x 52\n",
      "M1: 52 x 52 M2: 52 x 52\n",
      "M1: 52 x 52 M2: 52 x 52\n",
      "M1: 52 x 52 M2: 52 x 52\n",
      "M1: 52 x 52 M2: 52 x 52\n",
      "M1: 52 x 52 M2: 52 x 52\n",
      "M1: 52 x 52 M2: 52 x 52\n",
      "M1: 52 x 52 M2: 52 x 52\n",
      "M1: 52 x 52 M2: 52 x 52\n",
      "M1: 52 x 52 M2: 52 x 52\n",
      "M1: 52 x 52 M2: 52 x 52\n"
     ]
    },
    {
     "name": "stderr",
     "output_type": "stream",
     "text": [
      "Procesando pares:  64%|██████▍   | 983/1539 [00:09<00:07, 73.46it/s]"
     ]
    },
    {
     "name": "stdout",
     "output_type": "stream",
     "text": [
      "M1: 52 x 52 M2: 52 x 52\n",
      "M1: 52 x 52 M2: 52 x 52\n",
      "M1: 52 x 52 M2: 52 x 52\n",
      "M1: 52 x 52 M2: 52 x 52\n",
      "M1: 52 x 52 M2: 52 x 52\n",
      "M1: 52 x 52 M2: 52 x 52\n",
      "M1: 52 x 52 M2: 52 x 52\n",
      "M1: 52 x 52 M2: 52 x 52\n",
      "M1: 52 x 52 M2: 52 x 52\n",
      "M1: 52 x 52 M2: 52 x 52\n",
      "M1: 52 x 52 M2: 52 x 52\n",
      "M1: 52 x 52 M2: 52 x 52\n",
      "M1: 52 x 52 M2: 52 x 52\n",
      "M1: 52 x 52 M2: 52 x 52\n",
      "M1: 52 x 52 M2: 52 x 52\n",
      "M1: 52 x 52 M2: 52 x 52\n"
     ]
    },
    {
     "name": "stderr",
     "output_type": "stream",
     "text": [
      "Procesando pares:  66%|██████▌   | 1009/1539 [00:09<00:06, 79.67it/s]"
     ]
    },
    {
     "name": "stdout",
     "output_type": "stream",
     "text": [
      "M1: 52 x 52 M2: 52 x 52\n",
      "M1: 52 x 52 M2: 52 x 52\n",
      "M1: 52 x 52 M2: 52 x 52\n",
      "M1: 52 x 52 M2: 52 x 52\n",
      "M1: 52 x 52 M2: 52 x 52\n",
      "M1: 52 x 52 M2: 52 x 52\n",
      "M1: 52 x 52 M2: 52 x 52\n",
      "M1: 52 x 52 M2: 52 x 52\n",
      "M1: 52 x 52 M2: 52 x 52\n",
      "M1: 52 x 52 M2: 52 x 52\n",
      "M1: 52 x 52 M2: 52 x 52\n",
      "M1: 52 x 52 M2: 52 x 52\n",
      "M1: 52 x 52 M2: 52 x 52\n",
      "M1: 52 x 52 M2: 52 x 52\n",
      "M1: 52 x 52 M2: 52 x 52\n",
      "M1: 52 x 52 M2: 52 x 52\n",
      "M1: 52 x 52 M2: 52 x 52\n",
      "M1: 52 x 52 M2: 52 x 52\n",
      "M1: 52 x 52 M2: 52 x 52\n"
     ]
    },
    {
     "name": "stderr",
     "output_type": "stream",
     "text": [
      "Procesando pares:  66%|██████▌   | 1018/1539 [00:09<00:06, 80.44it/s]"
     ]
    },
    {
     "name": "stdout",
     "output_type": "stream",
     "text": [
      "M1: 52 x 52 M2: 52 x 52\n",
      "M1: 52 x 52 M2: 52 x 52\n",
      "M1: 52 x 52 M2: 52 x 52\n",
      "M1: 52 x 52 M2: 52 x 52\n",
      "M1: 52 x 52 M2: 52 x 52\n",
      "M1: 52 x 52 M2: 52 x 52\n",
      "M1: 52 x 52 M2: 52 x 52\n",
      "M1: 52 x 52 M2: 52 x 52\n",
      "M1: 52 x 52 M2: 52 x 52\n",
      "M1: 52 x 52 M2: 52 x 52\n",
      "M1: 52 x 52 M2: 52 x 52\n",
      "M1: 52 x 52 M2: 52 x 52\n",
      "M1: 52 x 52 M2: 52 x 52\n",
      "M1: 52 x 52 M2: 52 x 52\n",
      "M1: 52 x 52 M2: 52 x 52\n",
      "M1: 52 x 52 M2: 52 x 52\n",
      "M1: 52 x 52 M2: 52 x 52\n"
     ]
    },
    {
     "name": "stderr",
     "output_type": "stream",
     "text": [
      "Procesando pares:  67%|██████▋   | 1036/1539 [00:10<00:06, 79.73it/s]"
     ]
    },
    {
     "name": "stdout",
     "output_type": "stream",
     "text": [
      "M1: 52 x 52 M2: 52 x 52\n",
      "M1: 52 x 52 M2: 52 x 52\n",
      "M1: 52 x 52 M2: 52 x 52\n",
      "M1: 52 x 52 M2: 52 x 52\n",
      "M1: 52 x 52 M2: 52 x 52\n",
      "M1: 52 x 52 M2: 52 x 52\n",
      "M1: 52 x 52 M2: 52 x 52\n",
      "M1: 52 x 52 M2: 52 x 52\n",
      "M1: 52 x 52 M2: 52 x 52\n",
      "M1: 52 x 52 M2: 52 x 52\n",
      "M1: 52 x 52 M2: 52 x 52\n",
      "M1: 52 x 52 M2: 52 x 52\n",
      "M1: 52 x 52 M2: 52 x 52\n",
      "M1: 52 x 52 M2: 52 x 52\n",
      "M1: 52 x 52 M2: 52 x 52\n",
      "M1: 52 x 52 M2: 52 x 52\n"
     ]
    },
    {
     "name": "stderr",
     "output_type": "stream",
     "text": [
      "Procesando pares:  68%|██████▊   | 1053/1539 [00:10<00:06, 73.83it/s]"
     ]
    },
    {
     "name": "stdout",
     "output_type": "stream",
     "text": [
      "M1: 52 x 52 M2: 52 x 52\n",
      "M1: 52 x 52 M2: 52 x 52\n",
      "M1: 52 x 52 M2: 52 x 52\n",
      "M1: 52 x 52 M2: 52 x 52\n",
      "M1: 52 x 52 M2: 52 x 52\n",
      "M1: 52 x 52 M2: 52 x 52\n",
      "M1: 52 x 52 M2: 52 x 52\n",
      "M1: 52 x 52 M2: 52 x 52\n",
      "M1: 52 x 52 M2: 52 x 52\n",
      "M1: 52 x 52 M2: 52 x 52\n",
      "M1: 52 x 52 M2: 52 x 52\n",
      "M1: 52 x 52 M2: 52 x 52\n",
      "M1: 52 x 52 M2: 52 x 52\n",
      "M1: 52 x 52 M2: 52 x 52\n",
      "M1: 52 x 52 M2: 52 x 52\n"
     ]
    },
    {
     "name": "stderr",
     "output_type": "stream",
     "text": [
      "Procesando pares:  69%|██████▉   | 1069/1539 [00:10<00:06, 73.52it/s]"
     ]
    },
    {
     "name": "stdout",
     "output_type": "stream",
     "text": [
      "M1: 52 x 52 M2: 52 x 52\n",
      "M1: 52 x 52 M2: 52 x 52\n",
      "M1: 52 x 52 M2: 52 x 52\n",
      "M1: 52 x 52 M2: 52 x 52\n",
      "M1: 52 x 52 M2: 52 x 52\n",
      "M1: 52 x 52 M2: 52 x 52\n",
      "M1: 52 x 52 M2: 52 x 52\n",
      "M1: 52 x 52 M2: 52 x 52\n",
      "M1: 52 x 52 M2: 52 x 52\n",
      "M1: 52 x 52 M2: 52 x 52\n",
      "M1: 52 x 52 M2: 52 x 52\n",
      "M1: 52 x 52 M2: 52 x 52\n",
      "M1: 52 x 52 M2: 52 x 52\n",
      "M1: 52 x 52 M2: 52 x 52\n",
      "M1: 52 x 52 M2: 52 x 52\n",
      "M1: 52 x 52 M2: 52 x 52\n",
      "M1: 52 x 52 M2: 52 x 52\n"
     ]
    },
    {
     "name": "stderr",
     "output_type": "stream",
     "text": [
      "Procesando pares:  71%|███████   | 1086/1539 [00:10<00:05, 77.50it/s]"
     ]
    },
    {
     "name": "stdout",
     "output_type": "stream",
     "text": [
      "M1: 52 x 52 M2: 52 x 52\n",
      "M1: 52 x 52 M2: 52 x 52\n",
      "M1: 52 x 52 M2: 52 x 52\n",
      "M1: 52 x 52 M2: 52 x 52\n",
      "M1: 52 x 52 M2: 52 x 52\n",
      "M1: 52 x 52 M2: 52 x 52\n",
      "M1: 52 x 52 M2: 52 x 52\n",
      "M1: 52 x 52 M2: 52 x 52\n",
      "M1: 52 x 52 M2: 52 x 52\n",
      "M1: 52 x 52 M2: 52 x 52\n",
      "M1: 52 x 52 M2: 52 x 52\n",
      "M1: 52 x 52 M2: 52 x 52\n",
      "M1: 52 x 52 M2: 52 x 52\n",
      "M1: 52 x 52 M2: 52 x 52\n",
      "M1: 52 x 52 M2: 52 x 52\n",
      "M1: 52 x 52 M2: 52 x 52\n",
      "M1: 52 x 52 M2: 52 x 52\n"
     ]
    },
    {
     "name": "stderr",
     "output_type": "stream",
     "text": [
      "Procesando pares:  72%|███████▏  | 1102/1539 [00:11<00:05, 76.63it/s]"
     ]
    },
    {
     "name": "stdout",
     "output_type": "stream",
     "text": [
      "M1: 52 x 52 M2: 52 x 52\n",
      "M1: 52 x 52 M2: 52 x 52\n",
      "M1: 52 x 52 M2: 52 x 52\n",
      "M1: 52 x 52 M2: 52 x 52\n",
      "M1: 52 x 52 M2: 52 x 52\n",
      "M1: 52 x 52 M2: 52 x 52\n",
      "M1: 52 x 52 M2: 52 x 52\n",
      "M1: 52 x 52 M2: 52 x 52\n",
      "M1: 52 x 52 M2: 52 x 52\n",
      "M1: 52 x 52 M2: 52 x 52\n",
      "M1: 52 x 52 M2: 52 x 52\n",
      "M1: 52 x 52 M2: 52 x 52\n",
      "M1: 52 x 52 M2: 52 x 52\n",
      "M1: 52 x 52 M2: 52 x 52\n",
      "M1: 52 x 52 M2: 52 x 52\n",
      "M1: 52 x 52 M2: 52 x 52\n",
      "M1: 52 x 52 M2: 52 x 52\n",
      "M1: 52 x 52 M2: 52 x 52\n"
     ]
    },
    {
     "name": "stderr",
     "output_type": "stream",
     "text": [
      "Procesando pares:  73%|███████▎  | 1119/1539 [00:11<00:05, 71.74it/s]"
     ]
    },
    {
     "name": "stdout",
     "output_type": "stream",
     "text": [
      "M1: 52 x 52 M2: 52 x 52\n",
      "M1: 52 x 52 M2: 52 x 52\n",
      "M1: 52 x 52 M2: 52 x 52\n",
      "M1: 52 x 52 M2: 52 x 52\n",
      "M1: 52 x 52 M2: 52 x 52\n",
      "M1: 52 x 52 M2: 52 x 52\n",
      "M1: 52 x 52 M2: 52 x 52\n",
      "M1: 52 x 52 M2: 52 x 52\n",
      "M1: 52 x 52 M2: 52 x 52\n",
      "M1: 52 x 52 M2: 52 x 52\n",
      "M1: 52 x 52 M2: 52 x 52\n",
      "M1: 52 x 52 M2: 52 x 52\n",
      "M1: 52 x 52 M2: 52 x 52\n",
      "M1: 52 x 52 M2: 52 x 52\n",
      "M1: 52 x 52 M2: 52 x 52\n",
      "M1: 52 x 52 M2: 52 x 52\n"
     ]
    },
    {
     "name": "stderr",
     "output_type": "stream",
     "text": [
      "Procesando pares:  74%|███████▍  | 1137/1539 [00:11<00:05, 78.37it/s]"
     ]
    },
    {
     "name": "stdout",
     "output_type": "stream",
     "text": [
      "M1: 52 x 52 M2: 52 x 52\n",
      "M1: 52 x 52 M2: 52 x 52\n",
      "M1: 52 x 52 M2: 52 x 52\n",
      "M1: 52 x 52 M2: 52 x 52\n",
      "M1: 52 x 52 M2: 52 x 52\n",
      "M1: 52 x 52 M2: 52 x 52\n",
      "M1: 52 x 52 M2: 52 x 52\n",
      "M1: 52 x 52 M2: 52 x 52\n",
      "M1: 52 x 52 M2: 52 x 52\n",
      "M1: 52 x 52 M2: 52 x 52\n",
      "M1: 52 x 52 M2: 52 x 52\n",
      "M1: 52 x 52 M2: 52 x 52\n",
      "M1: 52 x 52 M2: 52 x 52\n",
      "M1: 52 x 52 M2: 52 x 52\n",
      "M1: 52 x 52 M2: 52 x 52\n",
      "M1: 52 x 52 M2: 52 x 52\n"
     ]
    },
    {
     "name": "stderr",
     "output_type": "stream",
     "text": [
      "Procesando pares:  75%|███████▍  | 1153/1539 [00:11<00:05, 74.38it/s]"
     ]
    },
    {
     "name": "stdout",
     "output_type": "stream",
     "text": [
      "M1: 52 x 52 M2: 52 x 52\n",
      "M1: 52 x 52 M2: 52 x 52\n",
      "M1: 52 x 52 M2: 52 x 52\n",
      "M1: 52 x 52 M2: 52 x 52\n",
      "M1: 52 x 52 M2: 52 x 52\n",
      "M1: 52 x 52 M2: 52 x 52\n",
      "M1: 52 x 52 M2: 52 x 52\n",
      "M1: 52 x 52 M2: 52 x 52\n",
      "M1: 52 x 52 M2: 52 x 52\n",
      "M1: 52 x 52 M2: 52 x 52\n",
      "M1: 52 x 52 M2: 52 x 52\n",
      "M1: 52 x 52 M2: 52 x 52\n",
      "M1: 52 x 52 M2: 52 x 52\n",
      "M1: 52 x 52 M2: 52 x 52\n",
      "M1: 52 x 52 M2: 52 x 52\n"
     ]
    },
    {
     "name": "stderr",
     "output_type": "stream",
     "text": [
      "Procesando pares:  76%|███████▌  | 1171/1539 [00:12<00:04, 80.18it/s]"
     ]
    },
    {
     "name": "stdout",
     "output_type": "stream",
     "text": [
      "M1: 52 x 52 M2: 52 x 52\n",
      "M1: 52 x 52 M2: 52 x 52\n",
      "M1: 52 x 52 M2: 52 x 52\n",
      "M1: 52 x 52 M2: 52 x 52\n",
      "M1: 52 x 52 M2: 52 x 52\n",
      "M1: 52 x 52 M2: 52 x 52\n",
      "M1: 52 x 52 M2: 52 x 52\n",
      "M1: 52 x 52 M2: 52 x 52\n",
      "M1: 52 x 52 M2: 52 x 52\n",
      "M1: 52 x 52 M2: 52 x 52\n",
      "M1: 52 x 52 M2: 52 x 52\n",
      "M1: 52 x 52 M2: 52 x 52\n",
      "M1: 52 x 52 M2: 52 x 52\n",
      "M1: 52 x 52 M2: 52 x 52\n",
      "M1: 52 x 52 M2: 52 x 52\n",
      "M1: 52 x 52 M2: 52 x 52\n",
      "M1: 52 x 52 M2: 52 x 52\n",
      "M1: 52 x 52 M2: 52 x 52\n"
     ]
    },
    {
     "name": "stderr",
     "output_type": "stream",
     "text": [
      "Procesando pares:  77%|███████▋  | 1188/1539 [00:12<00:05, 70.04it/s]"
     ]
    },
    {
     "name": "stdout",
     "output_type": "stream",
     "text": [
      "M1: 52 x 52 M2: 52 x 52\n",
      "M1: 52 x 52 M2: 52 x 52\n",
      "M1: 52 x 52 M2: 52 x 52\n",
      "M1: 52 x 52 M2: 52 x 52\n",
      "M1: 52 x 52 M2: 52 x 52\n",
      "M1: 52 x 52 M2: 52 x 52\n",
      "M1: 52 x 52 M2: 52 x 52\n",
      "M1: 52 x 52 M2: 52 x 52\n",
      "M1: 52 x 52 M2: 52 x 52\n",
      "M1: 52 x 52 M2: 52 x 52\n",
      "M1: 52 x 52 M2: 52 x 52\n",
      "M1: 52 x 52 M2: 52 x 52\n",
      "M1: 52 x 52 M2: 52 x 52\n",
      "M1: 52 x 52 M2: 52 x 52\n"
     ]
    },
    {
     "name": "stderr",
     "output_type": "stream",
     "text": [
      "Procesando pares:  78%|███████▊  | 1198/1539 [00:12<00:04, 76.23it/s]"
     ]
    },
    {
     "name": "stdout",
     "output_type": "stream",
     "text": [
      "M1: 52 x 52 M2: 52 x 52\n",
      "M1: 52 x 52 M2: 52 x 52\n",
      "M1: 52 x 52 M2: 52 x 52\n",
      "M1: 52 x 52 M2: 52 x 52\n",
      "M1: 52 x 52 M2: 52 x 52\n",
      "M1: 52 x 52 M2: 52 x 52\n",
      "M1: 52 x 52 M2: 52 x 52\n",
      "M1: 52 x 52 M2: 52 x 52\n",
      "M1: 52 x 52 M2: 52 x 52\n",
      "M1: 52 x 52 M2: 52 x 52\n",
      "M1: 52 x 52 M2: 52 x 52\n",
      "M1: 52 x 52 M2: 52 x 52\n",
      "M1: 52 x 52 M2: 52 x 52\n",
      "M1: 52 x 52 M2: 52 x 52\n",
      "M1: 52 x 52 M2: 52 x 52\n",
      "M1: 52 x 52 M2: 52 x 52\n",
      "M1: 52 x 52 M2: 52 x 52\n",
      "M1: 52 x 52 M2: 52 x 52\n"
     ]
    },
    {
     "name": "stderr",
     "output_type": "stream",
     "text": [
      "Procesando pares:  79%|███████▉  | 1215/1539 [00:12<00:04, 75.77it/s]"
     ]
    },
    {
     "name": "stdout",
     "output_type": "stream",
     "text": [
      "M1: 52 x 52 M2: 52 x 52\n",
      "M1: 52 x 52 M2: 52 x 52\n",
      "M1: 52 x 52 M2: 52 x 52\n",
      "M1: 52 x 52 M2: 52 x 52\n",
      "M1: 52 x 52 M2: 52 x 52\n",
      "M1: 52 x 52 M2: 52 x 52\n",
      "M1: 52 x 52 M2: 52 x 52\n",
      "M1: 52 x 52 M2: 52 x 52\n",
      "M1: 52 x 52 M2: 52 x 52\n",
      "M1: 52 x 52 M2: 52 x 52\n",
      "M1: 52 x 52 M2: 52 x 52\n",
      "M1: 52 x 52 M2: 52 x 52\n",
      "M1: 52 x 52 M2: 52 x 52\n"
     ]
    },
    {
     "name": "stderr",
     "output_type": "stream",
     "text": [
      "Procesando pares:  80%|███████▉  | 1231/1539 [00:13<00:07, 41.76it/s]"
     ]
    },
    {
     "name": "stdout",
     "output_type": "stream",
     "text": [
      "M1: 52 x 52 M2: 52 x 52\n",
      "M1: 52 x 52 M2: 52 x 52\n",
      "M1: 52 x 52 M2: 52 x 52\n",
      "M1: 52 x 52 M2: 52 x 52\n",
      "M1: 52 x 52 M2: 52 x 52\n",
      "M1: 52 x 52 M2: 52 x 52\n",
      "M1: 52 x 52 M2: 52 x 52\n",
      "M1: 52 x 52 M2: 52 x 52\n",
      "M1: 52 x 52 M2: 52 x 52\n",
      "M1: 52 x 52 M2: 52 x 52\n",
      "M1: 52 x 52 M2: 52 x 52\n",
      "M1: 52 x 52 M2: 52 x 52\n",
      "M1: 52 x 52 M2: 52 x 52\n",
      "M1: 52 x 52 M2: 52 x 52\n",
      "M1: 52 x 52 M2: 52 x 52\n",
      "M1: 52 x 52 M2: 52 x 52\n",
      "M1: 52 x 52 M2: 52 x 52\n",
      "M1: 52 x 52 M2: 52 x 52\n"
     ]
    },
    {
     "name": "stderr",
     "output_type": "stream",
     "text": [
      "Procesando pares:  81%|████████  | 1248/1539 [00:13<00:05, 54.89it/s]"
     ]
    },
    {
     "name": "stdout",
     "output_type": "stream",
     "text": [
      "M1: 52 x 52 M2: 52 x 52\n",
      "M1: 52 x 52 M2: 52 x 52\n",
      "M1: 52 x 52 M2: 52 x 52\n",
      "M1: 52 x 52 M2: 52 x 52\n",
      "M1: 52 x 52 M2: 52 x 52\n",
      "M1: 52 x 52 M2: 52 x 52\n",
      "M1: 52 x 52 M2: 52 x 52\n",
      "M1: 52 x 52 M2: 52 x 52\n",
      "M1: 52 x 52 M2: 52 x 52\n",
      "M1: 52 x 52 M2: 52 x 52\n",
      "M1: 52 x 52 M2: 52 x 52\n",
      "M1: 52 x 52 M2: 52 x 52\n",
      "M1: 52 x 52 M2: 52 x 52\n",
      "M1: 52 x 52 M2: 52 x 52\n",
      "M1: 52 x 52 M2: 52 x 52\n",
      "M1: 52 x 52 M2: 52 x 52\n",
      "M1: 52 x 52 M2: 52 x 52\n"
     ]
    },
    {
     "name": "stderr",
     "output_type": "stream",
     "text": [
      "Procesando pares:  82%|████████▏ | 1265/1539 [00:13<00:04, 65.06it/s]"
     ]
    },
    {
     "name": "stdout",
     "output_type": "stream",
     "text": [
      "M1: 52 x 52 M2: 52 x 52\n",
      "M1: 52 x 52 M2: 52 x 52\n",
      "M1: 52 x 52 M2: 52 x 52\n",
      "M1: 52 x 52 M2: 52 x 52\n",
      "M1: 52 x 52 M2: 52 x 52\n",
      "M1: 52 x 52 M2: 52 x 52\n",
      "M1: 52 x 52 M2: 52 x 52\n",
      "M1: 52 x 52 M2: 52 x 52\n",
      "M1: 52 x 52 M2: 52 x 52\n",
      "M1: 52 x 52 M2: 52 x 52\n",
      "M1: 52 x 52 M2: 52 x 52\n",
      "M1: 52 x 52 M2: 52 x 52\n",
      "M1: 52 x 52 M2: 52 x 52\n",
      "M1: 52 x 52 M2: 52 x 52\n",
      "M1: 52 x 52 M2: 52 x 52\n",
      "M1: 52 x 52 M2: 52 x 52\n",
      "M1: 52 x 52 M2: 52 x 52\n",
      "⚠️  3d06b643_db7f80a5 omitido ()\n",
      "M1: 52 x 52 M2: 52 x 52\n"
     ]
    },
    {
     "name": "stderr",
     "output_type": "stream",
     "text": [
      "Procesando pares:  83%|████████▎ | 1284/1539 [00:13<00:03, 77.49it/s]"
     ]
    },
    {
     "name": "stdout",
     "output_type": "stream",
     "text": [
      "M1: 52 x 52 M2: 52 x 52\n",
      "M1: 52 x 52 M2: 52 x 52\n",
      "M1: 52 x 52 M2: 52 x 52\n",
      "M1: 52 x 52 M2: 52 x 52\n",
      "M1: 52 x 52 M2: 52 x 52\n",
      "M1: 52 x 52 M2: 52 x 52\n",
      "M1: 52 x 52 M2: 52 x 52\n",
      "M1: 52 x 52 M2: 52 x 52\n",
      "M1: 52 x 52 M2: 52 x 52\n",
      "M1: 52 x 52 M2: 52 x 52\n",
      "M1: 52 x 52 M2: 52 x 52\n",
      "M1: 52 x 52 M2: 52 x 52\n",
      "M1: 52 x 52 M2: 52 x 52\n",
      "M1: 52 x 52 M2: 52 x 52\n",
      "M1: 52 x 52 M2: 52 x 52\n",
      "M1: 52 x 52 M2: 52 x 52\n",
      "M1: 52 x 52 M2: 52 x 52\n"
     ]
    },
    {
     "name": "stderr",
     "output_type": "stream",
     "text": [
      "Procesando pares:  85%|████████▍ | 1302/1539 [00:14<00:03, 77.15it/s]"
     ]
    },
    {
     "name": "stdout",
     "output_type": "stream",
     "text": [
      "M1: 52 x 52 M2: 52 x 52\n",
      "M1: 52 x 52 M2: 52 x 52\n",
      "M1: 52 x 52 M2: 52 x 52\n",
      "M1: 52 x 52 M2: 52 x 52\n",
      "M1: 52 x 52 M2: 52 x 52\n",
      "M1: 52 x 52 M2: 52 x 52\n",
      "M1: 52 x 52 M2: 52 x 52\n",
      "M1: 52 x 52 M2: 52 x 52\n",
      "M1: 52 x 52 M2: 52 x 52\n",
      "M1: 52 x 52 M2: 52 x 52\n",
      "M1: 52 x 52 M2: 52 x 52\n",
      "M1: 52 x 52 M2: 52 x 52\n",
      "M1: 52 x 52 M2: 52 x 52\n",
      "M1: 52 x 52 M2: 52 x 52\n",
      "M1: 52 x 52 M2: 52 x 52\n",
      "M1: 52 x 52 M2: 52 x 52\n",
      "M1: 52 x 52 M2: 52 x 52\n",
      "M1: 52 x 52 M2: 52 x 52\n",
      "M1: 52 x 52 M2: 52 x 52\n"
     ]
    },
    {
     "name": "stderr",
     "output_type": "stream",
     "text": [
      "Procesando pares:  86%|████████▌ | 1320/1539 [00:14<00:02, 80.97it/s]"
     ]
    },
    {
     "name": "stdout",
     "output_type": "stream",
     "text": [
      "M1: 52 x 52 M2: 52 x 52\n",
      "M1: 52 x 52 M2: 52 x 52\n",
      "M1: 52 x 52 M2: 52 x 52\n",
      "M1: 52 x 52 M2: 52 x 52\n",
      "M1: 52 x 52 M2: 52 x 52\n",
      "M1: 52 x 52 M2: 52 x 52\n",
      "M1: 52 x 52 M2: 52 x 52\n",
      "M1: 52 x 52 M2: 52 x 52\n",
      "M1: 52 x 52 M2: 52 x 52\n",
      "M1: 52 x 52 M2: 52 x 52\n",
      "M1: 52 x 52 M2: 52 x 52\n",
      "M1: 52 x 52 M2: 52 x 52\n",
      "M1: 52 x 52 M2: 52 x 52\n",
      "M1: 52 x 52 M2: 52 x 52\n",
      "M1: 52 x 52 M2: 52 x 52\n",
      "M1: 52 x 52 M2: 52 x 52\n",
      "M1: 52 x 52 M2: 52 x 52\n",
      "M1: 52 x 52 M2: 52 x 52\n"
     ]
    },
    {
     "name": "stderr",
     "output_type": "stream",
     "text": [
      "Procesando pares:  87%|████████▋ | 1338/1539 [00:14<00:02, 82.79it/s]"
     ]
    },
    {
     "name": "stdout",
     "output_type": "stream",
     "text": [
      "M1: 52 x 52 M2: 52 x 52\n",
      "M1: 52 x 52 M2: 52 x 52\n",
      "M1: 52 x 52 M2: 52 x 52\n",
      "M1: 52 x 52 M2: 52 x 52\n",
      "M1: 52 x 52 M2: 52 x 52\n",
      "M1: 52 x 52 M2: 52 x 52\n",
      "M1: 52 x 52 M2: 52 x 52\n",
      "M1: 52 x 52 M2: 52 x 52\n",
      "M1: 52 x 52 M2: 52 x 52\n",
      "M1: 52 x 52 M2: 52 x 52\n",
      "M1: 52 x 52 M2: 52 x 52\n",
      "M1: 52 x 52 M2: 52 x 52\n",
      "M1: 52 x 52 M2: 52 x 52\n",
      "M1: 52 x 52 M2: 52 x 52\n",
      "M1: 52 x 52 M2: 52 x 52\n",
      "M1: 52 x 52 M2: 52 x 52\n",
      "M1: 52 x 52 M2: 52 x 52\n",
      "M1: 52 x 52 M2: 52 x 52\n"
     ]
    },
    {
     "name": "stderr",
     "output_type": "stream",
     "text": [
      "Procesando pares:  88%|████████▊ | 1356/1539 [00:14<00:02, 77.13it/s]"
     ]
    },
    {
     "name": "stdout",
     "output_type": "stream",
     "text": [
      "M1: 52 x 52 M2: 52 x 52\n",
      "M1: 52 x 52 M2: 52 x 52\n",
      "M1: 52 x 52 M2: 52 x 52\n",
      "M1: 52 x 52 M2: 52 x 52\n",
      "M1: 52 x 52 M2: 52 x 52\n",
      "M1: 52 x 52 M2: 52 x 52\n",
      "M1: 52 x 52 M2: 52 x 52\n",
      "M1: 52 x 52 M2: 52 x 52\n",
      "M1: 52 x 52 M2: 52 x 52\n",
      "M1: 52 x 52 M2: 52 x 52\n",
      "M1: 52 x 52 M2: 52 x 52\n",
      "M1: 52 x 52 M2: 52 x 52\n",
      "M1: 52 x 52 M2: 52 x 52\n",
      "M1: 52 x 52 M2: 52 x 52\n",
      "M1: 52 x 52 M2: 52 x 52\n"
     ]
    },
    {
     "name": "stderr",
     "output_type": "stream",
     "text": [
      "Procesando pares:  89%|████████▉ | 1373/1539 [00:14<00:02, 77.61it/s]"
     ]
    },
    {
     "name": "stdout",
     "output_type": "stream",
     "text": [
      "M1: 52 x 52 M2: 52 x 52\n",
      "M1: 52 x 52 M2: 52 x 52\n",
      "M1: 52 x 52 M2: 52 x 52\n",
      "M1: 52 x 52 M2: 52 x 52\n",
      "M1: 52 x 52 M2: 52 x 52\n",
      "M1: 52 x 52 M2: 52 x 52\n",
      "M1: 52 x 52 M2: 52 x 52\n",
      "M1: 52 x 52 M2: 52 x 52\n",
      "M1: 52 x 52 M2: 52 x 52\n",
      "M1: 52 x 52 M2: 52 x 52\n",
      "M1: 52 x 52 M2: 52 x 52\n",
      "M1: 52 x 52 M2: 52 x 52\n",
      "M1: 52 x 52 M2: 52 x 52\n",
      "M1: 52 x 52 M2: 52 x 52\n",
      "M1: 52 x 52 M2: 52 x 52\n",
      "M1: 52 x 52 M2: 52 x 52\n"
     ]
    },
    {
     "name": "stderr",
     "output_type": "stream",
     "text": [
      "Procesando pares:  90%|████████▉ | 1381/1539 [00:15<00:02, 73.55it/s]"
     ]
    },
    {
     "name": "stdout",
     "output_type": "stream",
     "text": [
      "M1: 52 x 52 M2: 52 x 52\n",
      "M1: 52 x 52 M2: 52 x 52\n",
      "M1: 52 x 52 M2: 52 x 52\n",
      "M1: 52 x 52 M2: 52 x 52\n",
      "M1: 52 x 52 M2: 52 x 52\n",
      "M1: 52 x 52 M2: 52 x 52\n",
      "M1: 52 x 52 M2: 52 x 52\n",
      "M1: 52 x 52 M2: 52 x 52\n",
      "M1: 52 x 52 M2: 52 x 52\n"
     ]
    },
    {
     "name": "stderr",
     "output_type": "stream",
     "text": [
      "Procesando pares:  91%|█████████ | 1398/1539 [00:15<00:02, 61.57it/s]"
     ]
    },
    {
     "name": "stdout",
     "output_type": "stream",
     "text": [
      "M1: 52 x 52 M2: 52 x 52\n",
      "M1: 52 x 52 M2: 52 x 52\n",
      "M1: 52 x 52 M2: 52 x 52\n",
      "M1: 52 x 52 M2: 52 x 52\n",
      "M1: 52 x 52 M2: 52 x 52\n",
      "M1: 52 x 52 M2: 52 x 52\n",
      "M1: 52 x 52 M2: 52 x 52\n",
      "M1: 52 x 52 M2: 52 x 52\n",
      "M1: 52 x 52 M2: 52 x 52\n",
      "M1: 52 x 52 M2: 52 x 52\n",
      "M1: 52 x 52 M2: 52 x 52\n",
      "M1: 52 x 52 M2: 52 x 52\n",
      "M1: 52 x 52 M2: 52 x 52\n",
      "M1: 52 x 52 M2: 52 x 52\n",
      "M1: 52 x 52 M2: 52 x 52\n"
     ]
    },
    {
     "name": "stderr",
     "output_type": "stream",
     "text": [
      "Procesando pares:  92%|█████████▏| 1412/1539 [00:15<00:02, 57.93it/s]"
     ]
    },
    {
     "name": "stdout",
     "output_type": "stream",
     "text": [
      "M1: 52 x 52 M2: 52 x 52\n",
      "M1: 52 x 52 M2: 52 x 52\n",
      "M1: 52 x 52 M2: 52 x 52\n",
      "M1: 52 x 52 M2: 52 x 52\n",
      "M1: 52 x 52 M2: 52 x 52\n",
      "M1: 52 x 52 M2: 52 x 52\n",
      "M1: 52 x 52 M2: 52 x 52\n",
      "M1: 52 x 52 M2: 52 x 52\n",
      "M1: 52 x 52 M2: 52 x 52\n",
      "M1: 52 x 52 M2: 52 x 52\n",
      "M1: 52 x 52 M2: 52 x 52\n",
      "M1: 52 x 52 M2: 52 x 52\n"
     ]
    },
    {
     "name": "stderr",
     "output_type": "stream",
     "text": [
      "Procesando pares:  92%|█████████▏| 1419/1539 [00:15<00:02, 52.97it/s]"
     ]
    },
    {
     "name": "stdout",
     "output_type": "stream",
     "text": [
      "M1: 52 x 52 M2: 52 x 52\n",
      "M1: 52 x 52 M2: 52 x 52\n",
      "M1: 52 x 52 M2: 52 x 52\n",
      "M1: 52 x 52 M2: 52 x 52\n",
      "M1: 52 x 52 M2: 52 x 52\n",
      "M1: 52 x 52 M2: 52 x 52\n",
      "M1: 52 x 52 M2: 52 x 52\n",
      "M1: 52 x 52 M2: 52 x 52\n",
      "M1: 52 x 52 M2: 52 x 52\n",
      "M1: 52 x 52 M2: 52 x 52\n"
     ]
    },
    {
     "name": "stderr",
     "output_type": "stream",
     "text": [
      "Procesando pares:  93%|█████████▎| 1431/1539 [00:16<00:02, 51.69it/s]"
     ]
    },
    {
     "name": "stdout",
     "output_type": "stream",
     "text": [
      "M1: 52 x 52 M2: 52 x 52\n",
      "M1: 52 x 52 M2: 52 x 52\n",
      "M1: 52 x 52 M2: 52 x 52\n",
      "M1: 52 x 52 M2: 52 x 52\n",
      "M1: 52 x 52 M2: 52 x 52\n",
      "M1: 52 x 52 M2: 52 x 52\n",
      "M1: 52 x 52 M2: 52 x 52\n",
      "M1: 52 x 52 M2: 52 x 52\n",
      "M1: 52 x 52 M2: 52 x 52\n",
      "M1: 52 x 52 M2: 52 x 52\n",
      "M1: 52 x 52 M2: 52 x 52\n",
      "M1: 52 x 52 M2: 52 x 52\n",
      "M1: 52 x 52 M2: 52 x 52\n"
     ]
    },
    {
     "name": "stderr",
     "output_type": "stream",
     "text": [
      "Procesando pares:  94%|█████████▍| 1446/1539 [00:16<00:01, 60.36it/s]"
     ]
    },
    {
     "name": "stdout",
     "output_type": "stream",
     "text": [
      "M1: 52 x 52 M2: 52 x 52\n",
      "M1: 52 x 52 M2: 52 x 52\n",
      "M1: 52 x 52 M2: 52 x 52\n",
      "M1: 52 x 52 M2: 52 x 52\n",
      "M1: 52 x 52 M2: 52 x 52\n",
      "M1: 52 x 52 M2: 52 x 52\n",
      "M1: 52 x 52 M2: 52 x 52\n",
      "M1: 52 x 52 M2: 52 x 52\n",
      "M1: 52 x 52 M2: 52 x 52\n",
      "M1: 52 x 52 M2: 52 x 52\n",
      "M1: 52 x 52 M2: 52 x 52\n",
      "M1: 52 x 52 M2: 52 x 52\n",
      "M1: 52 x 52 M2: 52 x 52\n",
      "M1: 52 x 52 M2: 52 x 52\n"
     ]
    },
    {
     "name": "stderr",
     "output_type": "stream",
     "text": [
      "Procesando pares:  95%|█████████▍| 1460/1539 [00:16<00:01, 58.03it/s]"
     ]
    },
    {
     "name": "stdout",
     "output_type": "stream",
     "text": [
      "M1: 52 x 52 M2: 52 x 52\n",
      "M1: 52 x 52 M2: 52 x 52\n",
      "M1: 52 x 52 M2: 52 x 52\n",
      "M1: 52 x 52 M2: 52 x 52\n",
      "M1: 52 x 52 M2: 52 x 52\n",
      "M1: 52 x 52 M2: 52 x 52\n",
      "M1: 52 x 52 M2: 52 x 52\n",
      "M1: 52 x 52 M2: 52 x 52\n",
      "M1: 52 x 52 M2: 52 x 52\n",
      "M1: 52 x 52 M2: 52 x 52\n",
      "M1: 52 x 52 M2: 52 x 52\n"
     ]
    },
    {
     "name": "stderr",
     "output_type": "stream",
     "text": [
      "Procesando pares:  96%|█████████▌| 1470/1539 [00:16<00:01, 66.17it/s]"
     ]
    },
    {
     "name": "stdout",
     "output_type": "stream",
     "text": [
      "M1: 52 x 52 M2: 52 x 52\n",
      "M1: 52 x 52 M2: 52 x 52\n",
      "M1: 52 x 52 M2: 52 x 52\n",
      "M1: 52 x 52 M2: 52 x 52\n",
      "M1: 52 x 52 M2: 52 x 52\n",
      "M1: 52 x 52 M2: 52 x 52\n",
      "M1: 52 x 52 M2: 52 x 52\n",
      "M1: 52 x 52 M2: 52 x 52\n",
      "M1: 52 x 52 M2: 52 x 52\n",
      "M1: 52 x 52 M2: 52 x 52\n",
      "M1: 52 x 52 M2: 52 x 52\n",
      "M1: 52 x 52 M2: 52 x 52\n",
      "M1: 52 x 52 M2: 52 x 52\n",
      "M1: 52 x 52 M2: 52 x 52\n",
      "M1: 52 x 52 M2: 52 x 52\n",
      "M1: 52 x 52 M2: 52 x 52\n"
     ]
    },
    {
     "name": "stderr",
     "output_type": "stream",
     "text": [
      "Procesando pares:  96%|█████████▋| 1485/1539 [00:16<00:00, 64.00it/s]"
     ]
    },
    {
     "name": "stdout",
     "output_type": "stream",
     "text": [
      "M1: 52 x 52 M2: 52 x 52\n",
      "M1: 52 x 52 M2: 52 x 52\n",
      "M1: 52 x 52 M2: 52 x 52\n",
      "M1: 52 x 52 M2: 52 x 52\n",
      "M1: 52 x 52 M2: 52 x 52\n",
      "M1: 52 x 52 M2: 52 x 52\n",
      "M1: 52 x 52 M2: 52 x 52\n",
      "M1: 52 x 52 M2: 52 x 52\n",
      "M1: 52 x 52 M2: 52 x 52\n",
      "M1: 52 x 52 M2: 52 x 52\n",
      "M1: 52 x 52 M2: 52 x 52\n",
      "M1: 52 x 52 M2: 52 x 52\n",
      "M1: 52 x 52 M2: 52 x 52\n"
     ]
    },
    {
     "name": "stderr",
     "output_type": "stream",
     "text": [
      "Procesando pares:  97%|█████████▋| 1500/1539 [00:17<00:00, 64.07it/s]"
     ]
    },
    {
     "name": "stdout",
     "output_type": "stream",
     "text": [
      "M1: 52 x 52 M2: 52 x 52\n",
      "M1: 52 x 52 M2: 52 x 52\n",
      "M1: 52 x 52 M2: 52 x 52\n",
      "M1: 52 x 52 M2: 52 x 52\n",
      "M1: 52 x 52 M2: 52 x 52\n",
      "M1: 52 x 52 M2: 52 x 52\n",
      "M1: 52 x 52 M2: 52 x 52\n",
      "M1: 52 x 52 M2: 52 x 52\n",
      "M1: 52 x 52 M2: 52 x 52\n",
      "M1: 52 x 52 M2: 52 x 52\n",
      "M1: 52 x 52 M2: 52 x 52\n",
      "M1: 52 x 52 M2: 52 x 52\n",
      "M1: 52 x 52 M2: 52 x 52\n",
      "M1: 52 x 52 M2: 52 x 52\n",
      "M1: 52 x 52 M2: 52 x 52\n",
      "M1: 52 x 52 M2: 52 x 52\n"
     ]
    },
    {
     "name": "stderr",
     "output_type": "stream",
     "text": [
      "Procesando pares:  98%|█████████▊| 1514/1539 [00:17<00:00, 55.30it/s]"
     ]
    },
    {
     "name": "stdout",
     "output_type": "stream",
     "text": [
      "M1: 52 x 52 M2: 52 x 52\n",
      "M1: 52 x 52 M2: 52 x 52\n",
      "M1: 52 x 52 M2: 52 x 52\n",
      "M1: 52 x 52 M2: 52 x 52\n",
      "M1: 52 x 52 M2: 52 x 52\n",
      "M1: 52 x 52 M2: 52 x 52\n",
      "M1: 52 x 52 M2: 52 x 52\n",
      "M1: 52 x 52 M2: 52 x 52\n",
      "M1: 52 x 52 M2: 52 x 52\n"
     ]
    },
    {
     "name": "stderr",
     "output_type": "stream",
     "text": [
      "Procesando pares:  99%|█████████▉| 1520/1539 [00:17<00:00, 50.02it/s]"
     ]
    },
    {
     "name": "stdout",
     "output_type": "stream",
     "text": [
      "M1: 52 x 52 M2: 52 x 52\n",
      "M1: 52 x 52 M2: 52 x 52\n",
      "M1: 52 x 52 M2: 52 x 52\n",
      "M1: 52 x 52 M2: 52 x 52\n",
      "M1: 52 x 52 M2: 52 x 52\n",
      "M1: 52 x 52 M2: 52 x 52\n",
      "M1: 52 x 52 M2: 52 x 52\n",
      "M1: 52 x 52 M2: 52 x 52\n",
      "M1: 52 x 52 M2: 52 x 52\n",
      "M1: 52 x 52 M2: 52 x 52\n"
     ]
    },
    {
     "name": "stderr",
     "output_type": "stream",
     "text": [
      "Procesando pares: 100%|██████████| 1539/1539 [00:17<00:00, 85.91it/s]"
     ]
    },
    {
     "name": "stdout",
     "output_type": "stream",
     "text": [
      "M1: 52 x 52 M2: 52 x 52\n",
      "M1: 52 x 52 M2: 52 x 52\n",
      "M1: 52 x 52 M2: 52 x 52\n",
      "M1: 52 x 52 M2: 52 x 52\n",
      "M1: 52 x 52 M2: 52 x 52\n",
      "M1: 52 x 52 M2: 52 x 52\n",
      "M1: 52 x 52 M2: 52 x 52\n",
      "M1: 52 x 52 M2: 52 x 52\n",
      "M1: 52 x 52 M2: 52 x 52\n",
      "M1: 52 x 52 M2: 52 x 52\n",
      "M1: 52 x 52 M2: 52 x 52\n",
      "M1: 52 x 52 M2: 52 x 52\n",
      "M1: 52 x 52 M2: 52 x 52\n",
      "M1: 52 x 52 M2: 52 x 52\n",
      "M1: 52 x 52 M2: 52 x 52\n"
     ]
    },
    {
     "name": "stderr",
     "output_type": "stream",
     "text": [
      "\n"
     ]
    },
    {
     "name": "stdout",
     "output_type": "stream",
     "text": [
      "✅  dataset.csv generado con 1538 filas\n"
     ]
    }
   ],
   "source": [
    "rows = []\n",
    "total = len(pairs_dict)\n",
    "\n",
    "for pid, info in tqdm(pairs_dict.items(),\n",
    "                      total=total,\n",
    "                      desc=\"Procesando pares\"):\n",
    "    try:\n",
    "        # Codigo y ast\n",
    "        code_a = read_code(info[\"code1\"])\n",
    "        code_b = read_code(info[\"code2\"])\n",
    "        ast_a  = parse_ast(info[\"code1\"])\n",
    "        ast_b  = parse_ast(info[\"code2\"])\n",
    "\n",
    "        # Similitudes\n",
    "        simhash_sim = text_similarity(code_a, code_b)\n",
    "        sim_ast = ast_similarity(code_a, code_b)\n",
    "\n",
    "        # Markov\n",
    "        # flat y serializacion para CSV\n",
    "        M1 = transition_matrix(ast_to_seq(ast_a), VOCAB)\n",
    "        M2 = transition_matrix(ast_to_seq(ast_b), VOCAB)\n",
    "        M1 = np.asarray(M1, dtype=np.float32)\n",
    "        M2 = np.asarray(M2, dtype=np.float32)\n",
    "\n",
    "        rows.append({\n",
    "            \"id\"           : pid,\n",
    "            \"idcode1\"      : info[\"idcode1\"],\n",
    "            \"idcode2\"      : info[\"idcode2\"],\n",
    "            \"code1\"        : info[\"code1\"],   # ruta\n",
    "            \"code2\"        : info[\"code2\"],   # ruta\n",
    "            \"simhash\"      : simhash_sim,\n",
    "            \"astsimilarity\": sim_ast,\n",
    "            \"markov1\"      : mat_to_str(M1),\n",
    "            \"markov2\"      : mat_to_str(M2),\n",
    "            \"dataset\"      : info[\"dataset\"],\n",
    "            \"result\"       : info[\"result\"],\n",
    "        })\n",
    "\n",
    "    except Exception as e:\n",
    "        # Cualquier fallo de parseo/similaridad ⇒ se omite el par\n",
    "        print(f\"⚠️  {pid} omitido ({e})\")\n",
    "\n",
    "# Guarda el CSV\n",
    "import pandas as pd\n",
    "pd.DataFrame(rows).to_csv(\"dataset.csv\", index=False)\n",
    "print(\"✅  dataset.csv generado con\", len(rows), \"filas\")\n"
   ]
  },
  {
   "cell_type": "code",
   "execution_count": null,
   "metadata": {},
   "outputs": [],
   "source": []
  }
 ],
 "metadata": {
  "kernelspec": {
   "display_name": "base",
   "language": "python",
   "name": "python3"
  },
  "language_info": {
   "codemirror_mode": {
    "name": "ipython",
    "version": 3
   },
   "file_extension": ".py",
   "mimetype": "text/x-python",
   "name": "python",
   "nbconvert_exporter": "python",
   "pygments_lexer": "ipython3",
   "version": "3.9.13"
  }
 },
 "nbformat": 4,
 "nbformat_minor": 2
}
